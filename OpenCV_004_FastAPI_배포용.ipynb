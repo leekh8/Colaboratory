{
  "cells": [
    {
      "cell_type": "markdown",
      "metadata": {
        "id": "view-in-github",
        "colab_type": "text"
      },
      "source": [
        "<a href=\"https://colab.research.google.com/github/leekh8/Colaboratory/blob/main/OpenCV_004_FastAPI_%EB%B0%B0%ED%8F%AC%EC%9A%A9.ipynb\" target=\"_parent\"><img src=\"https://colab.research.google.com/assets/colab-badge.svg\" alt=\"Open In Colab\"/></a>"
      ]
    },
    {
      "cell_type": "markdown",
      "metadata": {
        "id": "KthBx-xmy5yH"
      },
      "source": [
        "<img src=\"https://arome1004.cafe24.com/images/opencv/lecture_image/00_title.png\">"
      ]
    },
    {
      "cell_type": "markdown",
      "metadata": {
        "id": "4HoG_E00y5yK"
      },
      "source": [
        "<table border=1 width=100%>\n",
        "    <tr><td style=\"border: 1px solid black; width:600px; height:40px; text-align: center;\"><font size=4 color=blue><b>[4차시] 학습목표</b></font></td></tr>       \n",
        "    <tr><td style=\"border: 1px solid black; text-align: left;\"><font size=3>\n",
        "        \n",
        "○ 기본적인 FastAPI 사용법 학습하기<br>\n",
        "\n",
        "○ 웹 화면에 카메라 영상 출력하기<br>\n",
        "\n",
        "○ 웹 출력 영상을 Gray 이미지로 출력하기        \n",
        "</font></td></tr>   \n",
        "</table>"
      ]
    },
    {
      "cell_type": "markdown",
      "metadata": {
        "id": "UceSEHqTy5yL"
      },
      "source": [
        "# FastAPI 설치 및 서버 실행하기\n",
        "\n",
        "- <font color=red>FastAPI</font> : Sebastián Ramírez란 사람이 만든 파이썬 기반 오픈소스 웹 프레임워크\n",
        "  - 파이썬 3.6 이상\n",
        "  - 빠른(고성능) API 서버 웹 프레임워크\n",
        "  - Flask나 Django보다 단순하고 배우기 쉬움\n",
        "  - GitHub : https://github.com/tiangolo/fastapi\n",
        "  - 튜토리얼 : https://fastapi.tiangolo.com/ko/\n",
        "  - 다양한 형태의 Response : https://fastapi.tiangolo.com/ko/advanced/custom-response/\n",
        "\n",
        "\n",
        "- ASGI(Asynchronous Server Gateway Interface) : 비동기 Python 웹 서버  \n",
        "  - 동기(synchronous) 처리 : 특정 작업이 끝나면 다음 작업을 처리하는 순차처리 방식\n",
        "    - 파이썬은 기본적으로 동기 방식으로 동작\n",
        "  - 비동기(asynchronous) 처리 : 여러 작업을 처리하도록 예약한 뒤 작업이 끝나면 결과를 받는 방식\n",
        "    - 스레드 하나로 동시 처리를 하기 위한 것\n",
        "\n",
        "  <img src=\"https://arome1004.cafe24.com/images/opencv/lecture_image/04_fastapi06.png\" width=50%>  \n",
        "  \n",
        "\n",
        "- <font color=red>pyngrok</font> : 방화벽을 넘어서 외부에서 로컬에 접속 가능하게 하는 터널 프로그램\n",
        "\n",
        "\n",
        "- <font color=red>asyncio</font> : Python 표준 라이브러리와 함께 제공되는 비동기 I/O 프레임워크로 파이썬 3.4에서 추가\n",
        "\n",
        "\n",
        "- <font color=red>async / await</font> : 비동기(Asynchronous) 처리를 위해 파이썬 3.5에서 추가한 구문\n",
        "  - async : 비동기 함수를 생성하는 명령\n",
        "  - await : 비동기 함수를 호출하는 명령\n",
        "  \n",
        "  \n",
        "- <font color=red>nest_asyncio</font> : 비동기 방식에서 이벤트가 중첩되는 것을 허용하는 기능을 제공하는 라이브러리\n",
        "  \n",
        "  \n",
        "- <font color=red>uvloop</font> : asyncio를 대체하기 위해 제작\n",
        "  - 동기 함수 내에서 비동기 함수를 호출하려면 asyncio 라이브러리의 이벤트 루프를 이용하는 데 이를 대신하는 기능\n",
        "  \n",
        "  - Cython으로 작성\n",
        "  - libuv 위에 구축 (libuv : nodejs에서 사용하는 고성능 다중 플랫폼 비동기 I / O 라이브러리)\n",
        "  - 성능상에서 nodejs, gevent 및 기타 Python 비동기 프레임 워크보다 2배 이상 빠름\n",
        "    \n",
        "  \n",
        "- <font color=red>uvicorn</font> : uvloop 및 httptools를 사용하여 만든 빠른 ASGI (Asynchronous Server Gateway Inteface) 서버\n",
        "  - 다양한 관리 기능으로 fastapi와 함께 사용\n",
        "  - HTTP / 1.1 및 WebSocket을 지원"
      ]
    },
    {
      "cell_type": "code",
      "source": [
        "from google.colab import drive\n",
        "drive.mount('/content/drive')\n",
        "%cd '/content/drive/MyDrive/Colab Notebooks/Colaboratory/AISchool/'"
      ],
      "metadata": {
        "colab": {
          "base_uri": "https://localhost:8080/"
        },
        "id": "1K9Vnd-l2lCw",
        "outputId": "cb014f0c-a871-4227-beb4-e4e1ea08f4aa"
      },
      "execution_count": 22,
      "outputs": [
        {
          "output_type": "stream",
          "name": "stdout",
          "text": [
            "Drive already mounted at /content/drive; to attempt to forcibly remount, call drive.mount(\"/content/drive\", force_remount=True).\n",
            "/content/drive/MyDrive/Colab Notebooks/Colaboratory/AISchool\n"
          ]
        }
      ]
    },
    {
      "cell_type": "markdown",
      "metadata": {
        "id": "fGitdD6Ly5yM"
      },
      "source": [
        "## 동기 프로그래밍"
      ]
    },
    {
      "cell_type": "code",
      "execution_count": null,
      "metadata": {
        "id": "cS95G7XAy5yM",
        "colab": {
          "base_uri": "https://localhost:8080/"
        },
        "outputId": "2d968ad8-54e8-460b-b660-9d7815a26429"
      },
      "outputs": [
        {
          "output_type": "stream",
          "name": "stdout",
          "text": [
            "5명 중 1 번째 사용자 조회 중\n",
            "5명 중 2 번째 사용자 조회 중\n",
            "5명 중 3 번째 사용자 조회 중\n",
            "5명 중 4 번째 사용자 조회 중\n",
            "5명 중 5 번째 사용자 조회 중\n",
            "총 5명의 사용자 조회 완료\n"
          ]
        }
      ],
      "source": [
        "#실습\n",
        "import time\n",
        "\n",
        "def find_users_sync(n):\n",
        "  for i in range(1, n+1):\n",
        "    print(f\"{n}명 중 {i} 번째 사용자 조회 중\")\n",
        "    time.sleep(1)\n",
        "\n",
        "  print(f\"총 {n}명의 사용자 조회 완료\")\n",
        "\n",
        "find_users_sync(5)"
      ]
    },
    {
      "cell_type": "markdown",
      "metadata": {
        "id": "_Dxl5rFFy5yN"
      },
      "source": [
        "- 3개의 요청을 동기 처리"
      ]
    },
    {
      "cell_type": "code",
      "execution_count": null,
      "metadata": {
        "id": "ccWV9K2ry5yO",
        "colab": {
          "base_uri": "https://localhost:8080/"
        },
        "outputId": "3e93f1df-0d2c-4257-96ab-aeee823fe9b5"
      },
      "outputs": [
        {
          "output_type": "stream",
          "name": "stdout",
          "text": [
            "3명 중 1 번째 사용자 조회 중\n",
            "3명 중 2 번째 사용자 조회 중\n",
            "3명 중 3 번째 사용자 조회 중\n",
            "총 3명의 사용자 조회 완료\n",
            "2명 중 1 번째 사용자 조회 중\n",
            "2명 중 2 번째 사용자 조회 중\n",
            "총 2명의 사용자 조회 완료\n",
            "1명 중 1 번째 사용자 조회 중\n",
            "총 1명의 사용자 조회 완료\n",
            "동기 처리 시 소요시간: 6.007686376571655\n"
          ]
        }
      ],
      "source": [
        "#실습\n",
        "def process_sync():\n",
        "  start = time.time()\n",
        "\n",
        "  find_users_sync(3)\n",
        "  find_users_sync(2)\n",
        "  find_users_sync(1)\n",
        "\n",
        "  end = time.time()\n",
        "\n",
        "  print(f\"동기 처리 시 소요시간: {end - start}\")\n",
        "\n",
        "process_sync()"
      ]
    },
    {
      "cell_type": "markdown",
      "metadata": {
        "id": "PGumGt5qy5yO"
      },
      "source": [
        "## 비동기 프로그래밍"
      ]
    },
    {
      "cell_type": "code",
      "execution_count": null,
      "metadata": {
        "id": "1XDA0oHXy5yO",
        "colab": {
          "base_uri": "https://localhost:8080/"
        },
        "outputId": "1af21ad5-7290-47d3-acda-a5e2b1834e0b"
      },
      "outputs": [
        {
          "output_type": "stream",
          "name": "stdout",
          "text": [
            "Requirement already satisfied: nest_asyncio in /usr/local/lib/python3.10/dist-packages (1.5.7)\n"
          ]
        }
      ],
      "source": [
        "#실습\n",
        "!pip install nest_asyncio"
      ]
    },
    {
      "cell_type": "code",
      "execution_count": null,
      "metadata": {
        "id": "_S-Wo4K9y5yP",
        "colab": {
          "base_uri": "https://localhost:8080/"
        },
        "outputId": "d8b7c33e-19f5-4569-ee69-68e98d486bc1"
      },
      "outputs": [
        {
          "output_type": "execute_result",
          "data": {
            "text/plain": [
              "<coroutine object find_users_async at 0x7b9caec5f920>"
            ]
          },
          "metadata": {},
          "execution_count": 7
        }
      ],
      "source": [
        "#실습\n",
        "import time\n",
        "import asyncio\n",
        "\n",
        "async def find_users_async(n):\n",
        "  for i in range(1, n+1):\n",
        "    print(f\"{n}명 중 {i} 번째 사용자 조회 중\")\n",
        "    await asyncio.sleep(1)\n",
        "\n",
        "  print(f\"총 {n}명의 사용자 조회 완료\")\n",
        "\n",
        "find_users_async(5)"
      ]
    },
    {
      "cell_type": "markdown",
      "source": [
        "# 비동기 함수 호출하기\n",
        "- ## await: 1개의 비동기 함수 호출\n",
        "- ## await asyncio.wait(): 여러개의 비동기 함수 호출\n",
        "- ## asyncio.run(): 비동기 함수 실행"
      ],
      "metadata": {
        "id": "OY4kqU9G5y6I"
      }
    },
    {
      "cell_type": "code",
      "source": [
        "import nest_asyncio\n",
        "\n",
        "# 작업 간 메시지 교환이 되도록 설정\n",
        "nest_asyncio.apply()\n",
        "\n",
        "async def process_async():\n",
        "  start = time.time()\n",
        "\n",
        "  # 여러개의 비동기 함수 호출\n",
        "  await asyncio.wait(\n",
        "      [find_users_async(3),\n",
        "       find_users_async(2),\n",
        "       find_users_async(1)])\n",
        "\n",
        "  end = time.time()\n",
        "\n",
        "  print(f\"비동기 처리 시 소요시간: {end - start}\")\n",
        "\n",
        "asyncio.run(process_async())"
      ],
      "metadata": {
        "colab": {
          "base_uri": "https://localhost:8080/"
        },
        "id": "ohI1-8wv6SEB",
        "outputId": "5c50739a-c541-4002-9fcd-e6df5bf4be82"
      },
      "execution_count": null,
      "outputs": [
        {
          "output_type": "stream",
          "name": "stderr",
          "text": [
            "<ipython-input-9-f7963a81dfa4>:10: DeprecationWarning: The explicit passing of coroutine objects to asyncio.wait() is deprecated since Python 3.8, and scheduled for removal in Python 3.11.\n",
            "  await asyncio.wait(\n"
          ]
        },
        {
          "output_type": "stream",
          "name": "stdout",
          "text": [
            "1명 중 1 번째 사용자 조회 중\n",
            "3명 중 1 번째 사용자 조회 중\n",
            "2명 중 1 번째 사용자 조회 중\n",
            "총 1명의 사용자 조회 완료\n",
            "3명 중 2 번째 사용자 조회 중\n",
            "2명 중 2 번째 사용자 조회 중\n",
            "3명 중 3 번째 사용자 조회 중\n",
            "총 2명의 사용자 조회 완료\n",
            "총 3명의 사용자 조회 완료\n",
            "비동기 처리 시 소요시간: 3.005168914794922\n"
          ]
        }
      ]
    },
    {
      "cell_type": "markdown",
      "metadata": {
        "id": "I15v4gk3y5yP"
      },
      "source": [
        "##  FastAPI 설치하기"
      ]
    },
    {
      "cell_type": "code",
      "execution_count": null,
      "metadata": {
        "id": "XgOdlNfky5yP",
        "colab": {
          "base_uri": "https://localhost:8080/"
        },
        "outputId": "900eaf12-17e7-477d-be47-a51a5f809240"
      },
      "outputs": [
        {
          "output_type": "stream",
          "name": "stdout",
          "text": [
            "Collecting fastapi\n",
            "  Downloading fastapi-0.103.1-py3-none-any.whl (66 kB)\n",
            "\u001b[2K     \u001b[90m━━━━━━━━━━━━━━━━━━━━━━━━━━━━━━━━━━━━━━━━\u001b[0m \u001b[32m66.2/66.2 kB\u001b[0m \u001b[31m1.4 MB/s\u001b[0m eta \u001b[36m0:00:00\u001b[0m\n",
            "\u001b[?25hCollecting uvicorn\n",
            "  Downloading uvicorn-0.23.2-py3-none-any.whl (59 kB)\n",
            "\u001b[2K     \u001b[90m━━━━━━━━━━━━━━━━━━━━━━━━━━━━━━━━━━━━━━━━\u001b[0m \u001b[32m59.5/59.5 kB\u001b[0m \u001b[31m2.5 MB/s\u001b[0m eta \u001b[36m0:00:00\u001b[0m\n",
            "\u001b[?25hCollecting pyngrok\n",
            "  Downloading pyngrok-6.1.0.tar.gz (698 kB)\n",
            "\u001b[2K     \u001b[90m━━━━━━━━━━━━━━━━━━━━━━━━━━━━━━━━━━━━━━━\u001b[0m \u001b[32m698.7/698.7 kB\u001b[0m \u001b[31m5.6 MB/s\u001b[0m eta \u001b[36m0:00:00\u001b[0m\n",
            "\u001b[?25h  Preparing metadata (setup.py) ... \u001b[?25l\u001b[?25hdone\n",
            "Requirement already satisfied: nest_asyncio in /usr/local/lib/python3.10/dist-packages (1.5.7)\n",
            "Requirement already satisfied: anyio<4.0.0,>=3.7.1 in /usr/local/lib/python3.10/dist-packages (from fastapi) (3.7.1)\n",
            "Requirement already satisfied: pydantic!=1.8,!=1.8.1,!=2.0.0,!=2.0.1,!=2.1.0,<3.0.0,>=1.7.4 in /usr/local/lib/python3.10/dist-packages (from fastapi) (1.10.12)\n",
            "Collecting starlette<0.28.0,>=0.27.0 (from fastapi)\n",
            "  Downloading starlette-0.27.0-py3-none-any.whl (66 kB)\n",
            "\u001b[2K     \u001b[90m━━━━━━━━━━━━━━━━━━━━━━━━━━━━━━━━━━━━━━━━\u001b[0m \u001b[32m67.0/67.0 kB\u001b[0m \u001b[31m5.9 MB/s\u001b[0m eta \u001b[36m0:00:00\u001b[0m\n",
            "\u001b[?25hRequirement already satisfied: typing-extensions>=4.5.0 in /usr/local/lib/python3.10/dist-packages (from fastapi) (4.5.0)\n",
            "Requirement already satisfied: click>=7.0 in /usr/local/lib/python3.10/dist-packages (from uvicorn) (8.1.7)\n",
            "Collecting h11>=0.8 (from uvicorn)\n",
            "  Downloading h11-0.14.0-py3-none-any.whl (58 kB)\n",
            "\u001b[2K     \u001b[90m━━━━━━━━━━━━━━━━━━━━━━━━━━━━━━━━━━━━━━━━\u001b[0m \u001b[32m58.3/58.3 kB\u001b[0m \u001b[31m5.1 MB/s\u001b[0m eta \u001b[36m0:00:00\u001b[0m\n",
            "\u001b[?25hRequirement already satisfied: PyYAML in /usr/local/lib/python3.10/dist-packages (from pyngrok) (6.0.1)\n",
            "Requirement already satisfied: idna>=2.8 in /usr/local/lib/python3.10/dist-packages (from anyio<4.0.0,>=3.7.1->fastapi) (3.4)\n",
            "Requirement already satisfied: sniffio>=1.1 in /usr/local/lib/python3.10/dist-packages (from anyio<4.0.0,>=3.7.1->fastapi) (1.3.0)\n",
            "Requirement already satisfied: exceptiongroup in /usr/local/lib/python3.10/dist-packages (from anyio<4.0.0,>=3.7.1->fastapi) (1.1.3)\n",
            "Building wheels for collected packages: pyngrok\n",
            "  Building wheel for pyngrok (setup.py) ... \u001b[?25l\u001b[?25hdone\n",
            "  Created wheel for pyngrok: filename=pyngrok-6.1.0-py3-none-any.whl size=20583 sha256=8f4fec1c4faeaddc95e3b2802e17e6fee6d3953943a2977b908c750b4077902d\n",
            "  Stored in directory: /root/.cache/pip/wheels/d8/2d/7a/97a039fca211fa789bffad50ff97dca13c01e9b83e8879f503\n",
            "Successfully built pyngrok\n",
            "Installing collected packages: pyngrok, h11, uvicorn, starlette, fastapi\n",
            "Successfully installed fastapi-0.103.1 h11-0.14.0 pyngrok-6.1.0 starlette-0.27.0 uvicorn-0.23.2\n"
          ]
        }
      ],
      "source": [
        "!pip install fastapi uvicorn pyngrok nest_asyncio"
      ]
    },
    {
      "cell_type": "markdown",
      "metadata": {
        "id": "y9udHaMby5yP"
      },
      "source": [
        "## FastAPI 서버 실행하기\n",
        "\n",
        "- 참고 : https://blog.naver.com/PostView.naver?blogId=duqrlwjddns1&logNo=222268635237&parentCategoryNo=&categoryNo=&viewDate=&isShowPopularPosts=false&from=postView\n",
        "\n",
        "\n",
        "- 비동기 처리(asyncio)는 Jupyter Notebook 환경에서 지원하지 않음\n",
        "\n",
        "\n",
        "- <font color=red>app = FastAPI()</font> : FastAPI 객체를 app 변수에 할당\n",
        "- <font color=red>nest_asyncio.apply()</font> : 이벤트 루프\n",
        "- <font color=red>@app.get(\"/\")</font> : GET 메소드로 root url을 접속하는 경우\n",
        "- <font color=red>async def root()</font> : root() 비동기 함수 (native coroutine)을 만듬\n",
        "- <font color=red>return {\"message\": \"Hello World\"}</font> : message 변수로 해당 값을 JSON 형태로 반환\n",
        "- <font color=red>uvicorn.run(app, host=\"127.0.0.1\", port=8000)</font> : app 객체에 IP와 Port 설정\n",
        "\n",
        "<img src=\"https://arome1004.cafe24.com/images/opencv/lecture_image/04_fastapi01.png\" width=50%>"
      ]
    },
    {
      "cell_type": "code",
      "execution_count": null,
      "metadata": {
        "scrolled": true,
        "id": "shiMBB8Ay5yP",
        "colab": {
          "base_uri": "https://localhost:8080/",
          "height": 208
        },
        "outputId": "b17b974a-c244-4565-9a54-c57259254ff2"
      },
      "outputs": [
        {
          "output_type": "stream",
          "name": "stdout",
          "text": [
            "https://pi4kw8px99s-496ff2e9c6d22116-5000-colab.googleusercontent.com/\n"
          ]
        },
        {
          "output_type": "stream",
          "name": "stderr",
          "text": [
            "INFO:     Started server process [195]\n",
            "INFO:     Waiting for application startup.\n",
            "INFO:     Application startup complete.\n",
            "INFO:     Uvicorn running on http://127.0.0.1:5000 (Press CTRL+C to quit)\n"
          ]
        },
        {
          "output_type": "stream",
          "name": "stdout",
          "text": [
            "INFO:     127.0.0.1:45476 - \"GET / HTTP/1.1\" 200 OK\n",
            "INFO:     127.0.0.1:45486 - \"GET /favicon.ico HTTP/1.1\" 404 Not Found\n"
          ]
        },
        {
          "output_type": "stream",
          "name": "stderr",
          "text": [
            "INFO:     Shutting down\n",
            "INFO:     Waiting for application shutdown.\n",
            "INFO:     Application shutdown complete.\n",
            "INFO:     Finished server process [195]\n"
          ]
        }
      ],
      "source": [
        "#실습\n",
        "from fastapi import FastAPI\n",
        "import nest_asyncio\n",
        "import uvicorn\n",
        "from google.colab.output import eval_js\n",
        "\n",
        "# colab의 proxy 주소 출력\n",
        "print(eval_js(\"google.colab.kernel.proxyPort(5000)\"))\n",
        "\n",
        "# FastAPI 초기화\n",
        "app = FastAPI()\n",
        "\n",
        "# 메시지 루프 시작\n",
        "nest_asyncio.apply()\n",
        "\n",
        "# 웹 서버 설정\n",
        "@app.get(\"/\")\n",
        "async def root():\n",
        "  return {\"message\" : \"Hello~ World~\"}\n",
        "\n",
        "# 해당 코드를 단독으로 구동하려고 할 때 사용\n",
        "if __name__ == \"__main__\":\n",
        "  uvicorn.run(app, host = \"127.0.0.1\", port = 5000)"
      ]
    },
    {
      "cell_type": "markdown",
      "metadata": {
        "id": "ysXXPfumy5yQ"
      },
      "source": [
        "### URL를 함수로 연결하기\n",
        "\n",
        "- <font color=red>@app.get(\"/hello\")</font>\n",
        "  - URL에  함수명을 설정\n",
        "  - 브라우저에서 IP와 포트로 서버 접속하고 URL로 함수명을 넘김\n",
        "  \n",
        "  <img src=\"https://arome1004.cafe24.com/images/opencv/lecture_image/04_fastapi02.png\" width=50%>"
      ]
    },
    {
      "cell_type": "code",
      "execution_count": 21,
      "metadata": {
        "id": "gaR-TaZ1y5yQ",
        "colab": {
          "base_uri": "https://localhost:8080/",
          "height": 243
        },
        "outputId": "61a5a705-2256-4b2e-e4d8-5e75c74a88af"
      },
      "outputs": [
        {
          "output_type": "stream",
          "name": "stdout",
          "text": [
            "https://u0h6fgipdp-496ff2e9c6d22116-5000-colab.googleusercontent.com/\n"
          ]
        },
        {
          "output_type": "stream",
          "name": "stderr",
          "text": [
            "INFO:     Started server process [195]\n",
            "INFO:     Waiting for application startup.\n",
            "INFO:     Application startup complete.\n",
            "INFO:     Uvicorn running on http://127.0.0.1:5000 (Press CTRL+C to quit)\n"
          ]
        },
        {
          "output_type": "stream",
          "name": "stdout",
          "text": [
            "INFO:     127.0.0.1:43796 - \"GET / HTTP/1.1\" 200 OK\n",
            "INFO:     127.0.0.1:43806 - \"GET /favicon.ico HTTP/1.1\" 404 Not Found\n",
            "INFO:     127.0.0.1:43808 - \"GET /hello/500 HTTP/1.1\" 200 OK\n",
            "INFO:     127.0.0.1:43820 - \"GET /favicon.ico HTTP/1.1\" 404 Not Found\n"
          ]
        },
        {
          "output_type": "stream",
          "name": "stderr",
          "text": [
            "INFO:     Shutting down\n",
            "INFO:     Waiting for application shutdown.\n",
            "INFO:     Application shutdown complete.\n",
            "INFO:     Finished server process [195]\n"
          ]
        }
      ],
      "source": [
        "#실습\n",
        "from fastapi import FastAPI\n",
        "import nest_asyncio\n",
        "import uvicorn\n",
        "from google.colab.output import eval_js\n",
        "\n",
        "# colab의 proxy 주소 출력\n",
        "print(eval_js(\"google.colab.kernel.proxyPort(5000)\"))\n",
        "\n",
        "# FastAPI 초기화\n",
        "app = FastAPI()\n",
        "\n",
        "# 메시지 루프 시작\n",
        "nest_asyncio.apply()\n",
        "\n",
        "# 웹 서버 설정\n",
        "@app.get(\"/\")\n",
        "async def root():\n",
        "  return {\"message\" : \"Hello~ World~\"}\n",
        "\n",
        "@app.get(\"/hello\")\n",
        "async def hello():\n",
        "  return {\"message\" : \"방가방갑습니다\"}\n",
        "\n",
        "@app.get(\"/hello/{val}\")\n",
        "async def hello(val):\n",
        "  return {\"message\" : \"방가방갑습니다 => \" + val}\n",
        "\n",
        "# 해당 코드를 단독으로 구동하려고 할 때 사용\n",
        "if __name__ == \"__main__\":\n",
        "  uvicorn.run(app, host = \"127.0.0.1\", port = 5000)"
      ]
    },
    {
      "cell_type": "code",
      "source": [
        "%%writefile ./templates/hello.html\n",
        "<html><body>\n",
        "<fint size=10 color=red>Hello World !!</font>\n",
        "</body></html>"
      ],
      "metadata": {
        "colab": {
          "base_uri": "https://localhost:8080/"
        },
        "id": "CsddpCQIM5Q3",
        "outputId": "e9c9691a-801b-4f20-e402-c401bcbaa648"
      },
      "execution_count": 23,
      "outputs": [
        {
          "output_type": "stream",
          "name": "stdout",
          "text": [
            "Writing ./templates/hello.html\n"
          ]
        }
      ]
    },
    {
      "cell_type": "code",
      "source": [
        "from fastapi import FastAPI\n",
        "import nest_asyncio\n",
        "import uvicorn\n",
        "from google.colab.output import eval_js\n",
        "from fastapi.responses import FileResponse\n",
        "\n",
        "# colab proxy 주소 출력\n",
        "print(eval_js(\"google.colab.kernel.proxyPort(5000)\"))\n",
        "\n",
        "#FastAPI 초기화\n",
        "app=FastAPI()\n",
        "\n",
        "#메시지 루프시작\n",
        "nest_asyncio.apply()\n",
        "\n",
        "# 웹 서버 설정\n",
        "@app.get(\"/\", response_class=FileResponse)\n",
        "async def root() :\n",
        "  return \"./templates/hello.html\"\n",
        "\n",
        "# 해당 코드를 단독으로 구동하고자 할 때 사용\n",
        "if __name__ == \"__main__\" :\n",
        "  uvicorn.run(app, host=\"127.0.0.1\", port=5000)"
      ],
      "metadata": {
        "colab": {
          "base_uri": "https://localhost:8080/",
          "height": 208
        },
        "id": "dfBY5CJaMxah",
        "outputId": "3d6d3706-70be-4f63-e389-3343a821d241"
      },
      "execution_count": 24,
      "outputs": [
        {
          "output_type": "stream",
          "name": "stdout",
          "text": [
            "https://u0h6fgipdp-496ff2e9c6d22116-5000-colab.googleusercontent.com/\n"
          ]
        },
        {
          "output_type": "stream",
          "name": "stderr",
          "text": [
            "INFO:     Started server process [195]\n",
            "INFO:     Waiting for application startup.\n",
            "INFO:     Application startup complete.\n",
            "INFO:     Uvicorn running on http://127.0.0.1:5000 (Press CTRL+C to quit)\n"
          ]
        },
        {
          "output_type": "stream",
          "name": "stdout",
          "text": [
            "INFO:     127.0.0.1:38120 - \"GET / HTTP/1.1\" 200 OK\n",
            "INFO:     127.0.0.1:38130 - \"GET /favicon.ico HTTP/1.1\" 404 Not Found\n"
          ]
        },
        {
          "output_type": "stream",
          "name": "stderr",
          "text": [
            "INFO:     Shutting down\n",
            "INFO:     Waiting for application shutdown.\n",
            "INFO:     Application shutdown complete.\n",
            "INFO:     Finished server process [195]\n"
          ]
        }
      ]
    },
    {
      "cell_type": "markdown",
      "metadata": {
        "id": "XbxQsmDvy5yQ"
      },
      "source": [
        "### URL을 변수로 사용하기\n",
        "\n",
        "- <font color=red>@app.get(\"/hello/{value}\")</font>\n",
        "  - URL에  value 값을 설정\n",
        "  - 브라우저에서 IP와 포트로 서버 접속하고 URL로 100을 넘김\n",
        "    \n",
        "  <img src=\"https://arome1004.cafe24.com/images/opencv/lecture_image/04_fastapi03.png\" width=50%>     "
      ]
    },
    {
      "cell_type": "code",
      "execution_count": null,
      "metadata": {
        "id": "7BtgCZu1y5yQ"
      },
      "outputs": [],
      "source": [
        "#실습"
      ]
    },
    {
      "cell_type": "markdown",
      "metadata": {
        "id": "q3X8c5-xy5yQ"
      },
      "source": [
        "### html 문서를 반환하기\n",
        "\n",
        "#### 코드 형태로 반환하기\n",
        "\n",
        "- <font color=red>@app.get(\"/\", response_class=HTMLResponse)</font>\n",
        "  - HTML 문서를 반환\n",
        "\n",
        "- 브라우저에서 IP와 포트로 서버 접속\n",
        "\n",
        "  <img src=\"https://arome1004.cafe24.com/images/opencv/lecture_image/04_fastapi04.png\" width=50%>  "
      ]
    },
    {
      "cell_type": "code",
      "execution_count": null,
      "metadata": {
        "id": "byQ1BvfOy5yQ"
      },
      "outputs": [],
      "source": [
        "#실습"
      ]
    },
    {
      "cell_type": "markdown",
      "metadata": {
        "id": "4YqSzVzQy5yQ"
      },
      "source": [
        "#### 파일 형태로 반환하기\n",
        "\n",
        "- <font color=red>@app.get(\"/\", response_class=FileResponse)</font>\n",
        "  - 파일 문서를 반환"
      ]
    },
    {
      "cell_type": "code",
      "execution_count": null,
      "metadata": {
        "id": "go_IbVBay5yQ"
      },
      "outputs": [],
      "source": [
        "#실습"
      ]
    },
    {
      "cell_type": "code",
      "execution_count": null,
      "metadata": {
        "id": "T9I96Jy2y5yR"
      },
      "outputs": [],
      "source": [
        "#실습"
      ]
    },
    {
      "cell_type": "markdown",
      "metadata": {
        "id": "qpZ2h0WCy5yR"
      },
      "source": [
        "### 이미지가 포함된 HTML 문서 반환하기\n",
        "\n",
        "- static 폴더 : 자원을 담아 놓는 폴더\n",
        "- static 폴더에 이미지 폴더를 만들고 출력할 이미지를 저장"
      ]
    },
    {
      "cell_type": "code",
      "execution_count": null,
      "metadata": {
        "id": "x7MX1_y6y5yR",
        "outputId": "5e72e4ee-2104-4f9e-f780-ca7dc63dcbd2"
      },
      "outputs": [
        {
          "name": "stdout",
          "output_type": "stream",
          "text": [
            "Requirement already satisfied: jinja2 in d:\\anaconda3\\envs\\opencv\\lib\\site-packages (3.0.3)\n",
            "Requirement already satisfied: MarkupSafe>=2.0 in d:\\anaconda3\\envs\\opencv\\lib\\site-packages (from jinja2) (2.1.1)\n"
          ]
        },
        {
          "name": "stderr",
          "output_type": "stream",
          "text": [
            "WARNING: Ignoring invalid distribution -umpy (d:\\anaconda3\\envs\\opencv\\lib\\site-packages)\n",
            "WARNING: Ignoring invalid distribution -umpy (d:\\anaconda3\\envs\\opencv\\lib\\site-packages)\n",
            "WARNING: Ignoring invalid distribution -umpy (d:\\anaconda3\\envs\\opencv\\lib\\site-packages)\n",
            "WARNING: Ignoring invalid distribution -umpy (d:\\anaconda3\\envs\\opencv\\lib\\site-packages)\n",
            "WARNING: Ignoring invalid distribution -umpy (d:\\anaconda3\\envs\\opencv\\lib\\site-packages)\n",
            "WARNING: Ignoring invalid distribution -umpy (d:\\anaconda3\\envs\\opencv\\lib\\site-packages)\n"
          ]
        }
      ],
      "source": [
        "!pip install jinja2"
      ]
    },
    {
      "cell_type": "code",
      "execution_count": null,
      "metadata": {
        "id": "tfsSL0xay5yR"
      },
      "outputs": [],
      "source": [
        "#실습"
      ]
    },
    {
      "cell_type": "markdown",
      "metadata": {
        "id": "Fiz43fa3y5yR"
      },
      "source": [
        "- <font color=red>Jinja2Templates(directory=\"templates/\")</font>\n",
        "\n",
        "  - Jinja2 템플릿 사용\n",
        "  \n",
        "  \n",
        "- <font color=red>app.mount(\"/static\", StaticFiles(directory=\"static\", html=True), name=\"static\")</font>  \n",
        "\n",
        "  - \"/static\" : 마운트할 경로\n",
        "  - directory=\"static\" : 정적파일이 들어 있는 폴더명\n",
        "  - html=True : HTML 문서 여부\n",
        "  - name=\"static\" : FastAPI에서 내부적으로 사용할 이름\n",
        "  \n",
        "  \n",
        "- <font color=red>templates.TemplateResponse(\"imgdisp2.html\", {\"request\": request})  </font>  \n",
        "\n",
        "  - Jinja 템플릿으로 구성된 HTML 문서를 request한 위치로 반환"
      ]
    },
    {
      "cell_type": "code",
      "execution_count": null,
      "metadata": {
        "id": "tgNNNjGiy5yS"
      },
      "outputs": [],
      "source": [
        "#실습"
      ]
    },
    {
      "cell_type": "markdown",
      "metadata": {
        "id": "dWvSNMoTy5yS"
      },
      "source": [
        "# 데이터 스트리밍 구현\n",
        "\n",
        "## 구현 방법\n",
        "\n",
        "- <font color=red>StreamingResponse(test())</font>\n",
        "  - 스트리밍 함수로 test()를 실행\n",
        "  \n",
        "  <img src=\"https://arome1004.cafe24.com/images/opencv/lecture_image/04_fastapi05.png\" width=50%>  "
      ]
    },
    {
      "cell_type": "code",
      "execution_count": null,
      "metadata": {
        "id": "xlBlzHrty5yU"
      },
      "outputs": [],
      "source": [
        "#실습"
      ]
    },
    {
      "cell_type": "markdown",
      "metadata": {
        "id": "8LsC_gu6y5yV"
      },
      "source": [
        "- yield() 함수 배우기\n",
        "\n",
        "  \n",
        "  <img src=\"https://arome1004.cafe24.com/images/opencv/lecture_image/04_yield.png\" width=70%>  "
      ]
    },
    {
      "cell_type": "code",
      "execution_count": null,
      "metadata": {
        "id": "5xJU9ccdy5yV"
      },
      "outputs": [],
      "source": [
        "#실습"
      ]
    },
    {
      "cell_type": "code",
      "execution_count": null,
      "metadata": {
        "id": "PEpQgEfAy5yV"
      },
      "outputs": [],
      "source": [
        "#실습"
      ]
    },
    {
      "cell_type": "markdown",
      "metadata": {
        "id": "v0erWEd5y5yV"
      },
      "source": [
        "## 웹 브라우저에 카메라 영상 출력하기"
      ]
    },
    {
      "cell_type": "markdown",
      "metadata": {
        "id": "731WhFqpy5yV"
      },
      "source": [
        "- index.html를 작성하고 templates 폴더에 저장\n",
        "  - video_feed : 실행할 함수명\n",
        "  \n",
        "  \n",
        "- Jinja 템플릿\n",
        "    - 간단한 문법으로 html에서 {}, {{}} 등의 규칙을 이용하여 python 프로그래밍이 가능\n",
        "    - 데이터를 담은 변수를 return값으로 html과 함께 넘겨준 뒤, html에서 jinja 템플릿 규칙에 따라 화면에 표현할 수 있음\n",
        "    - Jinja 템플릿 html에서 주석은 {# 주석으로 처리할 내용 #}으로 표시\n",
        "    - Jinja2 Tempaltes 변수 넘기기 : {{ 변수명 }}\n",
        "    \n",
        "  - 참고\n",
        "    - https://velog.io/@jewon119/01.Flask-기초-Jinja-template\n",
        "    - https://jinja.palletsprojects.com/en/2.11.x/templates/\n",
        "  \n",
        "  \n",
        "- <font color=red>url_for()</font> : URL 주소값을 가져온다"
      ]
    },
    {
      "cell_type": "code",
      "execution_count": null,
      "metadata": {
        "id": "HorJ2cZly5yV"
      },
      "outputs": [],
      "source": [
        "#실습"
      ]
    },
    {
      "cell_type": "markdown",
      "metadata": {
        "id": "k1LN3edEy5yV"
      },
      "source": [
        "- <font color=red>ret, buffer = cv2.imencode('.jpg', frame)</font> : frame 이미지를 jpg로 인코딩\n",
        "\n",
        "- <font color=red>frame = buffer.tobytes()</font> : 전송을 위해 인코딩된 이미지를 byte 형식으로 변환\n",
        "\n",
        "\n",
        "- <font color=red>yield (b'--frame\\r\\n' b'Content-Type: image/jpeg\\r\\n\\r\\n' + frame + b'\\r\\n') </font>\n",
        "\n",
        "  - b : byte 형식임을 의미\n",
        "  - --frame : 프레임을 표시\n",
        "  - Content-Type: image/jpeg : 문서가 jpg 이미지임을 표시\n",
        "  \n",
        "  \n",
        "- <font color=red>StreamingResponse(get_frames(), media_type=\"multipart/x-mixed-replace; boundary=frame\")</font>\n",
        "\n",
        "  - get_frames() : 호출할 함수명\n",
        "  - mimetype : 클라이언트에게 전송된 문서의 타입을 알려주기 위한 파라미터 (type/subtype)\n",
        "  - multipart : 복합문서 타입 (파일, 영상 등)을 의미\n",
        "  - x-mixed-replace : x (추가적인 확장 형식), mixed (복합문서), repalce (subtype을 다음 메시지로 대체)\n",
        "  - boundary : 복합문서 내의 각 문서들을 구분하는 분리자 (동영상이므로 frame으로 구분)"
      ]
    },
    {
      "cell_type": "markdown",
      "metadata": {
        "id": "C9Eo2ki9y5yW"
      },
      "source": [
        "- 이미지 전송 부분을 동기방식으로 구현하는 경우"
      ]
    },
    {
      "cell_type": "code",
      "execution_count": null,
      "metadata": {
        "id": "yKg89qRBy5yW"
      },
      "outputs": [],
      "source": [
        "#실습"
      ]
    },
    {
      "cell_type": "markdown",
      "metadata": {
        "id": "ltiF_tXQy5yZ"
      },
      "source": [
        "- 이미지 전송 부분을 비동기 방식으로 구현한 경우"
      ]
    },
    {
      "cell_type": "code",
      "source": [
        "%%writefile ./templates/index.html\n",
        "<html><body><h1>VIDEO STREAMING</h1><img src = \"{{ url_for('video_feed') }}\" width = \"50%\"><br /></body></html>"
      ],
      "metadata": {
        "colab": {
          "base_uri": "https://localhost:8080/"
        },
        "id": "Z9yi7BHnPb28",
        "outputId": "1cd1017c-f09d-4a4f-cbf8-bf2e7e4b9322"
      },
      "execution_count": 25,
      "outputs": [
        {
          "output_type": "stream",
          "name": "stdout",
          "text": [
            "Overwriting ./templates/index.html\n"
          ]
        }
      ]
    },
    {
      "cell_type": "code",
      "execution_count": 27,
      "metadata": {
        "id": "CmmW4pV_VN7z"
      },
      "outputs": [],
      "source": [
        "# 실습\n",
        "import cv2\n",
        "\n",
        "cap = cv2.VideoCapture(\"./images/KakaoTalk_20230914_113812278.mp4\")\n",
        "\n",
        "async def get_frames():\n",
        "\n",
        "  while True:\n",
        "    ret, frame = cap.read()\n",
        "\n",
        "    if not ret:\n",
        "      continue\n",
        "\n",
        "    else:\n",
        "      ret, buffer = cv2.imencode('.jpg', frame)\n",
        "      frame = buffer.tobytes()\n",
        "\n",
        "      yield (b'--frame\\r\\n' b'Content-Type: image/jpeg\\r\\n\\r\\n' + frame + b'\\r\\n')\n",
        "\n",
        "  cap.release()"
      ]
    },
    {
      "cell_type": "code",
      "source": [
        "from fastapi import FastAPI, Request\n",
        "import nest_asyncio\n",
        "import uvicorn\n",
        "from google.colab.output import eval_js\n",
        "from fastapi.responses import StreamingResponse\n",
        "from fastapi.templating import Jinja2Templates\n",
        "\n",
        "from google.colab.output import eval_js\n",
        "\n",
        "print(eval_js(\"google.colab.kernel.proxyPort(5000)\"))\n",
        "\n",
        "app = FastAPI()\n",
        "nest_asyncio.apply()\n",
        "templates = Jinja2Templates(directory = \"templates\")\n",
        "\n",
        "@app.get(\"/\")\n",
        "async def index(request:Request):\n",
        "  return templates.TemplateResponse(\"index.html\", {\"request\": request})\n",
        "\n",
        "@app.get(\"/video_feed\")\n",
        "async def video_feed():\n",
        "  return StreamingResponse(await(get_frames()), mimetype = 'multipart/m-mixed-replace; boundary = frame');\n",
        "\n",
        "if __name__ == \"__main__\":\n",
        "  uvicorn.run(app,host=\"127.0.0.1\", port=5000)"
      ],
      "metadata": {
        "colab": {
          "base_uri": "https://localhost:8080/",
          "height": 208
        },
        "id": "YrDqE3_aPruO",
        "outputId": "a1e9217e-46d9-48da-9955-bb378d0ca651"
      },
      "execution_count": 32,
      "outputs": [
        {
          "output_type": "stream",
          "name": "stdout",
          "text": [
            "https://u0h6fgipdp-496ff2e9c6d22116-5000-colab.googleusercontent.com/\n"
          ]
        },
        {
          "output_type": "stream",
          "name": "stderr",
          "text": [
            "INFO:     Started server process [195]\n",
            "INFO:     Waiting for application startup.\n",
            "INFO:     Application startup complete.\n",
            "INFO:     Uvicorn running on http://127.0.0.1:5000 (Press CTRL+C to quit)\n"
          ]
        },
        {
          "output_type": "stream",
          "name": "stdout",
          "text": [
            "INFO:     127.0.0.1:45232 - \"GET / HTTP/1.1\" 200 OK\n",
            "INFO:     127.0.0.1:45246 - \"GET /favicon.ico HTTP/1.1\" 404 Not Found\n"
          ]
        },
        {
          "output_type": "stream",
          "name": "stderr",
          "text": [
            "INFO:     Shutting down\n",
            "INFO:     Waiting for application shutdown.\n",
            "INFO:     Application shutdown complete.\n",
            "INFO:     Finished server process [195]\n"
          ]
        }
      ]
    },
    {
      "cell_type": "markdown",
      "metadata": {
        "id": "7CcpFNIty5yZ"
      },
      "source": [
        "## 웹 출력 영상을 Gray 이미지로 출력하기"
      ]
    },
    {
      "cell_type": "code",
      "execution_count": null,
      "metadata": {
        "id": "fNLiC5gZy5ya"
      },
      "outputs": [],
      "source": [
        "#실습"
      ]
    },
    {
      "cell_type": "code",
      "execution_count": null,
      "metadata": {
        "id": "ZiqH_Zrhy5ya"
      },
      "outputs": [],
      "source": [
        "#실습"
      ]
    },
    {
      "cell_type": "markdown",
      "metadata": {
        "id": "qf_zz-bby5ya"
      },
      "source": [
        "<table border=1 width=100%>\n",
        "    <tr><td style=\"border: 1px solid black; width:600px; text-align: left;\"><font size=4 color=red><b>실습문제</b></font><br><br>\n",
        "        <font size=4>\n",
        "○ 이진 이미지를 출력하는 웹 카메라 만들기<br>\n",
        "\n",
        "   - threshold() 함수 적용<br>\n",
        "\n",
        "   - OTSU 이진화 알고리즘 적용<br>\n",
        "   \n",
        "   - 적응형 thresholding 적용</font></td></tr>       \n",
        "    <tr><td style=\"border: 1px solid black; text-align: left;\">\n",
        "        <img src=\"https://arome1004.cafe24.com/images/opencv/lecture_image/04_flask06.png\" width=30%><img src=\"https://arome1004.cafe24.com/images/opencv/lecture_image/04_flask07.png\" width=30%></td></tr>   \n",
        "</table>"
      ]
    },
    {
      "cell_type": "markdown",
      "metadata": {
        "id": "SaJ2zKuey5ya"
      },
      "source": [
        "<table border=1 width=100%>\n",
        "    <tr><td style=\"border: 1px solid black; width:600px; height:40px; text-align: center;\"><font size=4 color=blue><b>[4차시] 학습요약</b></font></td></tr>       \n",
        "    <tr><td style=\"border: 1px solid black; text-align: left;\"><font size=3>\n",
        "        \n",
        "○ <font color=red>ret, buffer = cv2.imencode()</font> : 영상 인코딩 함수<br>\n",
        "\n",
        "○ yield() : 반복 실행 중에 중간 과정을 반환할 때 사용<br>\n",
        "\n",
        "○ FastAPI : 파이썬으로 제작된 웹 프레임워크 (DJango의 축소 버전)<br>\n",
        "        \n",
        "○ <font color=red>app = FastAPI()</font> : FastAPI 객체를 app 변수에 할당<br>\n",
        "\n",
        "○ <font color=red>nest_asyncio.apply()</font> : FastAPI와 uvicorn 연결<br>\n",
        "\n",
        "○ <font color=red>@app.get(\"/\")</font> : FastAPI에게 어떤 URL이 get방식으로 해당 함수를 실행하는지 알려줌<br>\n",
        "\n",
        "○ <font color=red>@app.get(\"/hello\")</font> : 서버 주소에 추가적인 URL을 설정<br>\n",
        "\n",
        "○ <font color=red>@app.get(\"/hello/{value}\")</font> : URL에 value 값을 설정<br>\n",
        "\n",
        "○ <font color=red>uvicorn.run(app, host=\"127.0.0.1\", port=9600)</font> : 서버 IP, 포트 등을 설정하고 서버를 실행<br>\n",
        "\n",
        "○ <font color=red>HTMLResponse()</font> : html 문서를 반환하기<br>\n",
        "\n",
        "○ <font color=red>FileResponse()</font> : 파일로 된 문서를 반환하기<br>\n",
        "\n",
        "○ <font color=red>TemplateResponse()</font> : 템플릿 형태로 된 문서를 반환하기<br>\n",
        "\n",
        "○ <font color=red>StreamingResponse(stream_with_context())</font> : 데이터 스트리밍을 반환하기\n",
        "        \n",
        "</font></td></tr>   \n",
        "</table>"
      ]
    }
  ],
  "metadata": {
    "colab": {
      "provenance": [],
      "include_colab_link": true
    },
    "hide_input": false,
    "kernelspec": {
      "display_name": "Python 3 (ipykernel)",
      "language": "python",
      "name": "python3"
    },
    "language_info": {
      "codemirror_mode": {
        "name": "ipython",
        "version": 3
      },
      "file_extension": ".py",
      "mimetype": "text/x-python",
      "name": "python",
      "nbconvert_exporter": "python",
      "pygments_lexer": "ipython3",
      "version": "3.7.1"
    },
    "toc": {
      "base_numbering": 1,
      "nav_menu": {},
      "number_sections": true,
      "sideBar": true,
      "skip_h1_title": false,
      "title_cell": "Table of Contents",
      "title_sidebar": "Contents",
      "toc_cell": false,
      "toc_position": {
        "height": "calc(100% - 180px)",
        "left": "10px",
        "top": "150px",
        "width": "165px"
      },
      "toc_section_display": true,
      "toc_window_display": true
    }
  },
  "nbformat": 4,
  "nbformat_minor": 0
}