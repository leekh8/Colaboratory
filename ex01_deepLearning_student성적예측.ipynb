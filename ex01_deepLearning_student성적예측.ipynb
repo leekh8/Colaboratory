{
  "nbformat": 4,
  "nbformat_minor": 0,
  "metadata": {
    "colab": {
      "provenance": [],
      "mount_file_id": "1dASN9XZlaIwYVmJ74WeLYHdd8x_rYyh2",
      "authorship_tag": "ABX9TyPY0HnAeKqBWGRWQtyp/Rub",
      "include_colab_link": true
    },
    "kernelspec": {
      "name": "python3",
      "display_name": "Python 3"
    },
    "language_info": {
      "name": "python"
    }
  },
  "cells": [
    {
      "cell_type": "markdown",
      "metadata": {
        "id": "view-in-github",
        "colab_type": "text"
      },
      "source": [
        "<a href=\"https://colab.research.google.com/github/leekh8/Colaboratory/blob/main/ex01_deepLearning_student%EC%84%B1%EC%A0%81%EC%98%88%EC%B8%A1.ipynb\" target=\"_parent\"><img src=\"https://colab.research.google.com/assets/colab-badge.svg\" alt=\"Open In Colab\"/></a>"
      ]
    },
    {
      "cell_type": "code",
      "source": [
        "%cd '/content/drive/MyDrive/Colab Notebooks/Colaboratory/AISchool/'"
      ],
      "metadata": {
        "colab": {
          "base_uri": "https://localhost:8080/"
        },
        "id": "v3X-U8CTUbKv",
        "outputId": "293e7640-dc47-41de-9407-e76e73d1644d"
      },
      "execution_count": null,
      "outputs": [
        {
          "output_type": "stream",
          "name": "stdout",
          "text": [
            "/content/drive/MyDrive/Colab Notebooks/Colaboratory/AISchool\n"
          ]
        }
      ]
    },
    {
      "cell_type": "code",
      "source": [
        "!ls"
      ],
      "metadata": {
        "colab": {
          "base_uri": "https://localhost:8080/"
        },
        "id": "8PL7DtQ7VZEe",
        "outputId": "776ac0fd-35ec-4db9-fc57-999af738a916"
      },
      "execution_count": null,
      "outputs": [
        {
          "output_type": "stream",
          "name": "stdout",
          "text": [
            "Data\n",
            "ex00_티쳐블_머신_활용_동물분류하기.ipynb\n",
            "ex01_deepLearning_student성적예측.ipynb\n",
            "Untitled0.ipynb\n"
          ]
        }
      ]
    },
    {
      "cell_type": "markdown",
      "source": [
        "# 데이터로딩"
      ],
      "metadata": {
        "id": "KyfYgle3Vud2"
      }
    },
    {
      "cell_type": "code",
      "source": [
        "import pandas as pd"
      ],
      "metadata": {
        "id": "bhYbDUarV0mH"
      },
      "execution_count": null,
      "outputs": []
    },
    {
      "cell_type": "code",
      "source": [
        "data = pd.read_csv('./Data/student+performance/student-mat.csv',delimiter=';')"
      ],
      "metadata": {
        "id": "JBVDaHJyV3tg"
      },
      "execution_count": null,
      "outputs": []
    },
    {
      "cell_type": "code",
      "source": [
        "data.head()"
      ],
      "metadata": {
        "colab": {
          "base_uri": "https://localhost:8080/",
          "height": 255
        },
        "id": "RtxEMw2pWPgf",
        "outputId": "35e5ba2c-3d37-49f3-b1f1-7dde5cf6b227"
      },
      "execution_count": null,
      "outputs": [
        {
          "output_type": "execute_result",
          "data": {
            "text/plain": [
              "  school sex  age address famsize Pstatus  Medu  Fedu     Mjob      Fjob  ...  \\\n",
              "0     GP   F   18       U     GT3       A     4     4  at_home   teacher  ...   \n",
              "1     GP   F   17       U     GT3       T     1     1  at_home     other  ...   \n",
              "2     GP   F   15       U     LE3       T     1     1  at_home     other  ...   \n",
              "3     GP   F   15       U     GT3       T     4     2   health  services  ...   \n",
              "4     GP   F   16       U     GT3       T     3     3    other     other  ...   \n",
              "\n",
              "  famrel freetime  goout  Dalc  Walc health absences  G1  G2  G3  \n",
              "0      4        3      4     1     1      3        6   5   6   6  \n",
              "1      5        3      3     1     1      3        4   5   5   6  \n",
              "2      4        3      2     2     3      3       10   7   8  10  \n",
              "3      3        2      2     1     1      5        2  15  14  15  \n",
              "4      4        3      2     1     2      5        4   6  10  10  \n",
              "\n",
              "[5 rows x 33 columns]"
            ],
            "text/html": [
              "\n",
              "  <div id=\"df-aad6ff06-0a8c-4897-9691-1c639791c812\" class=\"colab-df-container\">\n",
              "    <div>\n",
              "<style scoped>\n",
              "    .dataframe tbody tr th:only-of-type {\n",
              "        vertical-align: middle;\n",
              "    }\n",
              "\n",
              "    .dataframe tbody tr th {\n",
              "        vertical-align: top;\n",
              "    }\n",
              "\n",
              "    .dataframe thead th {\n",
              "        text-align: right;\n",
              "    }\n",
              "</style>\n",
              "<table border=\"1\" class=\"dataframe\">\n",
              "  <thead>\n",
              "    <tr style=\"text-align: right;\">\n",
              "      <th></th>\n",
              "      <th>school</th>\n",
              "      <th>sex</th>\n",
              "      <th>age</th>\n",
              "      <th>address</th>\n",
              "      <th>famsize</th>\n",
              "      <th>Pstatus</th>\n",
              "      <th>Medu</th>\n",
              "      <th>Fedu</th>\n",
              "      <th>Mjob</th>\n",
              "      <th>Fjob</th>\n",
              "      <th>...</th>\n",
              "      <th>famrel</th>\n",
              "      <th>freetime</th>\n",
              "      <th>goout</th>\n",
              "      <th>Dalc</th>\n",
              "      <th>Walc</th>\n",
              "      <th>health</th>\n",
              "      <th>absences</th>\n",
              "      <th>G1</th>\n",
              "      <th>G2</th>\n",
              "      <th>G3</th>\n",
              "    </tr>\n",
              "  </thead>\n",
              "  <tbody>\n",
              "    <tr>\n",
              "      <th>0</th>\n",
              "      <td>GP</td>\n",
              "      <td>F</td>\n",
              "      <td>18</td>\n",
              "      <td>U</td>\n",
              "      <td>GT3</td>\n",
              "      <td>A</td>\n",
              "      <td>4</td>\n",
              "      <td>4</td>\n",
              "      <td>at_home</td>\n",
              "      <td>teacher</td>\n",
              "      <td>...</td>\n",
              "      <td>4</td>\n",
              "      <td>3</td>\n",
              "      <td>4</td>\n",
              "      <td>1</td>\n",
              "      <td>1</td>\n",
              "      <td>3</td>\n",
              "      <td>6</td>\n",
              "      <td>5</td>\n",
              "      <td>6</td>\n",
              "      <td>6</td>\n",
              "    </tr>\n",
              "    <tr>\n",
              "      <th>1</th>\n",
              "      <td>GP</td>\n",
              "      <td>F</td>\n",
              "      <td>17</td>\n",
              "      <td>U</td>\n",
              "      <td>GT3</td>\n",
              "      <td>T</td>\n",
              "      <td>1</td>\n",
              "      <td>1</td>\n",
              "      <td>at_home</td>\n",
              "      <td>other</td>\n",
              "      <td>...</td>\n",
              "      <td>5</td>\n",
              "      <td>3</td>\n",
              "      <td>3</td>\n",
              "      <td>1</td>\n",
              "      <td>1</td>\n",
              "      <td>3</td>\n",
              "      <td>4</td>\n",
              "      <td>5</td>\n",
              "      <td>5</td>\n",
              "      <td>6</td>\n",
              "    </tr>\n",
              "    <tr>\n",
              "      <th>2</th>\n",
              "      <td>GP</td>\n",
              "      <td>F</td>\n",
              "      <td>15</td>\n",
              "      <td>U</td>\n",
              "      <td>LE3</td>\n",
              "      <td>T</td>\n",
              "      <td>1</td>\n",
              "      <td>1</td>\n",
              "      <td>at_home</td>\n",
              "      <td>other</td>\n",
              "      <td>...</td>\n",
              "      <td>4</td>\n",
              "      <td>3</td>\n",
              "      <td>2</td>\n",
              "      <td>2</td>\n",
              "      <td>3</td>\n",
              "      <td>3</td>\n",
              "      <td>10</td>\n",
              "      <td>7</td>\n",
              "      <td>8</td>\n",
              "      <td>10</td>\n",
              "    </tr>\n",
              "    <tr>\n",
              "      <th>3</th>\n",
              "      <td>GP</td>\n",
              "      <td>F</td>\n",
              "      <td>15</td>\n",
              "      <td>U</td>\n",
              "      <td>GT3</td>\n",
              "      <td>T</td>\n",
              "      <td>4</td>\n",
              "      <td>2</td>\n",
              "      <td>health</td>\n",
              "      <td>services</td>\n",
              "      <td>...</td>\n",
              "      <td>3</td>\n",
              "      <td>2</td>\n",
              "      <td>2</td>\n",
              "      <td>1</td>\n",
              "      <td>1</td>\n",
              "      <td>5</td>\n",
              "      <td>2</td>\n",
              "      <td>15</td>\n",
              "      <td>14</td>\n",
              "      <td>15</td>\n",
              "    </tr>\n",
              "    <tr>\n",
              "      <th>4</th>\n",
              "      <td>GP</td>\n",
              "      <td>F</td>\n",
              "      <td>16</td>\n",
              "      <td>U</td>\n",
              "      <td>GT3</td>\n",
              "      <td>T</td>\n",
              "      <td>3</td>\n",
              "      <td>3</td>\n",
              "      <td>other</td>\n",
              "      <td>other</td>\n",
              "      <td>...</td>\n",
              "      <td>4</td>\n",
              "      <td>3</td>\n",
              "      <td>2</td>\n",
              "      <td>1</td>\n",
              "      <td>2</td>\n",
              "      <td>5</td>\n",
              "      <td>4</td>\n",
              "      <td>6</td>\n",
              "      <td>10</td>\n",
              "      <td>10</td>\n",
              "    </tr>\n",
              "  </tbody>\n",
              "</table>\n",
              "<p>5 rows × 33 columns</p>\n",
              "</div>\n",
              "    <div class=\"colab-df-buttons\">\n",
              "\n",
              "  <div class=\"colab-df-container\">\n",
              "    <button class=\"colab-df-convert\" onclick=\"convertToInteractive('df-aad6ff06-0a8c-4897-9691-1c639791c812')\"\n",
              "            title=\"Convert this dataframe to an interactive table.\"\n",
              "            style=\"display:none;\">\n",
              "\n",
              "  <svg xmlns=\"http://www.w3.org/2000/svg\" height=\"24px\" viewBox=\"0 -960 960 960\">\n",
              "    <path d=\"M120-120v-720h720v720H120Zm60-500h600v-160H180v160Zm220 220h160v-160H400v160Zm0 220h160v-160H400v160ZM180-400h160v-160H180v160Zm440 0h160v-160H620v160ZM180-180h160v-160H180v160Zm440 0h160v-160H620v160Z\"/>\n",
              "  </svg>\n",
              "    </button>\n",
              "\n",
              "  <style>\n",
              "    .colab-df-container {\n",
              "      display:flex;\n",
              "      gap: 12px;\n",
              "    }\n",
              "\n",
              "    .colab-df-convert {\n",
              "      background-color: #E8F0FE;\n",
              "      border: none;\n",
              "      border-radius: 50%;\n",
              "      cursor: pointer;\n",
              "      display: none;\n",
              "      fill: #1967D2;\n",
              "      height: 32px;\n",
              "      padding: 0 0 0 0;\n",
              "      width: 32px;\n",
              "    }\n",
              "\n",
              "    .colab-df-convert:hover {\n",
              "      background-color: #E2EBFA;\n",
              "      box-shadow: 0px 1px 2px rgba(60, 64, 67, 0.3), 0px 1px 3px 1px rgba(60, 64, 67, 0.15);\n",
              "      fill: #174EA6;\n",
              "    }\n",
              "\n",
              "    .colab-df-buttons div {\n",
              "      margin-bottom: 4px;\n",
              "    }\n",
              "\n",
              "    [theme=dark] .colab-df-convert {\n",
              "      background-color: #3B4455;\n",
              "      fill: #D2E3FC;\n",
              "    }\n",
              "\n",
              "    [theme=dark] .colab-df-convert:hover {\n",
              "      background-color: #434B5C;\n",
              "      box-shadow: 0px 1px 3px 1px rgba(0, 0, 0, 0.15);\n",
              "      filter: drop-shadow(0px 1px 2px rgba(0, 0, 0, 0.3));\n",
              "      fill: #FFFFFF;\n",
              "    }\n",
              "  </style>\n",
              "\n",
              "    <script>\n",
              "      const buttonEl =\n",
              "        document.querySelector('#df-aad6ff06-0a8c-4897-9691-1c639791c812 button.colab-df-convert');\n",
              "      buttonEl.style.display =\n",
              "        google.colab.kernel.accessAllowed ? 'block' : 'none';\n",
              "\n",
              "      async function convertToInteractive(key) {\n",
              "        const element = document.querySelector('#df-aad6ff06-0a8c-4897-9691-1c639791c812');\n",
              "        const dataTable =\n",
              "          await google.colab.kernel.invokeFunction('convertToInteractive',\n",
              "                                                    [key], {});\n",
              "        if (!dataTable) return;\n",
              "\n",
              "        const docLinkHtml = 'Like what you see? Visit the ' +\n",
              "          '<a target=\"_blank\" href=https://colab.research.google.com/notebooks/data_table.ipynb>data table notebook</a>'\n",
              "          + ' to learn more about interactive tables.';\n",
              "        element.innerHTML = '';\n",
              "        dataTable['output_type'] = 'display_data';\n",
              "        await google.colab.output.renderOutput(dataTable, element);\n",
              "        const docLink = document.createElement('div');\n",
              "        docLink.innerHTML = docLinkHtml;\n",
              "        element.appendChild(docLink);\n",
              "      }\n",
              "    </script>\n",
              "  </div>\n",
              "\n",
              "\n",
              "<div id=\"df-572aa745-102e-4f32-aff2-d189a4e7414d\">\n",
              "  <button class=\"colab-df-quickchart\" onclick=\"quickchart('df-572aa745-102e-4f32-aff2-d189a4e7414d')\"\n",
              "            title=\"Suggest charts.\"\n",
              "            style=\"display:none;\">\n",
              "\n",
              "<svg xmlns=\"http://www.w3.org/2000/svg\" height=\"24px\"viewBox=\"0 0 24 24\"\n",
              "     width=\"24px\">\n",
              "    <g>\n",
              "        <path d=\"M19 3H5c-1.1 0-2 .9-2 2v14c0 1.1.9 2 2 2h14c1.1 0 2-.9 2-2V5c0-1.1-.9-2-2-2zM9 17H7v-7h2v7zm4 0h-2V7h2v10zm4 0h-2v-4h2v4z\"/>\n",
              "    </g>\n",
              "</svg>\n",
              "  </button>\n",
              "\n",
              "<style>\n",
              "  .colab-df-quickchart {\n",
              "    background-color: #E8F0FE;\n",
              "    border: none;\n",
              "    border-radius: 50%;\n",
              "    cursor: pointer;\n",
              "    display: none;\n",
              "    fill: #1967D2;\n",
              "    height: 32px;\n",
              "    padding: 0 0 0 0;\n",
              "    width: 32px;\n",
              "  }\n",
              "\n",
              "  .colab-df-quickchart:hover {\n",
              "    background-color: #E2EBFA;\n",
              "    box-shadow: 0px 1px 2px rgba(60, 64, 67, 0.3), 0px 1px 3px 1px rgba(60, 64, 67, 0.15);\n",
              "    fill: #174EA6;\n",
              "  }\n",
              "\n",
              "  [theme=dark] .colab-df-quickchart {\n",
              "    background-color: #3B4455;\n",
              "    fill: #D2E3FC;\n",
              "  }\n",
              "\n",
              "  [theme=dark] .colab-df-quickchart:hover {\n",
              "    background-color: #434B5C;\n",
              "    box-shadow: 0px 1px 3px 1px rgba(0, 0, 0, 0.15);\n",
              "    filter: drop-shadow(0px 1px 2px rgba(0, 0, 0, 0.3));\n",
              "    fill: #FFFFFF;\n",
              "  }\n",
              "</style>\n",
              "\n",
              "  <script>\n",
              "    async function quickchart(key) {\n",
              "      const charts = await google.colab.kernel.invokeFunction(\n",
              "          'suggestCharts', [key], {});\n",
              "    }\n",
              "    (() => {\n",
              "      let quickchartButtonEl =\n",
              "        document.querySelector('#df-572aa745-102e-4f32-aff2-d189a4e7414d button');\n",
              "      quickchartButtonEl.style.display =\n",
              "        google.colab.kernel.accessAllowed ? 'block' : 'none';\n",
              "    })();\n",
              "  </script>\n",
              "</div>\n",
              "    </div>\n",
              "  </div>\n"
            ]
          },
          "metadata": {},
          "execution_count": 5
        }
      ]
    },
    {
      "cell_type": "code",
      "source": [
        "X = data[['studytime']]"
      ],
      "metadata": {
        "id": "uoJPHeuAWqeU"
      },
      "execution_count": null,
      "outputs": []
    },
    {
      "cell_type": "code",
      "source": [
        "y = data['G3']"
      ],
      "metadata": {
        "id": "zKVPCbTKYTAm"
      },
      "execution_count": null,
      "outputs": []
    },
    {
      "cell_type": "code",
      "source": [
        "print(X.shape, y.shape)"
      ],
      "metadata": {
        "colab": {
          "base_uri": "https://localhost:8080/"
        },
        "id": "Hox7IIx3YUcH",
        "outputId": "12e6964c-fae0-4fa4-b8f9-ffdeb68e66f4"
      },
      "execution_count": null,
      "outputs": [
        {
          "output_type": "stream",
          "name": "stdout",
          "text": [
            "(395, 1) (395,)\n"
          ]
        }
      ]
    },
    {
      "cell_type": "code",
      "source": [
        "from sklearn.model_selection import train_test_split"
      ],
      "metadata": {
        "id": "JAeAo2wg_CQI"
      },
      "execution_count": null,
      "outputs": []
    },
    {
      "cell_type": "code",
      "source": [
        "X_train, X_test, y_train, y_test = train_test_split(X, y, test_size=0.2, random_state = 831)"
      ],
      "metadata": {
        "id": "sOL43X-I_N-0"
      },
      "execution_count": null,
      "outputs": []
    },
    {
      "cell_type": "markdown",
      "source": [
        "# 모델링\n",
        " - 모델 생성\n",
        " - 모델 학습\n",
        " - 모델 예측\n",
        " - 모델 평가"
      ],
      "metadata": {
        "id": "ySNR60XbYXqd"
      }
    },
    {
      "cell_type": "code",
      "source": [
        "from tensorflow.keras.models import Sequential\n",
        "from tensorflow.keras.layers import InputLayer, Dense"
      ],
      "metadata": {
        "id": "NSevi6pnYbyG"
      },
      "execution_count": null,
      "outputs": []
    },
    {
      "cell_type": "code",
      "source": [
        "# @title 모델 생성\n",
        "model = Sequential()\n",
        "model.add(InputLayer(input_shape = (1, )))\n",
        "model.add(Dense(units = 2, activation = 'sigmoid'))\n",
        "model.add(Dense(units = 1, activation = 'linear'))"
      ],
      "metadata": {
        "id": "Zjb_gBBIZmuM"
      },
      "execution_count": null,
      "outputs": []
    },
    {
      "cell_type": "code",
      "source": [
        "# @title 모델 학습\n",
        "model.compile(loss = 'mse', optimizer = 'sgd')\n",
        "model.fit(X, y, epochs = 20)"
      ],
      "metadata": {
        "colab": {
          "base_uri": "https://localhost:8080/"
        },
        "id": "tpXJXoVaaIiY",
        "outputId": "c6f7bc29-069b-40c2-f370-9592a978bd54"
      },
      "execution_count": null,
      "outputs": [
        {
          "output_type": "stream",
          "name": "stdout",
          "text": [
            "Epoch 1/20\n",
            "13/13 [==============================] - 0s 2ms/step - loss: 94.8807\n",
            "Epoch 2/20\n",
            "13/13 [==============================] - 0s 2ms/step - loss: 44.6675\n",
            "Epoch 3/20\n",
            "13/13 [==============================] - 0s 2ms/step - loss: 25.7198\n",
            "Epoch 4/20\n",
            "13/13 [==============================] - 0s 2ms/step - loss: 21.9102\n",
            "Epoch 5/20\n",
            "13/13 [==============================] - 0s 2ms/step - loss: 21.0320\n",
            "Epoch 6/20\n",
            "13/13 [==============================] - 0s 2ms/step - loss: 20.8858\n",
            "Epoch 7/20\n",
            "13/13 [==============================] - 0s 2ms/step - loss: 20.8386\n",
            "Epoch 8/20\n",
            "13/13 [==============================] - 0s 2ms/step - loss: 20.8366\n",
            "Epoch 9/20\n",
            "13/13 [==============================] - 0s 2ms/step - loss: 20.8927\n",
            "Epoch 10/20\n",
            "13/13 [==============================] - 0s 2ms/step - loss: 20.8468\n",
            "Epoch 11/20\n",
            "13/13 [==============================] - 0s 2ms/step - loss: 20.8659\n",
            "Epoch 12/20\n",
            "13/13 [==============================] - 0s 2ms/step - loss: 20.8364\n",
            "Epoch 13/20\n",
            "13/13 [==============================] - 0s 2ms/step - loss: 20.8814\n",
            "Epoch 14/20\n",
            "13/13 [==============================] - 0s 2ms/step - loss: 20.8418\n",
            "Epoch 15/20\n",
            "13/13 [==============================] - 0s 2ms/step - loss: 20.8603\n",
            "Epoch 16/20\n",
            "13/13 [==============================] - 0s 2ms/step - loss: 20.8395\n",
            "Epoch 17/20\n",
            "13/13 [==============================] - 0s 3ms/step - loss: 20.8346\n",
            "Epoch 18/20\n",
            "13/13 [==============================] - 0s 2ms/step - loss: 20.8397\n",
            "Epoch 19/20\n",
            "13/13 [==============================] - 0s 2ms/step - loss: 20.8743\n",
            "Epoch 20/20\n",
            "13/13 [==============================] - 0s 2ms/step - loss: 20.8593\n"
          ]
        },
        {
          "output_type": "execute_result",
          "data": {
            "text/plain": [
              "<keras.callbacks.History at 0x7b459fc29540>"
            ]
          },
          "metadata": {},
          "execution_count": 16
        }
      ]
    },
    {
      "cell_type": "code",
      "source": [
        "# @title 모델 학습\n",
        "model.compile(loss = 'mse', optimizer = 'sgd')\n",
        "model.fit(X_train, y_train, epochs = 20)"
      ],
      "metadata": {
        "id": "i-ySLKL_a6z8",
        "colab": {
          "base_uri": "https://localhost:8080/"
        },
        "outputId": "4c157b6f-0708-419a-a6ae-7a6fc4789954"
      },
      "execution_count": null,
      "outputs": [
        {
          "output_type": "stream",
          "name": "stdout",
          "text": [
            "Epoch 1/20\n",
            "10/10 [==============================] - 0s 2ms/step - loss: 21.3662\n",
            "Epoch 2/20\n",
            "10/10 [==============================] - 0s 2ms/step - loss: 21.3774\n",
            "Epoch 3/20\n",
            "10/10 [==============================] - 0s 2ms/step - loss: 21.3599\n",
            "Epoch 4/20\n",
            "10/10 [==============================] - 0s 2ms/step - loss: 21.3706\n",
            "Epoch 5/20\n",
            "10/10 [==============================] - 0s 2ms/step - loss: 21.3649\n",
            "Epoch 6/20\n",
            "10/10 [==============================] - 0s 3ms/step - loss: 21.3671\n",
            "Epoch 7/20\n",
            "10/10 [==============================] - 0s 2ms/step - loss: 21.3665\n",
            "Epoch 8/20\n",
            "10/10 [==============================] - 0s 2ms/step - loss: 21.3639\n",
            "Epoch 9/20\n",
            "10/10 [==============================] - 0s 2ms/step - loss: 21.3605\n",
            "Epoch 10/20\n",
            "10/10 [==============================] - 0s 2ms/step - loss: 21.3983\n",
            "Epoch 11/20\n",
            "10/10 [==============================] - 0s 2ms/step - loss: 21.3669\n",
            "Epoch 12/20\n",
            "10/10 [==============================] - 0s 2ms/step - loss: 21.3560\n",
            "Epoch 13/20\n",
            "10/10 [==============================] - 0s 2ms/step - loss: 21.3596\n",
            "Epoch 14/20\n",
            "10/10 [==============================] - 0s 2ms/step - loss: 21.3620\n",
            "Epoch 15/20\n",
            "10/10 [==============================] - 0s 2ms/step - loss: 21.3778\n",
            "Epoch 16/20\n",
            "10/10 [==============================] - 0s 3ms/step - loss: 21.3943\n",
            "Epoch 17/20\n",
            "10/10 [==============================] - 0s 2ms/step - loss: 21.3642\n",
            "Epoch 18/20\n",
            "10/10 [==============================] - 0s 2ms/step - loss: 21.3685\n",
            "Epoch 19/20\n",
            "10/10 [==============================] - 0s 2ms/step - loss: 21.3791\n",
            "Epoch 20/20\n",
            "10/10 [==============================] - 0s 2ms/step - loss: 21.3683\n"
          ]
        },
        {
          "output_type": "execute_result",
          "data": {
            "text/plain": [
              "<keras.callbacks.History at 0x7b45a2f2e470>"
            ]
          },
          "metadata": {},
          "execution_count": 17
        }
      ]
    },
    {
      "cell_type": "code",
      "source": [
        "# @title 모델 예측\n",
        "pre = model.predict(X_test)\n",
        "pre"
      ],
      "metadata": {
        "colab": {
          "base_uri": "https://localhost:8080/"
        },
        "id": "XfH-9rCc__f2",
        "outputId": "ae1aa492-1b6f-4f37-8e72-be0b307fd6f3"
      },
      "execution_count": null,
      "outputs": [
        {
          "output_type": "stream",
          "name": "stdout",
          "text": [
            "3/3 [==============================] - 0s 5ms/step\n"
          ]
        },
        {
          "output_type": "execute_result",
          "data": {
            "text/plain": [
              "array([[ 9.986025],\n",
              "       [10.815586],\n",
              "       [10.57429 ],\n",
              "       [10.57429 ],\n",
              "       [ 9.986025],\n",
              "       [10.57429 ],\n",
              "       [10.57429 ],\n",
              "       [10.57429 ],\n",
              "       [10.57429 ],\n",
              "       [10.57429 ],\n",
              "       [10.815586],\n",
              "       [10.57429 ],\n",
              "       [ 9.986025],\n",
              "       [10.57429 ],\n",
              "       [10.57429 ],\n",
              "       [10.57429 ],\n",
              "       [10.815586],\n",
              "       [10.57429 ],\n",
              "       [10.57429 ],\n",
              "       [ 9.986025],\n",
              "       [10.57429 ],\n",
              "       [10.57429 ],\n",
              "       [10.57429 ],\n",
              "       [ 9.986025],\n",
              "       [10.57429 ],\n",
              "       [10.815586],\n",
              "       [ 9.986025],\n",
              "       [10.57429 ],\n",
              "       [10.920858],\n",
              "       [ 9.986025],\n",
              "       [10.57429 ],\n",
              "       [10.57429 ],\n",
              "       [10.57429 ],\n",
              "       [10.57429 ],\n",
              "       [ 9.986025],\n",
              "       [10.57429 ],\n",
              "       [10.57429 ],\n",
              "       [10.57429 ],\n",
              "       [10.920858],\n",
              "       [10.57429 ],\n",
              "       [10.57429 ],\n",
              "       [10.57429 ],\n",
              "       [10.57429 ],\n",
              "       [10.815586],\n",
              "       [ 9.986025],\n",
              "       [10.815586],\n",
              "       [10.57429 ],\n",
              "       [ 9.986025],\n",
              "       [ 9.986025],\n",
              "       [10.57429 ],\n",
              "       [ 9.986025],\n",
              "       [10.57429 ],\n",
              "       [10.57429 ],\n",
              "       [10.57429 ],\n",
              "       [10.57429 ],\n",
              "       [10.57429 ],\n",
              "       [10.815586],\n",
              "       [10.57429 ],\n",
              "       [ 9.986025],\n",
              "       [10.57429 ],\n",
              "       [ 9.986025],\n",
              "       [ 9.986025],\n",
              "       [10.815586],\n",
              "       [10.57429 ],\n",
              "       [ 9.986025],\n",
              "       [10.57429 ],\n",
              "       [ 9.986025],\n",
              "       [ 9.986025],\n",
              "       [ 9.986025],\n",
              "       [ 9.986025],\n",
              "       [10.57429 ],\n",
              "       [ 9.986025],\n",
              "       [10.57429 ],\n",
              "       [10.57429 ],\n",
              "       [10.920858],\n",
              "       [ 9.986025],\n",
              "       [10.57429 ],\n",
              "       [10.57429 ],\n",
              "       [10.57429 ]], dtype=float32)"
            ]
          },
          "metadata": {},
          "execution_count": 19
        }
      ]
    },
    {
      "cell_type": "code",
      "source": [
        "# @title 모델평가지표: mse\n",
        "score = model.evaluate(X_test, y_test)\n",
        "score"
      ],
      "metadata": {
        "colab": {
          "base_uri": "https://localhost:8080/"
        },
        "id": "y0Z2PK3eAPaV",
        "outputId": "6f21c1b0-c0fc-49f4-8aea-bfddecb7b185"
      },
      "execution_count": null,
      "outputs": [
        {
          "output_type": "stream",
          "name": "stdout",
          "text": [
            "3/3 [==============================] - 0s 5ms/step - loss: 18.7145\n"
          ]
        },
        {
          "output_type": "execute_result",
          "data": {
            "text/plain": [
              "18.714508056640625"
            ]
          },
          "metadata": {},
          "execution_count": 20
        }
      ]
    },
    {
      "cell_type": "code",
      "source": [],
      "metadata": {
        "id": "_WzGUptdA6pL"
      },
      "execution_count": null,
      "outputs": []
    }
  ]
}