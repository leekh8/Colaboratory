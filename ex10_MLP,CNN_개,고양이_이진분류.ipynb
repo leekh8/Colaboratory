{
  "nbformat": 4,
  "nbformat_minor": 0,
  "metadata": {
    "colab": {
      "provenance": [],
      "gpuType": "T4",
      "mount_file_id": "10ln-LM_MCUedTr2_dtBKPnitQEV8WzMc",
      "authorship_tag": "ABX9TyOqj2fSiFIMxAocn4WO+K0R",
      "include_colab_link": true
    },
    "kernelspec": {
      "name": "python3",
      "display_name": "Python 3"
    },
    "language_info": {
      "name": "python"
    },
    "accelerator": "GPU"
  },
  "cells": [
    {
      "cell_type": "markdown",
      "metadata": {
        "id": "view-in-github",
        "colab_type": "text"
      },
      "source": [
        "<a href=\"https://colab.research.google.com/github/leekh8/Colaboratory/blob/main/ex10_MLP%2CCNN_%EA%B0%9C%2C%EA%B3%A0%EC%96%91%EC%9D%B4_%EC%9D%B4%EC%A7%84%EB%B6%84%EB%A5%98.ipynb\" target=\"_parent\"><img src=\"https://colab.research.google.com/assets/colab-badge.svg\" alt=\"Open In Colab\"/></a>"
      ]
    },
    {
      "cell_type": "code",
      "execution_count": 1,
      "metadata": {
        "colab": {
          "base_uri": "https://localhost:8080/"
        },
        "id": "aBl8Bt68zdlH",
        "outputId": "c2fb4769-9977-46fd-be3c-a1b099c3299b"
      },
      "outputs": [
        {
          "output_type": "stream",
          "name": "stdout",
          "text": [
            "Mounted at /content/drive\n",
            "/content/drive/MyDrive/Colab Notebooks/Colaboratory/AISchool\n"
          ]
        }
      ],
      "source": [
        "from google.colab import drive\n",
        "drive.mount('/content/drive')\n",
        "%cd '/content/drive/MyDrive/Colab Notebooks/Colaboratory/AISchool/'"
      ]
    },
    {
      "cell_type": "markdown",
      "source": [
        "# 목표\n",
        "- 개, 고양이 데이터 이미지를 배열로 변환 (이미지 데이터 전처리)\n",
        "  - 이미지 자체를 저장소에 업로드하는 것 보다 배열로 변환했을 때 용량 소모 적음\n",
        "- MLP 이미지 데이터 이진 분류\n",
        "- CNN 이미지 데이터 이진 분류\n",
        "- 성능 향상을 위한 노력\n",
        "  - 이미지 증식\n",
        "  - 전이학습"
      ],
      "metadata": {
        "id": "ONuINGT81WZF"
      }
    },
    {
      "cell_type": "code",
      "source": [
        "# 환경 세팅\n",
        "import os\n",
        "import numpy as np\n",
        "import pandas as pd\n",
        "import matplotlib.pyplot as plt\n",
        "\n",
        "# 이미지 다루는 라이브러리\n",
        "from PIL import Image"
      ],
      "metadata": {
        "id": "NEPLYOIMIt3V"
      },
      "execution_count": 2,
      "outputs": []
    },
    {
      "cell_type": "code",
      "source": [
        "# 개고양이 배열 데이터 불러오기\n",
        "data = np.load('./Data/np_cat_vs_dog.npz')\n",
        "data"
      ],
      "metadata": {
        "colab": {
          "base_uri": "https://localhost:8080/"
        },
        "id": "zwAB5BTMIowD",
        "outputId": "debf414e-1e82-4a1f-fb97-2a28c8556bd0"
      },
      "execution_count": 3,
      "outputs": [
        {
          "output_type": "execute_result",
          "data": {
            "text/plain": [
              "<numpy.lib.npyio.NpzFile at 0x7bf14bee17b0>"
            ]
          },
          "metadata": {},
          "execution_count": 3
        }
      ]
    },
    {
      "cell_type": "code",
      "source": [
        "len(data)"
      ],
      "metadata": {
        "colab": {
          "base_uri": "https://localhost:8080/"
        },
        "id": "zwMMbKFVI9zV",
        "outputId": "67a881b0-571a-4123-e720-6fa13ead8356"
      },
      "execution_count": 4,
      "outputs": [
        {
          "output_type": "execute_result",
          "data": {
            "text/plain": [
              "4"
            ]
          },
          "metadata": {},
          "execution_count": 4
        }
      ]
    },
    {
      "cell_type": "code",
      "source": [
        "# 각각의 변수에 데이터 분리해서 담아주기\n",
        "X_train = data['X_train']\n",
        "X_test = data['X_test']\n",
        "y_train = data['y_train']\n",
        "y_test = data['y_test']\n",
        "\n",
        "# 크기 확인\n",
        "print(\"훈련 셋: \", X_train.shape, y_train.shape)\n",
        "print(\"테스트 셋: \", X_test.shape, y_test.shape)"
      ],
      "metadata": {
        "colab": {
          "base_uri": "https://localhost:8080/"
        },
        "id": "7AVQhyR1JFcs",
        "outputId": "96d5a2ce-d235-49c6-be71-eef65e7398f8"
      },
      "execution_count": 5,
      "outputs": [
        {
          "output_type": "stream",
          "name": "stdout",
          "text": [
            "훈련 셋:  (2000, 224, 224, 3) (2000,)\n",
            "테스트 셋:  (1000, 224, 224, 3) (1000,)\n"
          ]
        }
      ]
    },
    {
      "cell_type": "markdown",
      "source": [
        "# MLP 모델 생성"
      ],
      "metadata": {
        "id": "30ys6EeNM8a1"
      }
    },
    {
      "cell_type": "code",
      "source": [
        "from tensorflow.keras import Sequential\n",
        "from tensorflow.keras.layers import Dense, Flatten\n",
        "from tensorflow.keras.callbacks import EarlyStopping"
      ],
      "metadata": {
        "id": "M8kcJqkOJejG"
      },
      "execution_count": 6,
      "outputs": []
    },
    {
      "cell_type": "code",
      "source": [
        "# 1. 모델 설계\n",
        "# 뼈대 구축\n",
        "mlp_model = Sequential()\n",
        "\n",
        "# 입력 (3차원 -> 1차)\n",
        "mlp_model.add(Flatten(input_shape = (224, 224, 3)))\n",
        "\n",
        "# 중간층\n",
        "mlp_model.add(Dense(units = 256, activation = 'relu'))\n",
        "mlp_model.add(Dense(units = 128, activation = 'relu'))\n",
        "mlp_model.add(Dense(units = 64, activation = 'relu'))\n",
        "\n",
        "# 출력층 (분류)\n",
        "mlp_model.add(Dense(units = 1, activation = 'sigmoid'))\n",
        "mlp_model.summary()"
      ],
      "metadata": {
        "colab": {
          "base_uri": "https://localhost:8080/"
        },
        "id": "6gY7BHG4NR7S",
        "outputId": "0a4d41e6-bd87-4221-bff6-daecfd87fd01"
      },
      "execution_count": 7,
      "outputs": [
        {
          "output_type": "stream",
          "name": "stdout",
          "text": [
            "Model: \"sequential\"\n",
            "_________________________________________________________________\n",
            " Layer (type)                Output Shape              Param #   \n",
            "=================================================================\n",
            " flatten (Flatten)           (None, 150528)            0         \n",
            "                                                                 \n",
            " dense (Dense)               (None, 256)               38535424  \n",
            "                                                                 \n",
            " dense_1 (Dense)             (None, 128)               32896     \n",
            "                                                                 \n",
            " dense_2 (Dense)             (None, 64)                8256      \n",
            "                                                                 \n",
            " dense_3 (Dense)             (None, 1)                 65        \n",
            "                                                                 \n",
            "=================================================================\n",
            "Total params: 38576641 (147.16 MB)\n",
            "Trainable params: 38576641 (147.16 MB)\n",
            "Non-trainable params: 0 (0.00 Byte)\n",
            "_________________________________________________________________\n"
          ]
        }
      ]
    },
    {
      "cell_type": "code",
      "source": [
        "# 번역 compile\n",
        "# pc가 이해하도록 번역\n",
        "# loss, optimizer, metrics 설정\n",
        "\n",
        "# 이진 분류\n",
        "mlp_model.compile(loss = \"binary_crossentropy\", optimizer = 'adam', metrics = [\"accuracy\"])"
      ],
      "metadata": {
        "id": "Y-1OTO6RPp6B"
      },
      "execution_count": 8,
      "outputs": []
    },
    {
      "cell_type": "code",
      "source": [
        "# 조기 학습 중단 설정\n",
        "# 검증 정확도, 인내심 5번\n",
        "f_ea = EarlyStopping(monitor = 'val_accuracy', patience = 5)"
      ],
      "metadata": {
        "id": "OW4bLnw2P-FN"
      },
      "execution_count": 10,
      "outputs": []
    },
    {
      "cell_type": "code",
      "source": [
        "# 학습, 검증 데이터 분리 (7:3), batch_size = 64, 반복 횟수 = 50, 조기 학습 중단 연결\n",
        "mlp_his = mlp_model.fit(X_train, y_train, validation_split = 0.3, epochs = 50, batch_size = 64, callbacks = [f_ea])"
      ],
      "metadata": {
        "colab": {
          "base_uri": "https://localhost:8080/"
        },
        "id": "75niZVlAQlR0",
        "outputId": "711e08d1-af38-44d1-fdd2-2d3930eced16"
      },
      "execution_count": 11,
      "outputs": [
        {
          "output_type": "stream",
          "name": "stdout",
          "text": [
            "Epoch 1/50\n",
            "22/22 [==============================] - 7s 40ms/step - loss: 2252.6592 - accuracy: 0.5971 - val_loss: 85.2277 - val_accuracy: 0.6183\n",
            "Epoch 2/50\n",
            "22/22 [==============================] - 1s 23ms/step - loss: 871.0434 - accuracy: 0.5936 - val_loss: 3033.7542 - val_accuracy: 0.0000e+00\n",
            "Epoch 3/50\n",
            "22/22 [==============================] - 0s 23ms/step - loss: 587.8466 - accuracy: 0.6271 - val_loss: 297.0696 - val_accuracy: 0.2917\n",
            "Epoch 4/50\n",
            "22/22 [==============================] - 0s 20ms/step - loss: 266.6433 - accuracy: 0.6350 - val_loss: 18.3940 - val_accuracy: 0.9150\n",
            "Epoch 5/50\n",
            "22/22 [==============================] - 0s 23ms/step - loss: 269.5626 - accuracy: 0.6129 - val_loss: 2199.4504 - val_accuracy: 0.0000e+00\n",
            "Epoch 6/50\n",
            "22/22 [==============================] - 1s 23ms/step - loss: 403.7193 - accuracy: 0.6357 - val_loss: 1814.8420 - val_accuracy: 0.0000e+00\n",
            "Epoch 7/50\n",
            "22/22 [==============================] - 1s 23ms/step - loss: 353.9066 - accuracy: 0.6250 - val_loss: 306.3951 - val_accuracy: 0.1767\n",
            "Epoch 8/50\n",
            "22/22 [==============================] - 0s 23ms/step - loss: 164.3388 - accuracy: 0.6543 - val_loss: 749.8936 - val_accuracy: 0.0117\n",
            "Epoch 9/50\n",
            "22/22 [==============================] - 1s 23ms/step - loss: 228.2265 - accuracy: 0.6221 - val_loss: 26.6932 - val_accuracy: 0.8350\n"
          ]
        }
      ]
    },
    {
      "cell_type": "code",
      "source": [
        "# test 데이터 활용해 평가하기\n",
        "# 모델.score(문제, 답) -> 머신 러닝 모델 평가 함수 (sklearn)\n",
        "# 모델.evaluate(문제, 답) -> 딥러닝 모델 평가 함수 (tensorflow.keras)\n",
        "mlp_model.evaluate(X_test, y_test)"
      ],
      "metadata": {
        "colab": {
          "base_uri": "https://localhost:8080/"
        },
        "id": "d3MU_yieSesz",
        "outputId": "4980fa00-dbd6-4174-fcc7-7b87303d258f"
      },
      "execution_count": 12,
      "outputs": [
        {
          "output_type": "stream",
          "name": "stdout",
          "text": [
            "32/32 [==============================] - 0s 5ms/step - loss: 121.2461 - accuracy: 0.5650\n"
          ]
        },
        {
          "output_type": "execute_result",
          "data": {
            "text/plain": [
              "[121.24605560302734, 0.5649999976158142]"
            ]
          },
          "metadata": {},
          "execution_count": 12
        }
      ]
    },
    {
      "cell_type": "markdown",
      "source": [
        "# CNN 모델 생성\n",
        "- 1. 모델 설계 (CNN 층)\n",
        "- 2. 모델 학습 및 평가 방법 설정\n",
        "- 3. 모델 학습 및 시각화\n",
        "- 4. 모델 평가 및 예측"
      ],
      "metadata": {
        "id": "zucpDdwkTZUb"
      }
    },
    {
      "cell_type": "code",
      "source": [
        "from tensorflow.keras import Sequential\n",
        "from tensorflow.keras.layers import Dense, Flatten, Conv2D, MaxPooling2D, Dropout"
      ],
      "metadata": {
        "id": "LaDnnBPzThRn"
      },
      "execution_count": 14,
      "outputs": []
    },
    {
      "cell_type": "code",
      "source": [
        "# cnn 신경망 구조 설계\n",
        "# 뼈대 생성\n",
        "cnn_model = Sequential()\n",
        "\n",
        "# 대상에 집중 -> 중요한 특성에 집중 -> 특성 추출\n",
        "# 특성 추출부(층) - conv(합성곱)\n",
        "cnn_model.add(Conv2D(32, (3, 3), padding = 'same', input_shape = (224, 224, 3), activation = 'relu'))\n",
        "cnn_model.add(MaxPooling2D(pool_size = 2))\n",
        "\n",
        "cnn_model.add(Conv2D(64, (3, 3), padding = 'same', activation = 'relu'))\n",
        "cnn_model.add(MaxPooling2D(pool_size = 2))\n",
        "\n",
        "cnn_model.add(Conv2D(128, (3, 3), padding = 'same', activation = 'relu'))\n",
        "cnn_model.add(MaxPooling2D(pool_size = 2))\n",
        "\n",
        "# 고양이, 개 분류부(층) - mlp(입력(1차원으로 펴주는 기능), 중간, 출력층(이진 분류))\n",
        "cnn_model.add(Flatten())\n",
        "cnn_model.add(Dense(512, activation = 'relu'))\n",
        "cnn_model.add(Dense(1, activation = 'sigmoid'))\n",
        "\n",
        "# 모델 정보 확인\n",
        "cnn_model.summary()"
      ],
      "metadata": {
        "colab": {
          "base_uri": "https://localhost:8080/"
        },
        "id": "BA5b7VTjUTeg",
        "outputId": "5671775a-efc2-4e27-be15-27bb1de9db27"
      },
      "execution_count": 15,
      "outputs": [
        {
          "output_type": "stream",
          "name": "stdout",
          "text": [
            "Model: \"sequential_1\"\n",
            "_________________________________________________________________\n",
            " Layer (type)                Output Shape              Param #   \n",
            "=================================================================\n",
            " conv2d (Conv2D)             (None, 224, 224, 32)      896       \n",
            "                                                                 \n",
            " max_pooling2d (MaxPooling2  (None, 112, 112, 32)      0         \n",
            " D)                                                              \n",
            "                                                                 \n",
            " conv2d_1 (Conv2D)           (None, 112, 112, 64)      18496     \n",
            "                                                                 \n",
            " max_pooling2d_1 (MaxPoolin  (None, 56, 56, 64)        0         \n",
            " g2D)                                                            \n",
            "                                                                 \n",
            " conv2d_2 (Conv2D)           (None, 56, 56, 128)       73856     \n",
            "                                                                 \n",
            " max_pooling2d_2 (MaxPoolin  (None, 28, 28, 128)       0         \n",
            " g2D)                                                            \n",
            "                                                                 \n",
            " flatten_1 (Flatten)         (None, 100352)            0         \n",
            "                                                                 \n",
            " dense_4 (Dense)             (None, 512)               51380736  \n",
            "                                                                 \n",
            " dense_5 (Dense)             (None, 1)                 513       \n",
            "                                                                 \n",
            "=================================================================\n",
            "Total params: 51474497 (196.36 MB)\n",
            "Trainable params: 51474497 (196.36 MB)\n",
            "Non-trainable params: 0 (0.00 Byte)\n",
            "_________________________________________________________________\n"
          ]
        }
      ]
    },
    {
      "cell_type": "code",
      "source": [
        "# compile\n",
        "cnn_model.compile(loss = 'binary_crossentropy', optimizer = 'adam', metrics= ['accuracy'])\n",
        "\n",
        "# fit\n",
        "cnn_his = cnn_model.fit(X_train, y_train, validation_split= 0.3, batch_size = 64, epochs = 50, callbacks= [f_ea])"
      ],
      "metadata": {
        "colab": {
          "base_uri": "https://localhost:8080/"
        },
        "id": "nz43UpDXWmBX",
        "outputId": "5cefb4b1-7ba9-44bd-b973-81f5e1d64c63"
      },
      "execution_count": 17,
      "outputs": [
        {
          "output_type": "stream",
          "name": "stdout",
          "text": [
            "Epoch 1/50\n",
            "22/22 [==============================] - 13s 202ms/step - loss: 249.6688 - accuracy: 0.5507 - val_loss: 0.7053 - val_accuracy: 0.0983\n",
            "Epoch 2/50\n",
            "22/22 [==============================] - 2s 108ms/step - loss: 0.6388 - accuracy: 0.7100 - val_loss: 1.2939 - val_accuracy: 0.0033\n",
            "Epoch 3/50\n",
            "22/22 [==============================] - 2s 107ms/step - loss: 0.5228 - accuracy: 0.7464 - val_loss: 1.1300 - val_accuracy: 0.3767\n",
            "Epoch 4/50\n",
            "22/22 [==============================] - 2s 106ms/step - loss: 0.4290 - accuracy: 0.8157 - val_loss: 1.6260 - val_accuracy: 0.2650\n",
            "Epoch 5/50\n",
            "22/22 [==============================] - 2s 102ms/step - loss: 0.3003 - accuracy: 0.8721 - val_loss: 2.0889 - val_accuracy: 0.3600\n",
            "Epoch 6/50\n",
            "22/22 [==============================] - 2s 107ms/step - loss: 0.2034 - accuracy: 0.9164 - val_loss: 2.5003 - val_accuracy: 0.2833\n",
            "Epoch 7/50\n",
            "22/22 [==============================] - 2s 106ms/step - loss: 0.1453 - accuracy: 0.9536 - val_loss: 7.3087 - val_accuracy: 0.1717\n",
            "Epoch 8/50\n",
            "22/22 [==============================] - 2s 106ms/step - loss: 0.0902 - accuracy: 0.9714 - val_loss: 3.9268 - val_accuracy: 0.3050\n"
          ]
        }
      ]
    },
    {
      "cell_type": "code",
      "source": [
        "# 과대적합 보여짐\n",
        "# 왜 이렇게 학습했을까?\n",
        "# cnn 틀성에 집중 -> val 예측 성능은 떨어지는 상태\n",
        "# 데이터는 복잡한 데이터일 수 있읍\n",
        "# 반대로 모델은 너무 단순할 수 있음\n",
        "\n",
        "# 평가\n",
        "cnn_model.evaluate(X_test, y_test)[1]"
      ],
      "metadata": {
        "colab": {
          "base_uri": "https://localhost:8080/"
        },
        "id": "VljCR4G6XrRy",
        "outputId": "57c736a0-043c-4a50-87f2-b3619b3f0357"
      },
      "execution_count": 18,
      "outputs": [
        {
          "output_type": "stream",
          "name": "stdout",
          "text": [
            "32/32 [==============================] - 1s 18ms/step - loss: 2.2117 - accuracy: 0.5800\n"
          ]
        },
        {
          "output_type": "execute_result",
          "data": {
            "text/plain": [
              "0.5799999833106995"
            ]
          },
          "metadata": {},
          "execution_count": 18
        }
      ]
    }
  ]
}