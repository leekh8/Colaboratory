{
  "nbformat": 4,
  "nbformat_minor": 0,
  "metadata": {
    "colab": {
      "provenance": [],
      "gpuType": "T4",
      "mount_file_id": "10ln-LM_MCUedTr2_dtBKPnitQEV8WzMc",
      "authorship_tag": "ABX9TyN0MP7XX9fzsBCS7myf1an3",
      "include_colab_link": true
    },
    "kernelspec": {
      "name": "python3",
      "display_name": "Python 3"
    },
    "language_info": {
      "name": "python"
    },
    "accelerator": "GPU"
  },
  "cells": [
    {
      "cell_type": "markdown",
      "metadata": {
        "id": "view-in-github",
        "colab_type": "text"
      },
      "source": [
        "<a href=\"https://colab.research.google.com/github/leekh8/Colaboratory/blob/main/ex10_MLP%2CCNN_%EA%B0%9C%2C%EA%B3%A0%EC%96%91%EC%9D%B4_%EC%9D%B4%EC%A7%84%EB%B6%84%EB%A5%98.ipynb\" target=\"_parent\"><img src=\"https://colab.research.google.com/assets/colab-badge.svg\" alt=\"Open In Colab\"/></a>"
      ]
    },
    {
      "cell_type": "code",
      "execution_count": 1,
      "metadata": {
        "colab": {
          "base_uri": "https://localhost:8080/"
        },
        "id": "aBl8Bt68zdlH",
        "outputId": "246ba2cf-90e5-40bd-841c-7c4567f7ad26"
      },
      "outputs": [
        {
          "output_type": "stream",
          "name": "stdout",
          "text": [
            "Mounted at /content/drive\n",
            "/content/drive/MyDrive/Colab Notebooks/Colaboratory/AISchool\n"
          ]
        }
      ],
      "source": [
        "from google.colab import drive\n",
        "drive.mount('/content/drive')\n",
        "%cd '/content/drive/MyDrive/Colab Notebooks/Colaboratory/AISchool/'"
      ]
    },
    {
      "cell_type": "markdown",
      "source": [
        "# 목표\n",
        "- 개, 고양이 데이터 이미지를 배열로 변환 (이미지 데이터 전처리)\n",
        "  - 이미지 자체를 저장소에 업로드하는 것 보다 배열로 변환했을 때 용량 소모 적음\n",
        "- MLP 이미지 데이터 이진 분류\n",
        "- CNN 이미지 데이터 이진 분류\n",
        "- 성능 향상을 위한 노력\n",
        "  - 이미지 증식\n",
        "  - 전이학습"
      ],
      "metadata": {
        "id": "ONuINGT81WZF"
      }
    },
    {
      "cell_type": "code",
      "source": [
        "# 환경 세팅\n",
        "import os\n",
        "import numpy as np\n",
        "import pandas as pd\n",
        "import matplotlib.pyplot as plt\n",
        "\n",
        "# 이미지 다루는 라이브러리\n",
        "from PIL import Image"
      ],
      "metadata": {
        "id": "NEPLYOIMIt3V"
      },
      "execution_count": 2,
      "outputs": []
    },
    {
      "cell_type": "code",
      "source": [
        "# 개고양이 배열 데이터 불러오기\n",
        "data = np.load('./Data/np_cat_vs_dog.npz')\n",
        "data"
      ],
      "metadata": {
        "colab": {
          "base_uri": "https://localhost:8080/"
        },
        "id": "zwAB5BTMIowD",
        "outputId": "3f49cf5a-9177-4f34-d228-ecd91fb5e4ba"
      },
      "execution_count": 3,
      "outputs": [
        {
          "output_type": "execute_result",
          "data": {
            "text/plain": [
              "<numpy.lib.npyio.NpzFile at 0x7db1cc4ecb20>"
            ]
          },
          "metadata": {},
          "execution_count": 3
        }
      ]
    },
    {
      "cell_type": "code",
      "source": [
        "len(data)"
      ],
      "metadata": {
        "colab": {
          "base_uri": "https://localhost:8080/"
        },
        "id": "zwMMbKFVI9zV",
        "outputId": "c5082bc4-7c6e-4e9d-c08f-4facd9421a7d"
      },
      "execution_count": 4,
      "outputs": [
        {
          "output_type": "execute_result",
          "data": {
            "text/plain": [
              "4"
            ]
          },
          "metadata": {},
          "execution_count": 4
        }
      ]
    },
    {
      "cell_type": "code",
      "source": [
        "# 각각의 변수에 데이터 분리해서 담아주기\n",
        "X_train = data['X_train']\n",
        "X_test = data['X_test']\n",
        "y_train = data['y_train']\n",
        "y_test = data['y_test']\n",
        "\n",
        "# 크기 확인\n",
        "print(\"훈련 셋: \", X_train.shape, y_train.shape)\n",
        "print(\"테스트 셋: \", X_test.shape, y_test.shape)"
      ],
      "metadata": {
        "colab": {
          "base_uri": "https://localhost:8080/"
        },
        "id": "7AVQhyR1JFcs",
        "outputId": "6ac07070-6359-49c6-d4ae-286173719c4e"
      },
      "execution_count": 5,
      "outputs": [
        {
          "output_type": "stream",
          "name": "stdout",
          "text": [
            "훈련 셋:  (2000, 224, 224, 3) (2000,)\n",
            "테스트 셋:  (1000, 224, 224, 3) (1000,)\n"
          ]
        }
      ]
    },
    {
      "cell_type": "markdown",
      "source": [
        "# MLP 모델 생성"
      ],
      "metadata": {
        "id": "30ys6EeNM8a1"
      }
    },
    {
      "cell_type": "code",
      "source": [
        "from tensorflow.keras import Sequential\n",
        "from tensorflow.keras.layers import Dense, Flatten\n",
        "from tensorflow.keras.callbacks import EarlyStopping"
      ],
      "metadata": {
        "id": "M8kcJqkOJejG"
      },
      "execution_count": 6,
      "outputs": []
    },
    {
      "cell_type": "code",
      "source": [
        "# 1. 모델 설계\n",
        "# 뼈대 구축\n",
        "mlp_model = Sequential()\n",
        "\n",
        "# 입력 (3차원 -> 1차)\n",
        "mlp_model.add(Flatten(input_shape = (224, 224, 3)))\n",
        "\n",
        "# 중간층\n",
        "mlp_model.add(Dense(units = 256, activation = 'relu'))\n",
        "mlp_model.add(Dense(units = 128, activation = 'relu'))\n",
        "mlp_model.add(Dense(units = 64, activation = 'relu'))\n",
        "\n",
        "# 출력층 (분류)\n",
        "mlp_model.add(Dense(units = 1, activation = 'sigmoid'))\n",
        "mlp_model.summary()"
      ],
      "metadata": {
        "colab": {
          "base_uri": "https://localhost:8080/"
        },
        "id": "6gY7BHG4NR7S",
        "outputId": "9b47847d-b4cc-45c5-f71d-a3b643277e1c"
      },
      "execution_count": 7,
      "outputs": [
        {
          "output_type": "stream",
          "name": "stdout",
          "text": [
            "Model: \"sequential\"\n",
            "_________________________________________________________________\n",
            " Layer (type)                Output Shape              Param #   \n",
            "=================================================================\n",
            " flatten (Flatten)           (None, 150528)            0         \n",
            "                                                                 \n",
            " dense (Dense)               (None, 256)               38535424  \n",
            "                                                                 \n",
            " dense_1 (Dense)             (None, 128)               32896     \n",
            "                                                                 \n",
            " dense_2 (Dense)             (None, 64)                8256      \n",
            "                                                                 \n",
            " dense_3 (Dense)             (None, 1)                 65        \n",
            "                                                                 \n",
            "=================================================================\n",
            "Total params: 38576641 (147.16 MB)\n",
            "Trainable params: 38576641 (147.16 MB)\n",
            "Non-trainable params: 0 (0.00 Byte)\n",
            "_________________________________________________________________\n"
          ]
        }
      ]
    },
    {
      "cell_type": "code",
      "source": [
        "# 번역 compile\n",
        "# pc가 이해하도록 번역\n",
        "# loss, optimizer, metrics 설정\n",
        "\n",
        "# 이진 분류\n",
        "mlp_model.compile(loss = \"binary_crossentropy\", optimizer = 'adam', metrics = [\"accuracy\"])"
      ],
      "metadata": {
        "id": "Y-1OTO6RPp6B"
      },
      "execution_count": 8,
      "outputs": []
    },
    {
      "cell_type": "code",
      "source": [
        "# 조기 학습 중단 설정\n",
        "# 검증 정확도, 인내심 5번\n",
        "f_ea = EarlyStopping(monitor = 'val_accuracy', patience = 5)"
      ],
      "metadata": {
        "id": "OW4bLnw2P-FN"
      },
      "execution_count": 9,
      "outputs": []
    },
    {
      "cell_type": "code",
      "source": [
        "# 학습, 검증 데이터 분리 (7:3), batch_size = 64, 반복 횟수 = 50, 조기 학습 중단 연결\n",
        "mlp_his = mlp_model.fit(X_train, y_train, validation_split = 0.3, epochs = 50, batch_size = 64, callbacks = [f_ea])"
      ],
      "metadata": {
        "colab": {
          "base_uri": "https://localhost:8080/"
        },
        "id": "75niZVlAQlR0",
        "outputId": "d4f29acf-a2b4-402a-e862-0bf0c5142ca7"
      },
      "execution_count": 10,
      "outputs": [
        {
          "output_type": "stream",
          "name": "stdout",
          "text": [
            "Epoch 1/50\n",
            "22/22 [==============================] - 8s 39ms/step - loss: 2444.0554 - accuracy: 0.5843 - val_loss: 4842.3057 - val_accuracy: 0.0000e+00\n",
            "Epoch 2/50\n",
            "22/22 [==============================] - 0s 19ms/step - loss: 2056.3877 - accuracy: 0.5529 - val_loss: 5609.5776 - val_accuracy: 0.0000e+00\n",
            "Epoch 3/50\n",
            "22/22 [==============================] - 0s 22ms/step - loss: 791.4224 - accuracy: 0.6200 - val_loss: 0.0000e+00 - val_accuracy: 1.0000\n",
            "Epoch 4/50\n",
            "22/22 [==============================] - 0s 22ms/step - loss: 609.5445 - accuracy: 0.5900 - val_loss: 1462.1985 - val_accuracy: 0.0000e+00\n",
            "Epoch 5/50\n",
            "22/22 [==============================] - 0s 18ms/step - loss: 244.0798 - accuracy: 0.6493 - val_loss: 139.6986 - val_accuracy: 0.4567\n",
            "Epoch 6/50\n",
            "22/22 [==============================] - 0s 22ms/step - loss: 348.9546 - accuracy: 0.6250 - val_loss: 778.5357 - val_accuracy: 0.0133\n",
            "Epoch 7/50\n",
            "22/22 [==============================] - 0s 18ms/step - loss: 227.7224 - accuracy: 0.6264 - val_loss: 15.3340 - val_accuracy: 0.8917\n",
            "Epoch 8/50\n",
            "22/22 [==============================] - 0s 19ms/step - loss: 190.8178 - accuracy: 0.6486 - val_loss: 1138.2063 - val_accuracy: 0.0000e+00\n"
          ]
        }
      ]
    },
    {
      "cell_type": "code",
      "source": [
        "# test 데이터 활용해 평가하기\n",
        "# 모델.score(문제, 답) -> 머신 러닝 모델 평가 함수 (sklearn)\n",
        "# 모델.evaluate(문제, 답) -> 딥러닝 모델 평가 함수 (tensorflow.keras)\n",
        "mlp_model.evaluate(X_test, y_test)"
      ],
      "metadata": {
        "colab": {
          "base_uri": "https://localhost:8080/"
        },
        "id": "d3MU_yieSesz",
        "outputId": "5db13abd-2691-45e2-dde8-62a5172177e8"
      },
      "execution_count": 11,
      "outputs": [
        {
          "output_type": "stream",
          "name": "stdout",
          "text": [
            "32/32 [==============================] - 0s 4ms/step - loss: 572.3760 - accuracy: 0.5000\n"
          ]
        },
        {
          "output_type": "execute_result",
          "data": {
            "text/plain": [
              "[572.3760375976562, 0.5]"
            ]
          },
          "metadata": {},
          "execution_count": 11
        }
      ]
    },
    {
      "cell_type": "markdown",
      "source": [
        "# CNN 모델 생성\n",
        "- 1. 모델 설계 (CNN 층)\n",
        "- 2. 모델 학습 및 평가 방법 설정\n",
        "- 3. 모델 학습 및 시각화\n",
        "- 4. 모델 평가 및 예측"
      ],
      "metadata": {
        "id": "zucpDdwkTZUb"
      }
    },
    {
      "cell_type": "code",
      "source": [
        "from tensorflow.keras import Sequential\n",
        "from tensorflow.keras.layers import Dense, Flatten, Conv2D, MaxPooling2D, Dropout"
      ],
      "metadata": {
        "id": "LaDnnBPzThRn"
      },
      "execution_count": 12,
      "outputs": []
    },
    {
      "cell_type": "code",
      "source": [
        "# cnn 신경망 구조 설계\n",
        "# 뼈대 생성\n",
        "cnn_model = Sequential()\n",
        "\n",
        "# 대상에 집중 -> 중요한 특성에 집중 -> 특성 추출\n",
        "# 특성 추출부(층) - conv(합성곱)\n",
        "cnn_model.add(Conv2D(filters = 32, kernel_size = (3, 3), padding = 'same', input_shape = (224, 224, 3), activation = 'relu'))\n",
        "cnn_model.add(MaxPooling2D(pool_size = 2))\n",
        "\n",
        "cnn_model.add(Conv2D(64, (3, 3), padding = 'same', activation = 'relu'))\n",
        "cnn_model.add(MaxPooling2D(pool_size = 2))\n",
        "\n",
        "cnn_model.add(Conv2D(128, (3, 3), padding = 'same', activation = 'relu'))\n",
        "cnn_model.add(MaxPooling2D(pool_size = 2))\n",
        "\n",
        "# 고양이, 개 분류부(층) - mlp(입력(1차원으로 펴주는 기능), 중간, 출력층(이진 분류))\n",
        "cnn_model.add(Flatten())\n",
        "cnn_model.add(Dense(512, activation = 'relu'))\n",
        "cnn_model.add(Dense(1, activation = 'sigmoid'))\n",
        "\n",
        "# 모델 정보 확인\n",
        "cnn_model.summary()"
      ],
      "metadata": {
        "colab": {
          "base_uri": "https://localhost:8080/"
        },
        "id": "BA5b7VTjUTeg",
        "outputId": "4033c2b6-185f-4958-c25e-5f1e954df6df"
      },
      "execution_count": 13,
      "outputs": [
        {
          "output_type": "stream",
          "name": "stdout",
          "text": [
            "Model: \"sequential_1\"\n",
            "_________________________________________________________________\n",
            " Layer (type)                Output Shape              Param #   \n",
            "=================================================================\n",
            " conv2d (Conv2D)             (None, 224, 224, 32)      896       \n",
            "                                                                 \n",
            " max_pooling2d (MaxPooling2  (None, 112, 112, 32)      0         \n",
            " D)                                                              \n",
            "                                                                 \n",
            " conv2d_1 (Conv2D)           (None, 112, 112, 64)      18496     \n",
            "                                                                 \n",
            " max_pooling2d_1 (MaxPoolin  (None, 56, 56, 64)        0         \n",
            " g2D)                                                            \n",
            "                                                                 \n",
            " conv2d_2 (Conv2D)           (None, 56, 56, 128)       73856     \n",
            "                                                                 \n",
            " max_pooling2d_2 (MaxPoolin  (None, 28, 28, 128)       0         \n",
            " g2D)                                                            \n",
            "                                                                 \n",
            " flatten_1 (Flatten)         (None, 100352)            0         \n",
            "                                                                 \n",
            " dense_4 (Dense)             (None, 512)               51380736  \n",
            "                                                                 \n",
            " dense_5 (Dense)             (None, 1)                 513       \n",
            "                                                                 \n",
            "=================================================================\n",
            "Total params: 51474497 (196.36 MB)\n",
            "Trainable params: 51474497 (196.36 MB)\n",
            "Non-trainable params: 0 (0.00 Byte)\n",
            "_________________________________________________________________\n"
          ]
        }
      ]
    },
    {
      "cell_type": "code",
      "source": [
        "# compile\n",
        "cnn_model.compile(loss = 'binary_crossentropy', optimizer = 'adam', metrics= ['accuracy'])\n",
        "\n",
        "# fit\n",
        "cnn_his = cnn_model.fit(X_train, y_train, validation_split= 0.3, batch_size = 64, epochs = 50, callbacks= [f_ea])"
      ],
      "metadata": {
        "colab": {
          "base_uri": "https://localhost:8080/"
        },
        "id": "nz43UpDXWmBX",
        "outputId": "8218b2b5-763f-416d-f5cc-65244164df4a"
      },
      "execution_count": 14,
      "outputs": [
        {
          "output_type": "stream",
          "name": "stdout",
          "text": [
            "Epoch 1/50\n",
            "22/22 [==============================] - 14s 204ms/step - loss: 385.0046 - accuracy: 0.6114 - val_loss: 1.0898 - val_accuracy: 0.0000e+00\n",
            "Epoch 2/50\n",
            "22/22 [==============================] - 2s 102ms/step - loss: 0.6001 - accuracy: 0.7150 - val_loss: 1.1161 - val_accuracy: 0.0000e+00\n",
            "Epoch 3/50\n",
            "22/22 [==============================] - 2s 103ms/step - loss: 0.5561 - accuracy: 0.7214 - val_loss: 1.4645 - val_accuracy: 0.0000e+00\n",
            "Epoch 4/50\n",
            "22/22 [==============================] - 2s 106ms/step - loss: 0.5213 - accuracy: 0.7421 - val_loss: 1.5257 - val_accuracy: 0.0100\n",
            "Epoch 5/50\n",
            "22/22 [==============================] - 2s 103ms/step - loss: 0.4472 - accuracy: 0.7979 - val_loss: 1.6445 - val_accuracy: 0.0867\n",
            "Epoch 6/50\n",
            "22/22 [==============================] - 2s 98ms/step - loss: 0.4218 - accuracy: 0.7971 - val_loss: 3.2314 - val_accuracy: 0.2200\n",
            "Epoch 7/50\n",
            "22/22 [==============================] - 2s 102ms/step - loss: 0.4493 - accuracy: 0.8271 - val_loss: 2.9773 - val_accuracy: 0.2383\n",
            "Epoch 8/50\n",
            "22/22 [==============================] - 2s 98ms/step - loss: 0.2607 - accuracy: 0.8857 - val_loss: 4.4698 - val_accuracy: 0.1717\n",
            "Epoch 9/50\n",
            "22/22 [==============================] - 2s 103ms/step - loss: 0.1656 - accuracy: 0.9321 - val_loss: 4.6063 - val_accuracy: 0.2717\n",
            "Epoch 10/50\n",
            "22/22 [==============================] - 2s 105ms/step - loss: 0.1442 - accuracy: 0.9421 - val_loss: 5.0715 - val_accuracy: 0.1533\n",
            "Epoch 11/50\n",
            "22/22 [==============================] - 2s 100ms/step - loss: 0.1289 - accuracy: 0.9514 - val_loss: 4.7283 - val_accuracy: 0.3583\n",
            "Epoch 12/50\n",
            "22/22 [==============================] - 2s 98ms/step - loss: 0.1054 - accuracy: 0.9607 - val_loss: 6.3603 - val_accuracy: 0.2700\n",
            "Epoch 13/50\n",
            "22/22 [==============================] - 2s 102ms/step - loss: 0.1254 - accuracy: 0.9457 - val_loss: 10.9218 - val_accuracy: 0.2083\n",
            "Epoch 14/50\n",
            "22/22 [==============================] - 2s 98ms/step - loss: 0.1112 - accuracy: 0.9579 - val_loss: 7.9852 - val_accuracy: 0.2350\n",
            "Epoch 15/50\n",
            "22/22 [==============================] - 2s 99ms/step - loss: 0.0709 - accuracy: 0.9729 - val_loss: 8.5015 - val_accuracy: 0.2767\n",
            "Epoch 16/50\n",
            "22/22 [==============================] - 2s 103ms/step - loss: 0.0559 - accuracy: 0.9807 - val_loss: 10.3421 - val_accuracy: 0.2267\n"
          ]
        }
      ]
    },
    {
      "cell_type": "code",
      "source": [
        "# 과대적합 보여짐\n",
        "# 왜 이렇게 학습했을까?\n",
        "# cnn 틀성에 집중 -> val 예측 성능은 떨어지는 상태\n",
        "# 데이터는 복잡한 데이터일 수 있읍\n",
        "# 반대로 모델은 너무 단순할 수 있음\n",
        "\n",
        "# 평가\n",
        "cnn_model.evaluate(X_test, y_test)[1]"
      ],
      "metadata": {
        "colab": {
          "base_uri": "https://localhost:8080/"
        },
        "id": "VljCR4G6XrRy",
        "outputId": "bd5eb03e-ad22-4b14-f040-e2b5de0d85a2"
      },
      "execution_count": 15,
      "outputs": [
        {
          "output_type": "stream",
          "name": "stdout",
          "text": [
            "32/32 [==============================] - 1s 21ms/step - loss: 5.6529 - accuracy: 0.5490\n"
          ]
        },
        {
          "output_type": "execute_result",
          "data": {
            "text/plain": [
              "0.5490000247955322"
            ]
          },
          "metadata": {},
          "execution_count": 15
        }
      ]
    },
    {
      "cell_type": "markdown",
      "source": [
        "# 데이터 확장하여 cnn 모델 학습 진행하기"
      ],
      "metadata": {
        "id": "lPMgGpe5J0vL"
      }
    },
    {
      "cell_type": "code",
      "source": [
        "from tensorflow.keras.preprocessing.image import ImageDataGenerator # 이미지 증식"
      ],
      "metadata": {
        "id": "seecK0goJyn1"
      },
      "execution_count": 16,
      "outputs": []
    },
    {
      "cell_type": "code",
      "source": [
        "# 증식할 데이터 경로 설정\n",
        "train_dir = \"./Data/cats_and_dogs_filtered/train\"\n",
        "test_dir = \"./Data/cats_and_dogs_filtered/test\"\n",
        "\n",
        "# 변형 형식 설정\n",
        "# 0~255 범위의 수치값을 0~1 사이로 변환\n",
        "train_gen = ImageDataGenerator(rescale = 1./255, zoom_range = 0.2, horizontal_flip = True)\n",
        "\n",
        "# 모델을 일반화 시키는 데이터는 학습용 데이터 (train에 증식 적용)\n",
        "test_gen = ImageDataGenerator(rescale = 1./255)"
      ],
      "metadata": {
        "id": "nelaiVtiKHx5"
      },
      "execution_count": 17,
      "outputs": []
    },
    {
      "cell_type": "code",
      "source": [
        "# 증식하기 위한 설정 필요\n",
        "train_generator = train_gen.flow_from_directory(train_dir, target_size = (224, 224), batch_size = 10, class_mode = 'binary')\n",
        "test_generator = test_gen.flow_from_directory(test_dir, target_size = (224, 224), batch_size = 10, class_mode = 'binary')"
      ],
      "metadata": {
        "colab": {
          "base_uri": "https://localhost:8080/"
        },
        "id": "CLGP7E8vMJnV",
        "outputId": "2203f695-11f5-448c-895d-76e492495e00"
      },
      "execution_count": 18,
      "outputs": [
        {
          "output_type": "stream",
          "name": "stdout",
          "text": [
            "Found 2000 images belonging to 2 classes.\n",
            "Found 1000 images belonging to 2 classes.\n"
          ]
        }
      ]
    },
    {
      "cell_type": "code",
      "source": [
        "# cnn 신경망 구조 설계\n",
        "# 뼈대 생성\n",
        "cnn_model2 = Sequential()\n",
        "\n",
        "# 대상에 집중 -> 중요한 특성에 집중 -> 특성 추출\n",
        "# 특성 추출부(층) - conv(합성곱)\n",
        "cnn_model2.add(Conv2D(filters = 32, kernel_size = (3, 3), padding = 'same', input_shape = (224, 224, 3), activation = 'relu'))\n",
        "cnn_model2.add(MaxPooling2D(pool_size = 2))\n",
        "\n",
        "cnn_model2.add(Conv2D(64, (3, 3), padding = 'same', activation = 'relu'))\n",
        "cnn_model2.add(MaxPooling2D(pool_size = 2))\n",
        "\n",
        "cnn_model2.add(Dropout(0.2)) # 20% 특성 제외하고 학습\n",
        "\n",
        "cnn_model2.add(Conv2D(128, (3, 3), padding = 'same', activation = 'relu'))\n",
        "cnn_model2.add(MaxPooling2D(pool_size = 2))\n",
        "\n",
        "# 고양이, 개 분류부(층) - mlp(입력(1차원으로 펴주는 기능), 중간, 출력층(이진 분류))\n",
        "cnn_model2.add(Flatten())\n",
        "cnn_model2.add(Dense(512, activation = 'relu'))\n",
        "\n",
        "cnn_model2.add(Dropout(0.2)) # 20% 특성 제외하고 학습 - 특성의 복잡도 줄임\n",
        "\n",
        "cnn_model2.add(Dense(1, activation = 'sigmoid'))\n",
        "\n",
        "# 모델 정보 확인\n",
        "cnn_model2.summary()"
      ],
      "metadata": {
        "colab": {
          "base_uri": "https://localhost:8080/"
        },
        "id": "ucnvQI9VNQAC",
        "outputId": "0b628968-13d8-4e3d-edfc-4d29fab01cfe"
      },
      "execution_count": 20,
      "outputs": [
        {
          "output_type": "stream",
          "name": "stdout",
          "text": [
            "Model: \"sequential_3\"\n",
            "_________________________________________________________________\n",
            " Layer (type)                Output Shape              Param #   \n",
            "=================================================================\n",
            " conv2d_6 (Conv2D)           (None, 224, 224, 32)      896       \n",
            "                                                                 \n",
            " max_pooling2d_6 (MaxPoolin  (None, 112, 112, 32)      0         \n",
            " g2D)                                                            \n",
            "                                                                 \n",
            " conv2d_7 (Conv2D)           (None, 112, 112, 64)      18496     \n",
            "                                                                 \n",
            " max_pooling2d_7 (MaxPoolin  (None, 56, 56, 64)        0         \n",
            " g2D)                                                            \n",
            "                                                                 \n",
            " dropout (Dropout)           (None, 56, 56, 64)        0         \n",
            "                                                                 \n",
            " conv2d_8 (Conv2D)           (None, 56, 56, 128)       73856     \n",
            "                                                                 \n",
            " max_pooling2d_8 (MaxPoolin  (None, 28, 28, 128)       0         \n",
            " g2D)                                                            \n",
            "                                                                 \n",
            " flatten_3 (Flatten)         (None, 100352)            0         \n",
            "                                                                 \n",
            " dense_8 (Dense)             (None, 512)               51380736  \n",
            "                                                                 \n",
            " dropout_1 (Dropout)         (None, 512)               0         \n",
            "                                                                 \n",
            " dense_9 (Dense)             (None, 1)                 513       \n",
            "                                                                 \n",
            "=================================================================\n",
            "Total params: 51474497 (196.36 MB)\n",
            "Trainable params: 51474497 (196.36 MB)\n",
            "Non-trainable params: 0 (0.00 Byte)\n",
            "_________________________________________________________________\n"
          ]
        }
      ]
    },
    {
      "cell_type": "code",
      "source": [
        "# 컴파일\n",
        "cnn_model2.compile(loss = 'binary_crossentropy', optimizer = 'adam', metrics=['accuracy'])"
      ],
      "metadata": {
        "id": "fgZaXaoePHmm"
      },
      "execution_count": 21,
      "outputs": []
    },
    {
      "cell_type": "code",
      "source": [
        "# 학습 - 이미지 증식 설정 연결\n",
        "# 이미지 증식을 하고 학습할 경우, 학습 진행이 들쭉날쭉한 경향\n",
        "# early stopping 연결 안함\n",
        "cnn_his2 = cnn_model2.fit_generator(generator = train_generator, validation_data=test_generator, epochs = 20)"
      ],
      "metadata": {
        "colab": {
          "base_uri": "https://localhost:8080/"
        },
        "id": "gnkIXVjRPRMv",
        "outputId": "3ddabfa0-db09-47eb-9972-97e69fb7832d"
      },
      "execution_count": 22,
      "outputs": [
        {
          "output_type": "stream",
          "name": "stderr",
          "text": [
            "<ipython-input-22-723fcd5e2f4c>:4: UserWarning: `Model.fit_generator` is deprecated and will be removed in a future version. Please use `Model.fit`, which supports generators.\n",
            "  cnn_his2 = cnn_model2.fit_generator(generator = train_generator, validation_data=test_generator, epochs = 20)\n"
          ]
        },
        {
          "output_type": "stream",
          "name": "stdout",
          "text": [
            "Epoch 1/20\n",
            "200/200 [==============================] - 809s 4s/step - loss: 0.8556 - accuracy: 0.5265 - val_loss: 0.6703 - val_accuracy: 0.5150\n",
            "Epoch 2/20\n",
            "200/200 [==============================] - 36s 181ms/step - loss: 0.6804 - accuracy: 0.5655 - val_loss: 0.6943 - val_accuracy: 0.5000\n",
            "Epoch 3/20\n",
            "200/200 [==============================] - 34s 171ms/step - loss: 0.6930 - accuracy: 0.5150 - val_loss: 0.6914 - val_accuracy: 0.4950\n",
            "Epoch 4/20\n",
            "200/200 [==============================] - 35s 174ms/step - loss: 0.6887 - accuracy: 0.5470 - val_loss: 0.7272 - val_accuracy: 0.5150\n",
            "Epoch 5/20\n",
            "200/200 [==============================] - 35s 173ms/step - loss: 0.6903 - accuracy: 0.5380 - val_loss: 0.6865 - val_accuracy: 0.5360\n",
            "Epoch 6/20\n",
            "200/200 [==============================] - 35s 173ms/step - loss: 0.6835 - accuracy: 0.5630 - val_loss: 0.6650 - val_accuracy: 0.5860\n",
            "Epoch 7/20\n",
            "200/200 [==============================] - 36s 181ms/step - loss: 0.6781 - accuracy: 0.5785 - val_loss: 0.6724 - val_accuracy: 0.6130\n",
            "Epoch 8/20\n",
            "200/200 [==============================] - 34s 172ms/step - loss: 0.6645 - accuracy: 0.6090 - val_loss: 0.6475 - val_accuracy: 0.6190\n",
            "Epoch 9/20\n",
            "200/200 [==============================] - 35s 175ms/step - loss: 0.6611 - accuracy: 0.6050 - val_loss: 0.6585 - val_accuracy: 0.6090\n",
            "Epoch 10/20\n",
            "200/200 [==============================] - 34s 172ms/step - loss: 0.6156 - accuracy: 0.6605 - val_loss: 0.6234 - val_accuracy: 0.6390\n",
            "Epoch 11/20\n",
            "200/200 [==============================] - 34s 172ms/step - loss: 0.6070 - accuracy: 0.6950 - val_loss: 0.5931 - val_accuracy: 0.7000\n",
            "Epoch 12/20\n",
            "200/200 [==============================] - 34s 172ms/step - loss: 0.5639 - accuracy: 0.6990 - val_loss: 0.5738 - val_accuracy: 0.7160\n",
            "Epoch 13/20\n",
            "200/200 [==============================] - 36s 180ms/step - loss: 0.5534 - accuracy: 0.7220 - val_loss: 0.5634 - val_accuracy: 0.6970\n",
            "Epoch 14/20\n",
            "200/200 [==============================] - 34s 170ms/step - loss: 0.5135 - accuracy: 0.7435 - val_loss: 0.6074 - val_accuracy: 0.6840\n",
            "Epoch 15/20\n",
            "200/200 [==============================] - 34s 172ms/step - loss: 0.5132 - accuracy: 0.7575 - val_loss: 0.5853 - val_accuracy: 0.6880\n",
            "Epoch 16/20\n",
            "200/200 [==============================] - 35s 173ms/step - loss: 0.4761 - accuracy: 0.7740 - val_loss: 0.5904 - val_accuracy: 0.7130\n",
            "Epoch 17/20\n",
            "200/200 [==============================] - 36s 180ms/step - loss: 0.4580 - accuracy: 0.7870 - val_loss: 0.5906 - val_accuracy: 0.6970\n",
            "Epoch 18/20\n",
            "200/200 [==============================] - 34s 170ms/step - loss: 0.4390 - accuracy: 0.8075 - val_loss: 0.5916 - val_accuracy: 0.7100\n",
            "Epoch 19/20\n",
            "200/200 [==============================] - 36s 180ms/step - loss: 0.4220 - accuracy: 0.8120 - val_loss: 0.6014 - val_accuracy: 0.7080\n",
            "Epoch 20/20\n",
            "200/200 [==============================] - 34s 171ms/step - loss: 0.4064 - accuracy: 0.8255 - val_loss: 0.6115 - val_accuracy: 0.7060\n"
          ]
        }
      ]
    },
    {
      "cell_type": "code",
      "source": [
        "# cnn_model -> cnn_his\n",
        "# 이미지 증식 학습 cnn_model2 -> cnn_his2\n",
        "# 선그래프로 시각화하여 비교\n",
        "# 범례 표시\n",
        "# 도화지 한장에 4개의 선 그래프 그려보기\n",
        "cnn1_x = len(cnn_his.history['accuracy'])\n",
        "plt.plot(range(1, cnn1_x + 1), cnn_his.history['accuracy'], label = 'cnn1 acc')\n",
        "plt.plot(range(1, cnn1_x + 1), cnn_his.history['val_accuracy'], label = 'cnn1 val_acc')\n",
        "\n",
        "cnn2_x = len(cnn_his2.history['accuracy'])\n",
        "plt.plot(range(1, cnn2_x + 1), cnn_his2.history['accuracy'], label = 'cnn2 acc')\n",
        "plt.plot(range(1, cnn2_x + 1), cnn_his2.history['val_accuracy'], label = 'cnn2 val_acc')\n",
        "\n",
        "plt.legend()\n",
        "\n",
        "plt.show()\n",
        "\n",
        "# 이미지 증식을 통해 과대적합 해소 확인 가능\n",
        "# 이미지 증식으로 모델 성능 향상\n",
        "# 이미지 증식 소요 시간 증가"
      ],
      "metadata": {
        "colab": {
          "base_uri": "https://localhost:8080/",
          "height": 430
        },
        "id": "xA4xTuDOXlyH",
        "outputId": "60802d10-26ce-4b62-a05f-2bab5f5b6f13"
      },
      "execution_count": 30,
      "outputs": [
        {
          "output_type": "display_data",
          "data": {
            "text/plain": [
              "<Figure size 640x480 with 1 Axes>"
            ],
            "image/png": "[encoded data removed]"
          },
          "metadata": {}
        }
      ]
    },
    {
      "cell_type": "markdown",
      "source": [
        "# 전이 학습\n",
        "- 다른 사람이 만들어놓은 모델을 사용해보자 (시간 단축)\n",
        "- 완전히 똑같은 데이터로 학습한 것은 아님 (레이블이 다를 수 있음)\n",
        "- 현재 목표: 고양이 vs 개\n",
        "- 전이학습 모델: 호랑이 vs 사자 vs 표범\n",
        "- 분류하려는 대상은 다르지만 판단한다는 기준 비슷할 수 있으니 가져와서 활용해보자"
      ],
      "metadata": {
        "id": "vR-X_avNa7P9"
      }
    },
    {
      "cell_type": "code",
      "source": [
        "from tensorflow.keras.applications import VGG16\n",
        "# VGG16: 사전 학습된 모델(pretrained model)\n",
        "\n",
        "vgg16 = VGG16(include_top = False, weights = 'imagenet', input_shape = (224, 224, 3))\n",
        "\n",
        "# include_top: 분류부(전결합)\n",
        "# weights: 'imagenet' 경진대회 data set을 보며 학습한 모델의 가중치\n",
        "# imagenet 클래스: 1000개의 사물, 100만장의 사진\n",
        "\n",
        "vgg16.summary() # 분류부 추가 후 내가 원하는 데이터 추가 학습"
      ],
      "metadata": {
        "colab": {
          "base_uri": "https://localhost:8080/"
        },
        "id": "B-wWtvJkbeTs",
        "outputId": "a7dd59c1-ff71-4291-af95-27515a834c75"
      },
      "execution_count": 42,
      "outputs": [
        {
          "output_type": "stream",
          "name": "stdout",
          "text": [
            "Model: \"vgg16\"\n",
            "_________________________________________________________________\n",
            " Layer (type)                Output Shape              Param #   \n",
            "=================================================================\n",
            " input_2 (InputLayer)        [(None, 224, 224, 3)]     0         \n",
            "                                                                 \n",
            " block1_conv1 (Conv2D)       (None, 224, 224, 64)      1792      \n",
            "                                                                 \n",
            " block1_conv2 (Conv2D)       (None, 224, 224, 64)      36928     \n",
            "                                                                 \n",
            " block1_pool (MaxPooling2D)  (None, 112, 112, 64)      0         \n",
            "                                                                 \n",
            " block2_conv1 (Conv2D)       (None, 112, 112, 128)     73856     \n",
            "                                                                 \n",
            " block2_conv2 (Conv2D)       (None, 112, 112, 128)     147584    \n",
            "                                                                 \n",
            " block2_pool (MaxPooling2D)  (None, 56, 56, 128)       0         \n",
            "                                                                 \n",
            " block3_conv1 (Conv2D)       (None, 56, 56, 256)       295168    \n",
            "                                                                 \n",
            " block3_conv2 (Conv2D)       (None, 56, 56, 256)       590080    \n",
            "                                                                 \n",
            " block3_conv3 (Conv2D)       (None, 56, 56, 256)       590080    \n",
            "                                                                 \n",
            " block3_pool (MaxPooling2D)  (None, 28, 28, 256)       0         \n",
            "                                                                 \n",
            " block4_conv1 (Conv2D)       (None, 28, 28, 512)       1180160   \n",
            "                                                                 \n",
            " block4_conv2 (Conv2D)       (None, 28, 28, 512)       2359808   \n",
            "                                                                 \n",
            " block4_conv3 (Conv2D)       (None, 28, 28, 512)       2359808   \n",
            "                                                                 \n",
            " block4_pool (MaxPooling2D)  (None, 14, 14, 512)       0         \n",
            "                                                                 \n",
            " block5_conv1 (Conv2D)       (None, 14, 14, 512)       2359808   \n",
            "                                                                 \n",
            " block5_conv2 (Conv2D)       (None, 14, 14, 512)       2359808   \n",
            "                                                                 \n",
            " block5_conv3 (Conv2D)       (None, 14, 14, 512)       2359808   \n",
            "                                                                 \n",
            " block5_pool (MaxPooling2D)  (None, 7, 7, 512)         0         \n",
            "                                                                 \n",
            "=================================================================\n",
            "Total params: 14714688 (56.13 MB)\n",
            "Trainable params: 14714688 (56.13 MB)\n",
            "Non-trainable params: 0 (0.00 Byte)\n",
            "_________________________________________________________________\n"
          ]
        }
      ]
    },
    {
      "cell_type": "code",
      "source": [
        "# conv 미세 조정\n",
        "# 동결, 가중치 갱신 막기 -> 학습 불가능하게 설정\n",
        "# vgg16은 백만장의 사진으로 학습되어 있고, 성능 좋음\n",
        "# 학습 시 가중치 갱신되면 기존 학습된 내용 훼손 -> 성능 떨어질 수 있음\n",
        "vgg16.trainable = False"
      ],
      "metadata": {
        "id": "IKVOi6d5e3nI"
      },
      "execution_count": 48,
      "outputs": []
    },
    {
      "cell_type": "code",
      "source": [
        "# 분류부 연결\n",
        "transfer_model = Sequential()\n",
        "transfer_model.add(vgg16) # 특성 추출부 연결\n",
        "\n",
        "# 분류부 설계\n",
        "transfer_model.add(Flatten())\n",
        "transfer_model.add(Dense(64, activation = 'relu'))\n",
        "transfer_model.add(Dense(1, activation = 'sigmoid')) # 고양이, 개 분류 (이진 분류)"
      ],
      "metadata": {
        "id": "jtvwSbMWfU5o"
      },
      "execution_count": 49,
      "outputs": []
    },
    {
      "cell_type": "code",
      "source": [
        "transfer_model.summary()"
      ],
      "metadata": {
        "colab": {
          "base_uri": "https://localhost:8080/"
        },
        "id": "URQTPdCJgOow",
        "outputId": "89cc4420-dd01-4b0c-a640-f35c76673cc8"
      },
      "execution_count": 45,
      "outputs": [
        {
          "output_type": "stream",
          "name": "stdout",
          "text": [
            "Model: \"sequential_5\"\n",
            "_________________________________________________________________\n",
            " Layer (type)                Output Shape              Param #   \n",
            "=================================================================\n",
            " vgg16 (Functional)          (None, 7, 7, 512)         14714688  \n",
            "                                                                 \n",
            " flatten_5 (Flatten)         (None, 25088)             0         \n",
            "                                                                 \n",
            " dense_12 (Dense)            (None, 64)                1605696   \n",
            "                                                                 \n",
            " dense_13 (Dense)            (None, 1)                 65        \n",
            "                                                                 \n",
            "=================================================================\n",
            "Total params: 16320449 (62.26 MB)\n",
            "Trainable params: 1605761 (6.13 MB)\n",
            "Non-trainable params: 14714688 (56.13 MB)\n",
            "_________________________________________________________________\n"
          ]
        }
      ]
    },
    {
      "cell_type": "code",
      "source": [
        "# compile\n",
        "transfer_model.compile(loss = 'binary_crossentropy', optimizer = 'adam', metrics = ['accuracy'])"
      ],
      "metadata": {
        "id": "qM4uA9X2gQ9n"
      },
      "execution_count": 46,
      "outputs": []
    },
    {
      "cell_type": "code",
      "source": [
        "# 마지막 conv 층을 학습 가능하도록 동결시킨 것 풀기\n",
        "# 해당 층의 이름 확인\n",
        "for layer in vgg16.layers:\n",
        "  print(layer.name)"
      ],
      "metadata": {
        "colab": {
          "base_uri": "https://localhost:8080/"
        },
        "id": "ZLa9dhw8guCF",
        "outputId": "e8ff9b27-54ac-40f1-ef92-d918d6ffe86c"
      },
      "execution_count": 38,
      "outputs": [
        {
          "output_type": "stream",
          "name": "stdout",
          "text": [
            "input_1\n",
            "block1_conv1\n",
            "block1_conv2\n",
            "block1_pool\n",
            "block2_conv1\n",
            "block2_conv2\n",
            "block2_pool\n",
            "block3_conv1\n",
            "block3_conv2\n",
            "block3_conv3\n",
            "block3_pool\n",
            "block4_conv1\n",
            "block4_conv2\n",
            "block4_conv3\n",
            "block4_pool\n",
            "block5_conv1\n",
            "block5_conv2\n",
            "block5_conv3\n",
            "block5_pool\n"
          ]
        }
      ]
    },
    {
      "cell_type": "code",
      "source": [
        "# for layer in vgg16.layers:\n",
        "#   if layer.name == 'block5_conv3':\n",
        "#     layer.trainable = True\n",
        "#   else:\n",
        "#     layer.trainable = False"
      ],
      "metadata": {
        "id": "b-UHZbgNhNdZ"
      },
      "execution_count": 39,
      "outputs": []
    },
    {
      "cell_type": "code",
      "source": [
        "# fit\n",
        "transfer_model.fit(X_train, y_train, validation_split = 0.3, epochs = 50, verbose = 2)"
      ],
      "metadata": {
        "colab": {
          "base_uri": "https://localhost:8080/"
        },
        "id": "JWbZRaAshpZ2",
        "outputId": "316ee419-62aa-4121-e25e-4767c377897b"
      },
      "execution_count": 47,
      "outputs": [
        {
          "output_type": "stream",
          "name": "stdout",
          "text": [
            "Epoch 1/50\n",
            "44/44 - 11s - loss: 4.1104 - accuracy: 0.6536 - val_loss: 0.7086 - val_accuracy: 0.0000e+00 - 11s/epoch - 240ms/step\n",
            "Epoch 2/50\n",
            "44/44 - 8s - loss: 0.3188 - accuracy: 0.7143 - val_loss: 0.8451 - val_accuracy: 0.0000e+00 - 8s/epoch - 180ms/step\n",
            "Epoch 3/50\n",
            "44/44 - 8s - loss: 0.2288 - accuracy: 0.8643 - val_loss: 0.8359 - val_accuracy: 0.8983 - 8s/epoch - 188ms/step\n",
            "Epoch 4/50\n",
            "44/44 - 8s - loss: 0.2056 - accuracy: 0.9914 - val_loss: 0.8878 - val_accuracy: 0.8700 - 8s/epoch - 191ms/step\n",
            "Epoch 5/50\n",
            "44/44 - 8s - loss: 0.1942 - accuracy: 0.9929 - val_loss: 0.8463 - val_accuracy: 0.8850 - 8s/epoch - 192ms/step\n",
            "Epoch 6/50\n",
            "44/44 - 8s - loss: 0.1857 - accuracy: 0.9964 - val_loss: 0.8855 - val_accuracy: 0.8633 - 8s/epoch - 187ms/step\n",
            "Epoch 7/50\n",
            "44/44 - 8s - loss: 0.1799 - accuracy: 0.9979 - val_loss: 0.9327 - val_accuracy: 0.8533 - 8s/epoch - 185ms/step\n",
            "Epoch 8/50\n",
            "44/44 - 8s - loss: 0.1746 - accuracy: 0.9971 - val_loss: 0.8347 - val_accuracy: 0.8783 - 8s/epoch - 179ms/step\n",
            "Epoch 9/50\n",
            "44/44 - 8s - loss: 0.1692 - accuracy: 0.9986 - val_loss: 0.9231 - val_accuracy: 0.8467 - 8s/epoch - 178ms/step\n",
            "Epoch 10/50\n",
            "44/44 - 8s - loss: 0.1644 - accuracy: 0.9986 - val_loss: 0.8743 - val_accuracy: 0.8650 - 8s/epoch - 179ms/step\n",
            "Epoch 11/50\n",
            "44/44 - 8s - loss: 0.1599 - accuracy: 0.9986 - val_loss: 0.7687 - val_accuracy: 0.8933 - 8s/epoch - 183ms/step\n",
            "Epoch 12/50\n",
            "44/44 - 8s - loss: 0.1554 - accuracy: 0.9986 - val_loss: 0.8639 - val_accuracy: 0.8667 - 8s/epoch - 183ms/step\n",
            "Epoch 13/50\n",
            "44/44 - 8s - loss: 0.1516 - accuracy: 0.9979 - val_loss: 0.7598 - val_accuracy: 0.9000 - 8s/epoch - 184ms/step\n",
            "Epoch 14/50\n",
            "44/44 - 8s - loss: 0.1473 - accuracy: 0.9986 - val_loss: 0.7172 - val_accuracy: 0.9083 - 8s/epoch - 182ms/step\n",
            "Epoch 15/50\n",
            "44/44 - 8s - loss: 0.1428 - accuracy: 0.9986 - val_loss: 0.8310 - val_accuracy: 0.8733 - 8s/epoch - 183ms/step\n",
            "Epoch 16/50\n",
            "44/44 - 8s - loss: 0.1388 - accuracy: 0.9986 - val_loss: 0.7402 - val_accuracy: 0.8933 - 8s/epoch - 183ms/step\n",
            "Epoch 17/50\n",
            "44/44 - 8s - loss: 0.1351 - accuracy: 0.9986 - val_loss: 0.8026 - val_accuracy: 0.8800 - 8s/epoch - 182ms/step\n",
            "Epoch 18/50\n",
            "44/44 - 8s - loss: 0.1313 - accuracy: 0.9986 - val_loss: 0.8656 - val_accuracy: 0.8617 - 8s/epoch - 181ms/step\n",
            "Epoch 19/50\n",
            "44/44 - 8s - loss: 0.1278 - accuracy: 0.9986 - val_loss: 0.7326 - val_accuracy: 0.8917 - 8s/epoch - 185ms/step\n",
            "Epoch 20/50\n",
            "44/44 - 8s - loss: 0.1243 - accuracy: 0.9986 - val_loss: 0.7971 - val_accuracy: 0.8767 - 8s/epoch - 179ms/step\n",
            "Epoch 21/50\n",
            "44/44 - 8s - loss: 0.1211 - accuracy: 0.9986 - val_loss: 0.7121 - val_accuracy: 0.8967 - 8s/epoch - 180ms/step\n",
            "Epoch 22/50\n",
            "44/44 - 8s - loss: 0.1177 - accuracy: 0.9986 - val_loss: 0.8235 - val_accuracy: 0.8700 - 8s/epoch - 181ms/step\n",
            "Epoch 23/50\n",
            "44/44 - 8s - loss: 0.1146 - accuracy: 0.9986 - val_loss: 0.7251 - val_accuracy: 0.8917 - 8s/epoch - 184ms/step\n",
            "Epoch 24/50\n",
            "44/44 - 8s - loss: 0.1115 - accuracy: 0.9986 - val_loss: 0.7959 - val_accuracy: 0.8817 - 8s/epoch - 180ms/step\n",
            "Epoch 25/50\n",
            "44/44 - 8s - loss: 0.1085 - accuracy: 0.9986 - val_loss: 0.8395 - val_accuracy: 0.8583 - 8s/epoch - 180ms/step\n",
            "Epoch 26/50\n",
            "44/44 - 8s - loss: 0.1057 - accuracy: 0.9986 - val_loss: 0.8704 - val_accuracy: 0.8517 - 8s/epoch - 184ms/step\n",
            "Epoch 27/50\n",
            "44/44 - 8s - loss: 0.1030 - accuracy: 0.9986 - val_loss: 0.6536 - val_accuracy: 0.8950 - 8s/epoch - 185ms/step\n",
            "Epoch 28/50\n",
            "44/44 - 8s - loss: 0.1003 - accuracy: 0.9986 - val_loss: 0.7280 - val_accuracy: 0.8867 - 8s/epoch - 180ms/step\n",
            "Epoch 29/50\n",
            "44/44 - 8s - loss: 0.0977 - accuracy: 0.9986 - val_loss: 0.7712 - val_accuracy: 0.8733 - 8s/epoch - 185ms/step\n",
            "Epoch 30/50\n",
            "44/44 - 8s - loss: 0.0951 - accuracy: 0.9986 - val_loss: 0.8030 - val_accuracy: 0.8600 - 8s/epoch - 180ms/step\n",
            "Epoch 31/50\n",
            "44/44 - 8s - loss: 0.0927 - accuracy: 0.9986 - val_loss: 0.8263 - val_accuracy: 0.8550 - 8s/epoch - 184ms/step\n",
            "Epoch 32/50\n",
            "44/44 - 8s - loss: 0.0905 - accuracy: 0.9986 - val_loss: 0.5877 - val_accuracy: 0.9150 - 8s/epoch - 181ms/step\n",
            "Epoch 33/50\n",
            "44/44 - 8s - loss: 0.0882 - accuracy: 0.9986 - val_loss: 0.6693 - val_accuracy: 0.8900 - 8s/epoch - 184ms/step\n",
            "Epoch 34/50\n",
            "44/44 - 8s - loss: 0.0860 - accuracy: 0.9986 - val_loss: 0.7114 - val_accuracy: 0.8817 - 8s/epoch - 184ms/step\n",
            "Epoch 35/50\n",
            "44/44 - 8s - loss: 0.0839 - accuracy: 0.9986 - val_loss: 0.5031 - val_accuracy: 0.9267 - 8s/epoch - 180ms/step\n",
            "Epoch 36/50\n",
            "44/44 - 8s - loss: 0.0818 - accuracy: 0.9986 - val_loss: 0.5862 - val_accuracy: 0.9067 - 8s/epoch - 181ms/step\n",
            "Epoch 37/50\n",
            "44/44 - 8s - loss: 0.0798 - accuracy: 0.9986 - val_loss: 0.6409 - val_accuracy: 0.8917 - 8s/epoch - 182ms/step\n",
            "Epoch 38/50\n",
            "44/44 - 8s - loss: 0.0778 - accuracy: 0.9986 - val_loss: 0.6748 - val_accuracy: 0.8767 - 8s/epoch - 181ms/step\n",
            "Epoch 39/50\n",
            "44/44 - 8s - loss: 0.0759 - accuracy: 0.9986 - val_loss: 0.7018 - val_accuracy: 0.8700 - 8s/epoch - 182ms/step\n",
            "Epoch 40/50\n",
            "44/44 - 8s - loss: 0.0742 - accuracy: 0.9986 - val_loss: 0.4808 - val_accuracy: 0.9267 - 8s/epoch - 182ms/step\n",
            "Epoch 41/50\n",
            "44/44 - 8s - loss: 0.0724 - accuracy: 0.9986 - val_loss: 0.5721 - val_accuracy: 0.9083 - 8s/epoch - 182ms/step\n",
            "Epoch 42/50\n",
            "44/44 - 8s - loss: 0.0707 - accuracy: 0.9986 - val_loss: 0.6153 - val_accuracy: 0.9017 - 8s/epoch - 185ms/step\n",
            "Epoch 43/50\n",
            "44/44 - 8s - loss: 0.0690 - accuracy: 0.9986 - val_loss: 0.6437 - val_accuracy: 0.8983 - 8s/epoch - 181ms/step\n",
            "Epoch 44/50\n",
            "44/44 - 8s - loss: 0.0674 - accuracy: 0.9986 - val_loss: 0.6643 - val_accuracy: 0.8867 - 8s/epoch - 185ms/step\n",
            "Epoch 45/50\n",
            "44/44 - 8s - loss: 0.0658 - accuracy: 0.9986 - val_loss: 0.6819 - val_accuracy: 0.8750 - 8s/epoch - 184ms/step\n",
            "Epoch 46/50\n",
            "44/44 - 8s - loss: 0.0643 - accuracy: 0.9986 - val_loss: 0.6981 - val_accuracy: 0.8700 - 8s/epoch - 180ms/step\n",
            "Epoch 47/50\n",
            "44/44 - 8s - loss: 0.0628 - accuracy: 0.9986 - val_loss: 0.7109 - val_accuracy: 0.8683 - 8s/epoch - 184ms/step\n",
            "Epoch 48/50\n",
            "44/44 - 8s - loss: 0.0614 - accuracy: 0.9986 - val_loss: 0.4990 - val_accuracy: 0.9167 - 8s/epoch - 181ms/step\n",
            "Epoch 49/50\n",
            "44/44 - 8s - loss: 0.0600 - accuracy: 0.9986 - val_loss: 0.5445 - val_accuracy: 0.9117 - 8s/epoch - 181ms/step\n",
            "Epoch 50/50\n",
            "44/44 - 8s - loss: 0.0587 - accuracy: 0.9986 - val_loss: 0.5811 - val_accuracy: 0.9050 - 8s/epoch - 180ms/step\n"
          ]
        },
        {
          "output_type": "execute_result",
          "data": {
            "text/plain": [
              "<keras.src.callbacks.History at 0x7db0b368e770>"
            ]
          },
          "metadata": {},
          "execution_count": 47
        }
      ]
    }
  ]
}