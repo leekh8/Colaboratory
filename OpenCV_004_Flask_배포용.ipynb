{
  "cells": [
    {
      "cell_type": "markdown",
      "metadata": {
        "id": "view-in-github",
        "colab_type": "text"
      },
      "source": [
        "<a href=\"https://colab.research.google.com/github/leekh8/Colaboratory/blob/main/OpenCV_004_Flask_%EB%B0%B0%ED%8F%AC%EC%9A%A9.ipynb\" target=\"_parent\"><img src=\"https://colab.research.google.com/assets/colab-badge.svg\" alt=\"Open In Colab\"/></a>"
      ]
    },
    {
      "cell_type": "code",
      "source": [
        "from google.colab import drive\n",
        "drive.mount('/content/drive')\n",
        "%cd '/content/drive/MyDrive/Colab Notebooks/Colaboratory/AISchool/'"
      ],
      "metadata": {
        "colab": {
          "base_uri": "https://localhost:8080/"
        },
        "id": "yYV_n3mimuLN",
        "outputId": "d9764715-8453-4670-c99e-f06259a02f87"
      },
      "execution_count": 1,
      "outputs": [
        {
          "output_type": "stream",
          "name": "stdout",
          "text": [
            "Mounted at /content/drive\n",
            "/content/drive/MyDrive/Colab Notebooks/Colaboratory/AISchool\n"
          ]
        }
      ]
    },
    {
      "cell_type": "markdown",
      "metadata": {
        "id": "znXNfL_JVN7s"
      },
      "source": [
        "<img src=\"https://arome1004.cafe24.com/images/opencv/lecture_image/00_title.png\">"
      ]
    },
    {
      "cell_type": "markdown",
      "metadata": {
        "id": "g4YDF7q4VN7v"
      },
      "source": [
        "<table border=1 width=100%>\n",
        "    <tr><td style=\"border: 1px solid black; width:600px; height:40px; text-align: center;\"><font size=4 color=blue><b>[4차시] 학습목표</b></font></td></tr>       \n",
        "    <tr><td style=\"border: 1px solid black; text-align: left;\"><font size=3>\n",
        "        \n",
        "○ 기본적인 Flask 사용법 학습하기<br>\n",
        "\n",
        "○ 웹 화면에 카메라 영상 출력하기<br>\n",
        "\n",
        "○ 웹 출력 영상을 Gray 이미지로 출력하기\n",
        "        \n",
        "</font></td></tr>   \n",
        "</table>"
      ]
    },
    {
      "cell_type": "markdown",
      "metadata": {
        "id": "zX2RraWNVN7v"
      },
      "source": [
        "# Flask 설치 및 서버 실행하기\n",
        "\n",
        "- 플라스크(Flask)는 파이썬으로 작성된 마이크로 웹 프레임워크의 하나\n",
        "  - 특별한 도구나 라이브러리가 필요 없음\n",
        "  \n",
        "##  flask 설치하기"
      ]
    },
    {
      "cell_type": "code",
      "execution_count": null,
      "metadata": {
        "id": "YhQ95IGeVN7w"
      },
      "outputs": [],
      "source": [
        "# Flask 설치\n",
        "!pip install flask"
      ]
    },
    {
      "cell_type": "markdown",
      "metadata": {
        "id": "-jG3yWmVVN7w"
      },
      "source": [
        "## flask 서버 실행하기\n",
        "\n",
        "- <font color=red>app = Flask(\\_\\_name\\_\\_)</font> : Flask 객체를 app 변수에 할당\n",
        "- <font color=red>@app.route(\"/\")</font> : Flask에게 어떤 URL이 해당 함수를 실행하는지 알려줌\n",
        "- <font color=red>app.run(host='127.0.0.1', port=5000)</font>\n",
        "  - 서버 IP, 포트 등을 설정하고 서버를 실행\n",
        "  - 브라우저에서 IP와 포트로 서버 접속\n",
        "   \n",
        "<img src=\"https://arome1004.cafe24.com/images/opencv/lecture_image/04_flask01.png\" width=50%>"
      ]
    },
    {
      "cell_type": "code",
      "execution_count": null,
      "metadata": {
        "scrolled": true,
        "id": "pIbZG2kYVN7x"
      },
      "outputs": [],
      "source": [
        "# 실습"
      ]
    },
    {
      "cell_type": "markdown",
      "metadata": {
        "id": "L3sj_-SWVN7x"
      },
      "source": [
        "### URL를 함수로 연결하기\n",
        "\n",
        "- <font color=red>@app.route(\"/hello\")</font>\n",
        "  - URL에  함수명을 설정\n",
        "  - 브라우저에서 IP와 포트로 서버 접속하고 URL로 함수명을 넘김\n",
        "  \n",
        "  <img src=\"https://arome1004.cafe24.com/images/opencv/lecture_image/04_flask02.png\" width=50%>"
      ]
    },
    {
      "cell_type": "code",
      "execution_count": null,
      "metadata": {
        "id": "Qz7JiKSoVN7x"
      },
      "outputs": [],
      "source": [
        "# 실습"
      ]
    },
    {
      "cell_type": "markdown",
      "metadata": {
        "id": "qRbH-BXcVN7x"
      },
      "source": [
        "### URL을 변수로 사용하기\n",
        "\n",
        "- @app.route(\"/hello/<value>\")\n",
        "  - URL에  value 값을 설정\n",
        "  - 브라우저에서 IP와 포트로 서버 접속하고 URL로 100을 넘김\n",
        "    \n",
        "  <img src=\"https://arome1004.cafe24.com/images/opencv/lecture_image/04_flask03.png\" width=50%>     "
      ]
    },
    {
      "cell_type": "code",
      "execution_count": null,
      "metadata": {
        "id": "kFW16EZqVN7x"
      },
      "outputs": [],
      "source": [
        "# 실습"
      ]
    },
    {
      "cell_type": "markdown",
      "metadata": {
        "id": "9V5rjN2lVN7y"
      },
      "source": [
        "### html 문서를 반환하기\n",
        "\n",
        "- <font color=red>render_template(\"hello.html\")</font>\n",
        "  - hello.html 문서를 반환\n",
        "\n",
        "- hello.html 파일을 작성하고 templates 폴더를 생성하고 저장\n",
        "- 브라우저에서 IP와 포트로 서버 접속\n",
        "\n",
        "  <img src=\"https://arome1004.cafe24.com/images/opencv/lecture_image/04_flask04.png\" width=50%>  "
      ]
    },
    {
      "cell_type": "code",
      "execution_count": null,
      "metadata": {
        "id": "efYMM8irVN7y"
      },
      "outputs": [],
      "source": [
        "# 실습"
      ]
    },
    {
      "cell_type": "code",
      "execution_count": null,
      "metadata": {
        "id": "qGJu7JOnVN7y"
      },
      "outputs": [],
      "source": [
        "# 실습"
      ]
    },
    {
      "cell_type": "markdown",
      "metadata": {
        "id": "WU3BoV_IVN7y"
      },
      "source": [
        "### 이미지가 포함된 문서 반환하기\n",
        "\n",
        "- static 폴더 : 자원을 담아 놓는 폴더\n",
        "- static 폴더에 이미지 폴더를 만들고 출력할 이미지를 저장"
      ]
    },
    {
      "cell_type": "code",
      "execution_count": null,
      "metadata": {
        "id": "qM1Kac5DVN7y"
      },
      "outputs": [],
      "source": [
        "# 실습"
      ]
    },
    {
      "cell_type": "code",
      "execution_count": null,
      "metadata": {
        "id": "6QAPBNZ0VN7y"
      },
      "outputs": [],
      "source": [
        "# 실습"
      ]
    },
    {
      "cell_type": "markdown",
      "metadata": {
        "id": "5KD6r2q6VN7y"
      },
      "source": [
        "# 데이터 스트리밍 구현\n",
        "\n",
        "## 구현 방법\n",
        "\n",
        "- <font color=red>Response(stream_with_context(test()))</font>\n",
        "  - 텍스트 스트리밍 함수 test()를 실행\n",
        "  \n",
        "  <img src=\"https://arome1004.cafe24.com/images/opencv/lecture_image/04_flask05.png\" width=50%>  "
      ]
    },
    {
      "cell_type": "code",
      "execution_count": 10,
      "metadata": {
        "id": "V0umBJFzVN7z"
      },
      "outputs": [],
      "source": [
        "# 실습\n",
        "def test():\n",
        "  yield \"Hello\\n\"\n",
        "  yield \"World\\n\"\n",
        "  yield \"*^^*\\n\""
      ]
    },
    {
      "cell_type": "code",
      "execution_count": 8,
      "metadata": {
        "id": "9s9e6OVSVN7z",
        "colab": {
          "base_uri": "https://localhost:8080/"
        },
        "outputId": "a1b21777-f91e-487e-b21f-89c3a26008f8"
      },
      "outputs": [
        {
          "output_type": "stream",
          "name": "stdout",
          "text": [
            " * Serving Flask app '__main__'\n",
            " * Debug mode: off\n"
          ]
        },
        {
          "output_type": "stream",
          "name": "stderr",
          "text": [
            "INFO:werkzeug:\u001b[31m\u001b[1mWARNING: This is a development server. Do not use it in a production deployment. Use a production WSGI server instead.\u001b[0m\n",
            " * Running on http://127.0.0.1:5000\n",
            "INFO:werkzeug:\u001b[33mPress CTRL+C to quit\u001b[0m\n"
          ]
        }
      ],
      "source": [
        "# 실습\n",
        "from flask import Flask, Response, stream_with_context\n",
        "\n",
        "app = Flask(__name__)\n",
        "\n",
        "@app.route(\"/\")\n",
        "def index():\n",
        "  return Response(stream_with_context(test()))\n",
        "\n",
        "if __name__ == \"__main__\":\n",
        "  app.run(host=\"127.0.0.1\", port=\"5000\")"
      ]
    },
    {
      "cell_type": "code",
      "source": [
        "from flask import Flask, Response, stream_with_context\n",
        "# eval_js: 문자열로 된 자바스크립트 명령 실행\n",
        "from google.colab.output import eval_js\n",
        "\n",
        "print(eval_js(\"google.colab.kernel.proxyPort(5000)\"))\n",
        "\n",
        "app = Flask(__name__)\n",
        "\n",
        "@app.route(\"/\")\n",
        "def index():\n",
        "  return Response(stream_with_context(test()))\n",
        "\n",
        "if __name__ == \"__main__\":\n",
        "  app.run(host=\"127.0.0.1\", port=\"5000\")"
      ],
      "metadata": {
        "colab": {
          "base_uri": "https://localhost:8080/",
          "height": 191
        },
        "id": "et4QRsyRrs5y",
        "outputId": "d7b3e2ba-1062-4490-bc90-a316ef1d528a"
      },
      "execution_count": 11,
      "outputs": [
        {
          "output_type": "stream",
          "name": "stdout",
          "text": [
            "https://xw4d1gfbfjn-496ff2e9c6d22116-5000-colab.googleusercontent.com/\n",
            " * Serving Flask app '__main__'\n",
            " * Debug mode: off\n"
          ]
        },
        {
          "output_type": "stream",
          "name": "stderr",
          "text": [
            "INFO:werkzeug:\u001b[31m\u001b[1mWARNING: This is a development server. Do not use it in a production deployment. Use a production WSGI server instead.\u001b[0m\n",
            " * Running on http://127.0.0.1:5000\n",
            "INFO:werkzeug:\u001b[33mPress CTRL+C to quit\u001b[0m\n",
            "INFO:werkzeug:127.0.0.1 - - [15/Sep/2023 07:16:34] \"GET / HTTP/1.1\" 200 -\n",
            "INFO:werkzeug:127.0.0.1 - - [15/Sep/2023 07:16:34] \"\u001b[33mGET /favicon.ico HTTP/1.1\u001b[0m\" 404 -\n",
            "INFO:werkzeug:127.0.0.1 - - [15/Sep/2023 07:16:37] \"GET / HTTP/1.1\" 200 -\n",
            "INFO:werkzeug:127.0.0.1 - - [15/Sep/2023 07:16:37] \"\u001b[33mGET /favicon.ico HTTP/1.1\u001b[0m\" 404 -\n"
          ]
        }
      ]
    },
    {
      "cell_type": "markdown",
      "metadata": {
        "id": "UXW4QvO1VN7z"
      },
      "source": [
        "- yield() 함수 배우기\n",
        "\n",
        "  \n",
        "  <img src=\"https://arome1004.cafe24.com/images/opencv/lecture_image/04_yield.png\" width=70%>  "
      ]
    },
    {
      "cell_type": "code",
      "execution_count": null,
      "metadata": {
        "id": "KLlczmxWVN7z"
      },
      "outputs": [],
      "source": [
        "# 실습"
      ]
    },
    {
      "cell_type": "code",
      "execution_count": null,
      "metadata": {
        "id": "aHOIkpTOVN7z"
      },
      "outputs": [],
      "source": [
        "# 실습"
      ]
    },
    {
      "cell_type": "markdown",
      "metadata": {
        "id": "79GrKF_yVN7z"
      },
      "source": [
        "## 웹 브라우저에 카메라 영상 출력하기\n",
        "\n",
        "- <font color=red>ret, buffer = cv2.imencode('.jpg', frame)</font> : frame 이미지를 jpg로 인코딩\n",
        "\n",
        "- <font color=red>frame = buffer.tobytes()</font> : 전송을 위해 인코딩된 이미지를 byte 형식으로 변환\n",
        "\n",
        "\n",
        "- <font color=red>yield (b'--frame\\r\\n' b'Content-Type: image/jpeg\\r\\n\\r\\n' + frame + b'\\r\\n') </font>\n",
        "\n",
        "  - b : byte 형식임을 의미\n",
        "  - --frame : 프레임을 표시\n",
        "  - Content-Type: image/jpeg : 문서가 jpg 이미지임을 표시"
      ]
    },
    {
      "cell_type": "code",
      "execution_count": 15,
      "metadata": {
        "id": "CmmW4pV_VN7z"
      },
      "outputs": [],
      "source": [
        "# 실습\n",
        "import cv2\n",
        "\n",
        "cap = cv2.VideoCapture(\"./images/KakaoTalk_20230914_113812278.mp4\")\n",
        "\n",
        "def get_frames():\n",
        "\n",
        "  while True:\n",
        "    ret, frame = cap.read()\n",
        "\n",
        "    if not ret:\n",
        "      continue\n",
        "\n",
        "    else:\n",
        "      ret, buffer = cv2.imencode('.jpg', frame)\n",
        "      frame = buffer.tobytes()\n",
        "\n",
        "      yield (b'--frame\\r\\n' b'Content-Type: image/jpeg\\r\\n\\r\\n' + frame + b'\\r\\n')\n",
        "\n",
        "  cap.release()"
      ]
    },
    {
      "cell_type": "markdown",
      "metadata": {
        "id": "lijjmSP6VN7z"
      },
      "source": [
        "- index.html를 작성하고 templates 폴더에 저장\n",
        "  - video_feed : 실행할 함수명"
      ]
    },
    {
      "cell_type": "code",
      "source": [
        "import os\n",
        "\n",
        "tem_dir = \"./templates\"\n",
        "\n",
        "if not os.path.exists(tem_dir):\n",
        "  os.mkdir(tem_dir)"
      ],
      "metadata": {
        "id": "CsO8e9t6v8pB"
      },
      "execution_count": 16,
      "outputs": []
    },
    {
      "cell_type": "markdown",
      "source": [
        "- # %%writefile : 아래에 있는 애용을 설정된 파일에 저장\n",
        "- # {{ url_for('vidoe_feed') }} : jinja 템플릿\n",
        "  - # 파이썬 명령어를 HTML 문서에 포함할 때 사용하는 기호\n",
        "  - # {{ 파이썬 명령어 }}\n",
        "  - url 주소에서 video_feed라는 라우터로 접속해라"
      ],
      "metadata": {
        "id": "te8msg6bw6Fz"
      }
    },
    {
      "cell_type": "code",
      "execution_count": 19,
      "metadata": {
        "id": "kKH7BDc8VN7z",
        "colab": {
          "base_uri": "https://localhost:8080/"
        },
        "outputId": "95e81888-7f23-41b9-a35b-d184836054b4"
      },
      "outputs": [
        {
          "output_type": "stream",
          "name": "stdout",
          "text": [
            "Overwriting ./templates/index.html\n"
          ]
        }
      ],
      "source": [
        "%%writefile ./templates/index.html\n",
        "<html><body><h1>VIDEO STREAMING</h1><img src = \"{{ url_for('video_feed') }}\" width = \"50%\"><br /></body></html>"
      ]
    },
    {
      "cell_type": "markdown",
      "metadata": {
        "id": "gogsP_QdVN70"
      },
      "source": [
        "- <font color=red>Response(get_frames(), mimetype='multipart/x-mixed-replace; boundary=frame')</font>\n",
        "\n",
        "  - get_frames() : 호출할 함수명\n",
        "  - mimetype : 클라이언트에게 전송된 문서의 타입을 알려주기 위한 파라미터 (type/subtype)\n",
        "  - multipart : 복합문서 타입 (파일, 영상 등)을 의미\n",
        "  - x-mixed-replace : x (추가적인 확장 형식), mixed (복합문서), repalce (subtype을 다음 메시지로 대체)\n",
        "  - boundary : 복합문서 내의 각 문서들을 구분하는 분리자 (동영상이므로 frame으로 구분)"
      ]
    },
    {
      "cell_type": "code",
      "execution_count": 20,
      "metadata": {
        "id": "Ynw5qC6pVN70",
        "colab": {
          "base_uri": "https://localhost:8080/",
          "height": 173
        },
        "outputId": "bdc1d18c-c824-444c-9896-2b72ff95607c"
      },
      "outputs": [
        {
          "output_type": "stream",
          "name": "stdout",
          "text": [
            "https://xw4d1gfbfjn-496ff2e9c6d22116-5000-colab.googleusercontent.com/\n",
            " * Serving Flask app '__main__'\n",
            " * Debug mode: off\n"
          ]
        },
        {
          "output_type": "stream",
          "name": "stderr",
          "text": [
            "INFO:werkzeug:\u001b[31m\u001b[1mWARNING: This is a development server. Do not use it in a production deployment. Use a production WSGI server instead.\u001b[0m\n",
            " * Running on http://127.0.0.1:5000\n",
            "INFO:werkzeug:\u001b[33mPress CTRL+C to quit\u001b[0m\n",
            "INFO:werkzeug:127.0.0.1 - - [15/Sep/2023 07:46:37] \"GET / HTTP/1.1\" 200 -\n",
            "INFO:werkzeug:127.0.0.1 - - [15/Sep/2023 07:46:37] \"GET /video_feed HTTP/1.1\" 200 -\n",
            "INFO:werkzeug:127.0.0.1 - - [15/Sep/2023 07:48:41] \"\u001b[33mGET /favicon.ico HTTP/1.1\u001b[0m\" 404 -\n"
          ]
        }
      ],
      "source": [
        "# 실습\n",
        "from flask import Flask, render_template, Response\n",
        "\n",
        "from google.colab.output import eval_js\n",
        "\n",
        "print(eval_js(\"google.colab.kernel.proxyPort(5000)\"))\n",
        "\n",
        "app = Flask(__name__)\n",
        "\n",
        "@app.route(\"/\")\n",
        "def index():\n",
        "  return render_template(\"index.html\")\n",
        "\n",
        "@app.route(\"/video_feed\")\n",
        "def video_feed():\n",
        "  return Response(get_frames(), mimetype = 'multipart/m-mixed-replace; boundary = fram');\n",
        "\n",
        "if __name__ == \"__main__\":\n",
        "  app.run(host=\"127.0.0.1\", port=\"5000\")"
      ]
    },
    {
      "cell_type": "markdown",
      "metadata": {
        "id": "T72WDly1VN70"
      },
      "source": [
        "## 웹 출력 영상을 Gray 이미지로 출력하기"
      ]
    },
    {
      "cell_type": "code",
      "execution_count": null,
      "metadata": {
        "id": "JVaZxbNMVN70"
      },
      "outputs": [],
      "source": [
        "# 실습"
      ]
    },
    {
      "cell_type": "code",
      "execution_count": null,
      "metadata": {
        "id": "LYNwCUvFVN70"
      },
      "outputs": [],
      "source": [
        "# 실습"
      ]
    },
    {
      "cell_type": "markdown",
      "metadata": {
        "id": "luLTvXVvVN70"
      },
      "source": [
        "<table border=1 width=100%>\n",
        "    <tr><td style=\"border: 1px solid black; width:600px; text-align: left;\"><font size=4 color=red><b>실습문제</b></font><br><br>\n",
        "        <font size=4>\n",
        "○ 이진 이미지를 출력하는 웹 카메라 만들기<br>\n",
        "\n",
        "   - threshold() 함수 적용<br>\n",
        "\n",
        "   - OTSU 이진화 알고리즘 적용<br>\n",
        "   \n",
        "   - 적응형 thresholding 적용</font></td></tr>       \n",
        "    <tr><td style=\"border: 1px solid black; text-align: left;\">\n",
        "        <img src=\"https://arome1004.cafe24.com/images/opencv/lecture_image/04_flask06.png\" width=30%><img src=\"https://arome1004.cafe24.com/images/opencv/lecture_image/04_flask07.png\" width=30%></td></tr>   \n",
        "</table>"
      ]
    },
    {
      "cell_type": "markdown",
      "metadata": {
        "id": "9ZYocr3eVN70"
      },
      "source": [
        "<table border=1 width=100%>\n",
        "    <tr><td style=\"border: 1px solid black; width:600px; height:40px; text-align: center;\"><font size=4 color=blue><b>[4차시] 학습요약</b></font></td></tr>       \n",
        "    <tr><td style=\"border: 1px solid black; text-align: left;\"><font size=3>\n",
        "        \n",
        "○ <font color=red>ret, buffer = cv2.imencode()</font> : 영상 인코딩 함수<br>\n",
        "\n",
        "○ yield() : 반복 실행 중에 중간 과정을 반환할 때 사용<br><br>\n",
        "\n",
        "○ Flask : 파이썬으로 제작된 웹 프레임워크 (DJango의 축소 버전)<br>\n",
        "\n",
        "○ <font color=red>app = Flask(__name__)</font> : Flask 객체를 app 변수에 할당<br>\n",
        "\n",
        "○ <font color=red>@app.route(\"/\")</font> : Flask에게 어떤 URL이 해당 함수를 실행하는지 알려줌<br>\n",
        "\n",
        "○ <font color=red>@app.route(\"/hello\")</font> : 서버 주소에 추가적인 URL을 설정<br>\n",
        "\n",
        "○ <font color=red>@app.route(\"/hello/<value>\")</font> : URL에 value 값을 설정<br>\n",
        "\n",
        "○ <font color=red>app.run(host='127.0.0.1', port=5000)</font> : 서버 IP, 포트 등을 설정하고 서버를 실행<br><br>\n",
        "\n",
        "○ <font color=red>render_template(\"hello.html\")</font> : html 문서를 반환하기<br>\n",
        "\n",
        "○ <font color=red>Response(stream_with_context())</font> : 데이터 스트리밍을 반환하기\n",
        "        \n",
        "</font></td></tr>   \n",
        "</table>"
      ]
    }
  ],
  "metadata": {
    "colab": {
      "provenance": [],
      "include_colab_link": true
    },
    "hide_input": false,
    "kernelspec": {
      "display_name": "Python 3 (ipykernel)",
      "language": "python",
      "name": "python3"
    },
    "language_info": {
      "codemirror_mode": {
        "name": "ipython",
        "version": 3
      },
      "file_extension": ".py",
      "mimetype": "text/x-python",
      "name": "python",
      "nbconvert_exporter": "python",
      "pygments_lexer": "ipython3",
      "version": "3.7.1"
    },
    "toc": {
      "base_numbering": 1,
      "nav_menu": {},
      "number_sections": true,
      "sideBar": true,
      "skip_h1_title": false,
      "title_cell": "Table of Contents",
      "title_sidebar": "Contents",
      "toc_cell": false,
      "toc_position": {
        "height": "calc(100% - 180px)",
        "left": "10px",
        "top": "150px",
        "width": "165px"
      },
      "toc_section_display": true,
      "toc_window_display": true
    }
  },
  "nbformat": 4,
  "nbformat_minor": 0
}