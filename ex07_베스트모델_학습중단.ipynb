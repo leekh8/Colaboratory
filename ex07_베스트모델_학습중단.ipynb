{
  "nbformat": 4,
  "nbformat_minor": 0,
  "metadata": {
    "colab": {
      "provenance": [],
      "mount_file_id": "10ln-LM_MCUedTr2_dtBKPnitQEV8WzMc",
      "authorship_tag": "ABX9TyPXygsBrDFPwgriv5E5RbBy",
      "include_colab_link": true
    },
    "kernelspec": {
      "name": "python3",
      "display_name": "Python 3"
    },
    "language_info": {
      "name": "python"
    }
  },
  "cells": [
    {
      "cell_type": "markdown",
      "metadata": {
        "id": "view-in-github",
        "colab_type": "text"
      },
      "source": [
        "<a href=\"https://colab.research.google.com/github/leekh8/Colaboratory/blob/main/ex07_%EB%B2%A0%EC%8A%A4%ED%8A%B8%EB%AA%A8%EB%8D%B8_%ED%95%99%EC%8A%B5%EC%A4%91%EB%8B%A8.ipynb\" target=\"_parent\"><img src=\"https://colab.research.google.com/assets/colab-badge.svg\" alt=\"Open In Colab\"/></a>"
      ]
    },
    {
      "cell_type": "code",
      "source": [
        "from google.colab import drive\n",
        "drive.mount('/content/drive')\n",
        "%cd '/content/drive/MyDrive/Colab Notebooks/Colaboratory/AISchool/'"
      ],
      "metadata": {
        "colab": {
          "base_uri": "https://localhost:8080/"
        },
        "id": "JsuXaZGaxFlA",
        "outputId": "92c6142d-2d2a-4d55-a9e9-0220c00f8f0b"
      },
      "execution_count": 1,
      "outputs": [
        {
          "output_type": "stream",
          "name": "stdout",
          "text": [
            "Mounted at /content/drive\n",
            "/content/drive/MyDrive/Colab Notebooks/Colaboratory/AISchool\n"
          ]
        }
      ]
    },
    {
      "cell_type": "code",
      "source": [
        "# @title 데이터 다운로드\n",
        "from tensorflow.keras.datasets import mnist\n",
        "\n",
        "(X_train, y_train), (X_test, y_test) = mnist.load_data()\n",
        "X_train.shape, y_train.shape, X_test.shape, y_test.shape"
      ],
      "metadata": {
        "colab": {
          "base_uri": "https://localhost:8080/"
        },
        "id": "hpR1JSdLyiOk",
        "outputId": "e09d5825-5627-4530-8973-7bedb47b494f"
      },
      "execution_count": 2,
      "outputs": [
        {
          "output_type": "stream",
          "name": "stdout",
          "text": [
            "Downloading data from https://storage.googleapis.com/tensorflow/tf-keras-datasets/mnist.npz\n",
            "11490434/11490434 [==============================] - 0s 0us/step\n"
          ]
        },
        {
          "output_type": "execute_result",
          "data": {
            "text/plain": [
              "((60000, 28, 28), (60000,), (10000, 28, 28), (10000,))"
            ]
          },
          "metadata": {},
          "execution_count": 2
        }
      ]
    },
    {
      "cell_type": "code",
      "source": [
        "# @markdown # 손글씨 숫자 데이터셋\n",
        "# @markdown - 훈련 데이터 6만개, 테스트 데이터 만개\n",
        "# @markdown - 각각의 데이터는 28 x 28 크기로 구성\n",
        "# @markdown - 흑백 이미지 (0-255)로 구성\n",
        "# @markdown - 배경은 검정색, 글씨가 흰색로 구성"
      ],
      "metadata": {
        "cellView": "form",
        "id": "mqSoGZLNxdpY"
      },
      "execution_count": 3,
      "outputs": []
    },
    {
      "cell_type": "code",
      "source": [
        "# @title 데이터 하나 확인\n",
        "import matplotlib.pyplot as plt\n",
        "\n",
        "digit = X_train[0]\n",
        "label = y_train[0]\n",
        "\n",
        "plt.imshow(digit, cmap = \"gray\")\n",
        "plt.show()\n",
        "\n",
        "print(label)"
      ],
      "metadata": {
        "colab": {
          "base_uri": "https://localhost:8080/",
          "height": 447
        },
        "id": "YffkqnYFxuAm",
        "outputId": "4ba09ec4-e24c-4b07-a187-bef0325f259e"
      },
      "execution_count": 4,
      "outputs": [
        {
          "output_type": "display_data",
          "data": {
            "text/plain": [
              "<Figure size 640x480 with 1 Axes>"
            ],
            "image/png": "[encoded data removed]"
          },
          "metadata": {}
        },
        {
          "output_type": "stream",
          "name": "stdout",
          "text": [
            "5\n"
          ]
        }
      ]
    },
    {
      "cell_type": "code",
      "source": [
        "# @markdown - 데이터 전처리\n",
        "# @markdown   - 2차원 데이터를 1차원 데이터로 변환 (DNN 층의 입력이 1차원 이므로)\n",
        "# @markdown   - 데이터 값의 범위를 0-255에서 0-1로 변환 (정규화(Scaling)) -> 과적합 줄어듬"
      ],
      "metadata": {
        "cellView": "form",
        "id": "Svpwp2lTzgWq"
      },
      "execution_count": 5,
      "outputs": []
    },
    {
      "cell_type": "code",
      "source": [
        "# @title 2차원 -> 1차원\n",
        "X_train = X_train.reshape(60000, 28*28)\n",
        "X_test = X_test.reshape(10000, 28*28)"
      ],
      "metadata": {
        "id": "vGGBtnpO4Lx_"
      },
      "execution_count": 6,
      "outputs": []
    },
    {
      "cell_type": "code",
      "source": [
        "# @title 스케일링\n",
        "X_train = X_train.astype(\"float32\") / 255\n",
        "X_test = X_test.astype(\"float32\") / 255\n",
        "\n",
        "X_train.shape, X_test.shape"
      ],
      "metadata": {
        "colab": {
          "base_uri": "https://localhost:8080/"
        },
        "id": "fvjivDtX4iB4",
        "outputId": "b8cf99e1-7a0c-4226-e892-dbe20eba6b05"
      },
      "execution_count": 7,
      "outputs": [
        {
          "output_type": "execute_result",
          "data": {
            "text/plain": [
              "((60000, 784), (10000, 784))"
            ]
          },
          "metadata": {},
          "execution_count": 7
        }
      ]
    },
    {
      "cell_type": "code",
      "source": [
        "# @title y 원핫인코딩\n",
        "from tensorflow.keras.utils import to_categorical\n",
        "\n",
        "y_train_en = to_categorical(y_train)\n",
        "y_test_en = to_categorical(y_test)\n",
        "\n",
        "y_train_en.shape, y_test_en.shape"
      ],
      "metadata": {
        "colab": {
          "base_uri": "https://localhost:8080/"
        },
        "id": "LS21IWe35Nz2",
        "outputId": "1e4a8447-6dd3-4826-c056-f8ca32746585"
      },
      "execution_count": 8,
      "outputs": [
        {
          "output_type": "execute_result",
          "data": {
            "text/plain": [
              "((60000, 10), (10000, 10))"
            ]
          },
          "metadata": {},
          "execution_count": 8
        }
      ]
    },
    {
      "cell_type": "code",
      "source": [
        "# @title 라벨값 확인\n",
        "import pandas as pd\n",
        "\n",
        "print(pd.Series(y_train).unique())\n",
        "print(pd.Series(y_test).unique())"
      ],
      "metadata": {
        "id": "tjh137qu6Rgb",
        "outputId": "5b1fe38d-d178-4ed8-ccd2-d4609ed30918",
        "colab": {
          "base_uri": "https://localhost:8080/"
        }
      },
      "execution_count": 9,
      "outputs": [
        {
          "output_type": "stream",
          "name": "stdout",
          "text": [
            "[5 0 4 1 9 2 3 6 7 8]\n",
            "[7 2 1 0 4 9 5 6 3 8]\n"
          ]
        }
      ]
    },
    {
      "cell_type": "code",
      "source": [
        "from tensorflow.keras.models import Sequential\n",
        "from tensorflow.keras.layers import Dense\n",
        "\n",
        "model1 = Sequential()\n",
        "\n",
        "# 입력층\n",
        "# model1.add(Dense(units = 512, input_dim = 28 * 28, activation = \"sigmoid\"))\n",
        "model1.add(Dense(units = 512, input_dim = X_train.shape[1], activation = \"sigmoid\"))\n",
        "\n",
        "# 은닉층\n",
        "model1.add(Dense(units = 256, activation = \"sigmoid\"))\n",
        "\n",
        "# 출력층\n",
        "# model1.add(Dense(units = 10, activation = \"softmax\"))\n",
        "model1.add(Dense(units = y_train_en.shape[1], activation = \"softmax\"))\n",
        "\n",
        "model1.summary()"
      ],
      "metadata": {
        "colab": {
          "base_uri": "https://localhost:8080/"
        },
        "id": "Un_PlPHb7WGh",
        "outputId": "5acfc92a-902f-4df1-8312-61d218a9915f"
      },
      "execution_count": 10,
      "outputs": [
        {
          "output_type": "stream",
          "name": "stdout",
          "text": [
            "Model: \"sequential\"\n",
            "_________________________________________________________________\n",
            " Layer (type)                Output Shape              Param #   \n",
            "=================================================================\n",
            " dense (Dense)               (None, 512)               401920    \n",
            "                                                                 \n",
            " dense_1 (Dense)             (None, 256)               131328    \n",
            "                                                                 \n",
            " dense_2 (Dense)             (None, 10)                2570      \n",
            "                                                                 \n",
            "=================================================================\n",
            "Total params: 535,818\n",
            "Trainable params: 535,818\n",
            "Non-trainable params: 0\n",
            "_________________________________________________________________\n"
          ]
        }
      ]
    },
    {
      "cell_type": "code",
      "source": [
        "# @title 컴파일\n",
        "model1.compile(loss = \"categorical_crossentropy\", optimizer = \"adam\", metrics = [\"accuracy\"])"
      ],
      "metadata": {
        "id": "QwzzGuF3-3bu"
      },
      "execution_count": 11,
      "outputs": []
    },
    {
      "cell_type": "code",
      "source": [
        "# @title 학습\n",
        "# @markdown - batch_size: 한번에 학습할 때 사용할 데이터의 수\n",
        "\n",
        "# @markdown - validation_data: 검증데이터 셋 설정\n",
        "\n",
        "h1 = model1.fit(X_train, y_train_en, epochs = 10,\n",
        "                batch_size = 100, validation_data=(X_test, y_test_en))"
      ],
      "metadata": {
        "colab": {
          "base_uri": "https://localhost:8080/"
        },
        "id": "gXEK4Nf1_CiW",
        "outputId": "a85588e4-012d-4828-ffc1-f7c0b83429e2"
      },
      "execution_count": 12,
      "outputs": [
        {
          "output_type": "stream",
          "name": "stdout",
          "text": [
            "Epoch 1/10\n",
            "600/600 [==============================] - 10s 15ms/step - loss: 0.4634 - accuracy: 0.8681 - val_loss: 0.2293 - val_accuracy: 0.9333\n",
            "Epoch 2/10\n",
            "600/600 [==============================] - 8s 14ms/step - loss: 0.2026 - accuracy: 0.9401 - val_loss: 0.1729 - val_accuracy: 0.9484\n",
            "Epoch 3/10\n",
            "600/600 [==============================] - 8s 13ms/step - loss: 0.1454 - accuracy: 0.9562 - val_loss: 0.1282 - val_accuracy: 0.9617\n",
            "Epoch 4/10\n",
            "600/600 [==============================] - 9s 15ms/step - loss: 0.1096 - accuracy: 0.9672 - val_loss: 0.0988 - val_accuracy: 0.9692\n",
            "Epoch 5/10\n",
            "600/600 [==============================] - 12s 21ms/step - loss: 0.0835 - accuracy: 0.9748 - val_loss: 0.0881 - val_accuracy: 0.9726\n",
            "Epoch 6/10\n",
            "600/600 [==============================] - 9s 14ms/step - loss: 0.0658 - accuracy: 0.9800 - val_loss: 0.0885 - val_accuracy: 0.9719\n",
            "Epoch 7/10\n",
            "600/600 [==============================] - 9s 16ms/step - loss: 0.0510 - accuracy: 0.9849 - val_loss: 0.0743 - val_accuracy: 0.9772\n",
            "Epoch 8/10\n",
            "600/600 [==============================] - 7s 12ms/step - loss: 0.0408 - accuracy: 0.9880 - val_loss: 0.0714 - val_accuracy: 0.9781\n",
            "Epoch 9/10\n",
            "600/600 [==============================] - 9s 15ms/step - loss: 0.0329 - accuracy: 0.9900 - val_loss: 0.0695 - val_accuracy: 0.9788\n",
            "Epoch 10/10\n",
            "600/600 [==============================] - 8s 13ms/step - loss: 0.0253 - accuracy: 0.9926 - val_loss: 0.0677 - val_accuracy: 0.9793\n"
          ]
        }
      ]
    },
    {
      "cell_type": "markdown",
      "source": [
        "# 베스트 모델과 학습 중단"
      ],
      "metadata": {
        "id": "riyAv9QIifwd"
      }
    },
    {
      "cell_type": "code",
      "source": [
        "from tensorflow.keras.callbacks import ModelCheckpoint, EarlyStopping\n",
        "import os\n",
        "\n",
        "# 모델을 저장하기 위한 폴더\n",
        "model_dir = \"./model/\"\n",
        "\n",
        "# 폴더 없으면 생성\n",
        "if not os.path.exists(model_dir):\n",
        "  os.mkdir(model_dir)\n",
        "\n",
        "# 저장할 파일명 설정\n",
        "# epoch: 03d: epoch 값을 정수형(d) 자리로 출력 (03)\n",
        "# val_accuracy: .3f: val_accuracy 값을 실수형(f) 소수점 세번째 자리까지 출력(.3f)\n",
        "# 파일명 예시: best_010_0.93_0.02.hdf5\n",
        "file_path = model_dir + \"best_{epoch:03d}_{accuracy:.3f}_{val_accuracy:.3f}.hdf5\"\n",
        "\n",
        "# filepath: 저장할 파일 명\n",
        "# monitor: 베스트 모델의 판단 기준\n",
        "# save_best_only: True면 더 나은 모델만 저장\n",
        "ms = ModelCheckpoint(filepath = file_path, monitor=\"val_accuracy\", save_best_only=True)\n",
        "\n",
        "# monitor: 학습 중단 기준(베스트 모델의 판단 기준과 동일하게 설정)\n",
        "# patience: 더 나은 모델이 아니더라도 몇 epoch를 대기할 것인지 설정\n",
        "es = EarlyStopping(monitor=\"val_accuracy\", patience = 10)"
      ],
      "metadata": {
        "id": "Uq1p4wbqie7m"
      },
      "execution_count": 16,
      "outputs": []
    },
    {
      "cell_type": "code",
      "source": [
        "# @title 학습\n",
        "# @markdown - batch_size: 한번에 학습할 때 사용할 데이터의 수\n",
        "\n",
        "# @markdown - validation_data: 검증데이터 셋 설정\n",
        "\n",
        "h1 = model1.fit(X_train, y_train_en, epochs = 10,\n",
        "                batch_size = 100, validation_data=(X_test, y_test_en), callbacks = [ms, es])"
      ],
      "metadata": {
        "colab": {
          "base_uri": "https://localhost:8080/"
        },
        "id": "PbgDm5WCievq",
        "outputId": "baee5340-b24a-4448-d12f-ba7919a43225"
      },
      "execution_count": null,
      "outputs": [
        {
          "output_type": "stream",
          "name": "stdout",
          "text": [
            "Epoch 1/10\n",
            "600/600 [==============================] - 7s 12ms/step - loss: 0.0204 - accuracy: 0.9943 - val_loss: 0.0650 - val_accuracy: 0.9801\n",
            "Epoch 2/10\n",
            "600/600 [==============================] - 9s 15ms/step - loss: 0.0163 - accuracy: 0.9956 - val_loss: 0.0667 - val_accuracy: 0.9812\n",
            "Epoch 3/10\n",
            "600/600 [==============================] - 8s 14ms/step - loss: 0.0133 - accuracy: 0.9963 - val_loss: 0.0662 - val_accuracy: 0.9806\n",
            "Epoch 4/10\n",
            "600/600 [==============================] - 8s 13ms/step - loss: 0.0112 - accuracy: 0.9967 - val_loss: 0.0663 - val_accuracy: 0.9808\n",
            "Epoch 5/10\n",
            "600/600 [==============================] - 9s 14ms/step - loss: 0.0081 - accuracy: 0.9977 - val_loss: 0.0743 - val_accuracy: 0.9806\n",
            "Epoch 6/10\n",
            "600/600 [==============================] - 7s 12ms/step - loss: 0.0075 - accuracy: 0.9978 - val_loss: 0.0719 - val_accuracy: 0.9797\n",
            "Epoch 7/10\n",
            "600/600 [==============================] - 9s 15ms/step - loss: 0.0070 - accuracy: 0.9979 - val_loss: 0.0711 - val_accuracy: 0.9817\n",
            "Epoch 8/10\n",
            "600/600 [==============================] - 7s 12ms/step - loss: 0.0047 - accuracy: 0.9987 - val_loss: 0.0790 - val_accuracy: 0.9792\n",
            "Epoch 9/10\n",
            "600/600 [==============================] - 9s 15ms/step - loss: 0.0042 - accuracy: 0.9989 - val_loss: 0.0769 - val_accuracy: 0.9822\n",
            "Epoch 10/10\n",
            "600/600 [==============================] - 9s 14ms/step - loss: 0.0064 - accuracy: 0.9980 - val_loss: 0.0766 - val_accuracy: 0.9806\n"
          ]
        }
      ]
    },
    {
      "cell_type": "code",
      "source": [],
      "metadata": {
        "id": "gGqDHJttieiT"
      },
      "execution_count": null,
      "outputs": []
    },
    {
      "cell_type": "code",
      "source": [
        "# @title 시각화\n",
        "import matplotlib.pyplot as plt\n",
        "import numpy as np\n",
        "\n",
        "ep = np.arange(1, 11)\n",
        "\n",
        "# 정확도\n",
        "plt.plot(ep, h1.history[\"accuracy\"], color = \"blue\", label = \"train\")\n",
        "plt.plot(ep, h1.history[\"val_accuracy\"], color = \"green\", label = \"test\")\n",
        "plt.legend()\n",
        "plt.grid()\n",
        "plt.show()\n",
        "\n",
        "# loss\n",
        "plt.plot(ep, h1.history[\"loss\"], color = \"blue\", label = \"train\")\n",
        "plt.plot(ep, h1.history[\"val_loss\"], color = \"green\", label = \"test\")\n",
        "plt.legend()\n",
        "plt.grid()\n",
        "plt.show()"
      ],
      "metadata": {
        "colab": {
          "base_uri": "https://localhost:8080/",
          "height": 843
        },
        "id": "79LDDiMXAppX",
        "outputId": "82047cb4-0d66-4c0c-8688-9bf417e33de0"
      },
      "execution_count": 13,
      "outputs": [
        {
          "output_type": "display_data",
          "data": {
            "text/plain": [
              "<Figure size 640x480 with 1 Axes>"
            ],
            "image/png": "[encoded data removed]"
          },
          "metadata": {}
        },
        {
          "output_type": "display_data",
          "data": {
            "text/plain": [
              "<Figure size 640x480 with 1 Axes>"
            ],
            "image/png": "[encoded data removed]"
          },
          "metadata": {}
        }
      ]
    },
    {
      "cell_type": "code",
      "source": [
        "# @title 예측하기\n",
        "pred = model1.predict(X_test[125:126])\n",
        "\n",
        "print(pred)\n",
        "print(y_test[125:126])"
      ],
      "metadata": {
        "colab": {
          "base_uri": "https://localhost:8080/"
        },
        "id": "Jx7HDoxVIhAL",
        "outputId": "57d10309-053b-4d03-a3b9-f55cf15ce7f6"
      },
      "execution_count": 14,
      "outputs": [
        {
          "output_type": "stream",
          "name": "stdout",
          "text": [
            "1/1 [==============================] - 0s 97ms/step\n",
            "[[2.44193785e-08 4.38226452e-05 6.68562352e-05 3.02278931e-05\n",
            "  3.94687336e-03 2.63164765e-07 2.40953284e-08 5.45080525e-07\n",
            "  1.15361756e-04 9.95795965e-01]]\n",
            "[9]\n"
          ]
        }
      ]
    },
    {
      "cell_type": "code",
      "source": [
        "# @title 직접 쓴 손글씨 숫자 인식하기\n",
        "# 이미지 가져오기\n",
        "import PIL.Image as pilimg\n",
        "\n",
        "gray_img = pilimg.open(\"./Data/3.png\").convert(\"L\")\n",
        "\n",
        "# 파이썬 이미지 배열로 변환\n",
        "pix = np.array(gray_img)\n",
        "\n",
        "pix.shape"
      ],
      "metadata": {
        "id": "FEpSn9ZdIy2u",
        "colab": {
          "base_uri": "https://localhost:8080/",
          "height": 367
        },
        "outputId": "0a1d2c1b-560a-4ea5-8d59-8ae0bf34a192"
      },
      "execution_count": 15,
      "outputs": [
        {
          "output_type": "error",
          "ename": "FileNotFoundError",
          "evalue": "ignored",
          "traceback": [
            "\u001b[0;31m---------------------------------------------------------------------------\u001b[0m",
            "\u001b[0;31mFileNotFoundError\u001b[0m                         Traceback (most recent call last)",
            "\u001b[0;32m<ipython-input-15-dc900b18637f>\u001b[0m in \u001b[0;36m<cell line: 5>\u001b[0;34m()\u001b[0m\n\u001b[1;32m      3\u001b[0m \u001b[0;32mimport\u001b[0m \u001b[0mPIL\u001b[0m\u001b[0;34m.\u001b[0m\u001b[0mImage\u001b[0m \u001b[0;32mas\u001b[0m \u001b[0mpilimg\u001b[0m\u001b[0;34m\u001b[0m\u001b[0;34m\u001b[0m\u001b[0m\n\u001b[1;32m      4\u001b[0m \u001b[0;34m\u001b[0m\u001b[0m\n\u001b[0;32m----> 5\u001b[0;31m \u001b[0mgray_img\u001b[0m \u001b[0;34m=\u001b[0m \u001b[0mpilimg\u001b[0m\u001b[0;34m.\u001b[0m\u001b[0mopen\u001b[0m\u001b[0;34m(\u001b[0m\u001b[0;34m\"./Data/3.png\"\u001b[0m\u001b[0;34m)\u001b[0m\u001b[0;34m.\u001b[0m\u001b[0mconvert\u001b[0m\u001b[0;34m(\u001b[0m\u001b[0;34m\"L\"\u001b[0m\u001b[0;34m)\u001b[0m\u001b[0;34m\u001b[0m\u001b[0;34m\u001b[0m\u001b[0m\n\u001b[0m\u001b[1;32m      6\u001b[0m \u001b[0;34m\u001b[0m\u001b[0m\n\u001b[1;32m      7\u001b[0m \u001b[0;31m# 파이썬 이미지 배열로 변환\u001b[0m\u001b[0;34m\u001b[0m\u001b[0;34m\u001b[0m\u001b[0m\n",
            "\u001b[0;32m/usr/local/lib/python3.10/dist-packages/PIL/Image.py\u001b[0m in \u001b[0;36mopen\u001b[0;34m(fp, mode, formats)\u001b[0m\n\u001b[1;32m   3225\u001b[0m \u001b[0;34m\u001b[0m\u001b[0m\n\u001b[1;32m   3226\u001b[0m     \u001b[0;32mif\u001b[0m \u001b[0mfilename\u001b[0m\u001b[0;34m:\u001b[0m\u001b[0;34m\u001b[0m\u001b[0;34m\u001b[0m\u001b[0m\n\u001b[0;32m-> 3227\u001b[0;31m         \u001b[0mfp\u001b[0m \u001b[0;34m=\u001b[0m \u001b[0mbuiltins\u001b[0m\u001b[0;34m.\u001b[0m\u001b[0mopen\u001b[0m\u001b[0;34m(\u001b[0m\u001b[0mfilename\u001b[0m\u001b[0;34m,\u001b[0m \u001b[0;34m\"rb\"\u001b[0m\u001b[0;34m)\u001b[0m\u001b[0;34m\u001b[0m\u001b[0;34m\u001b[0m\u001b[0m\n\u001b[0m\u001b[1;32m   3228\u001b[0m         \u001b[0mexclusive_fp\u001b[0m \u001b[0;34m=\u001b[0m \u001b[0;32mTrue\u001b[0m\u001b[0;34m\u001b[0m\u001b[0;34m\u001b[0m\u001b[0m\n\u001b[1;32m   3229\u001b[0m \u001b[0;34m\u001b[0m\u001b[0m\n",
            "\u001b[0;31mFileNotFoundError\u001b[0m: [Errno 2] No such file or directory: './Data/3.png'"
          ]
        }
      ]
    },
    {
      "cell_type": "code",
      "source": [
        "plt.imshow(pix, cmap = \"gray\")\n",
        "plt.show()"
      ],
      "metadata": {
        "id": "-ne_41x6Mewf"
      },
      "execution_count": null,
      "outputs": []
    },
    {
      "cell_type": "code",
      "source": [
        "pred = model1.predict(new_img)\n",
        "\n",
        "pred"
      ],
      "metadata": {
        "id": "drpZ-rYQOiRf"
      },
      "execution_count": null,
      "outputs": []
    },
    {
      "cell_type": "code",
      "source": [
        "np.argmax(pred)"
      ],
      "metadata": {
        "id": "KA6_WgmdOi0Z"
      },
      "execution_count": null,
      "outputs": []
    }
  ]
}