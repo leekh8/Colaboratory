{
  "nbformat": 4,
  "nbformat_minor": 0,
  "metadata": {
    "colab": {
      "provenance": [],
      "mount_file_id": "10ln-LM_MCUedTr2_dtBKPnitQEV8WzMc",
      "authorship_tag": "ABX9TyNIKnArzRP95lnkC4rMyViL",
      "include_colab_link": true
    },
    "kernelspec": {
      "name": "python3",
      "display_name": "Python 3"
    },
    "language_info": {
      "name": "python"
    }
  },
  "cells": [
    {
      "cell_type": "markdown",
      "metadata": {
        "id": "view-in-github",
        "colab_type": "text"
      },
      "source": [
        "<a href=\"https://colab.research.google.com/github/leekh8/Colaboratory/blob/main/ex05_%EB%8B%A4%EC%A7%84%EB%B6%84%EB%A5%98_%EC%8B%A4%EC%8A%B5.ipynb\" target=\"_parent\"><img src=\"https://colab.research.google.com/assets/colab-badge.svg\" alt=\"Open In Colab\"/></a>"
      ]
    },
    {
      "cell_type": "code",
      "source": [
        "from google.colab import drive\n",
        "drive.mount('/content/drive')\n",
        "%cd '/content/drive/MyDrive/Colab Notebooks/Colaboratory/AISchool/'"
      ],
      "metadata": {
        "colab": {
          "base_uri": "https://localhost:8080/"
        },
        "id": "JsuXaZGaxFlA",
        "outputId": "8cfdfe7a-3070-42ca-aa7c-066ac9020a4f"
      },
      "execution_count": 1,
      "outputs": [
        {
          "output_type": "stream",
          "name": "stdout",
          "text": [
            "Mounted at /content/drive\n",
            "/content/drive/MyDrive/Colab Notebooks/Colaboratory/AISchool\n"
          ]
        }
      ]
    },
    {
      "cell_type": "code",
      "source": [
        "# @title 데이터 다운로드\n",
        "from tensorflow.keras.datasets import mnist\n",
        "\n",
        "(X_train, y_train), (X_test, y_test) = mnist.load_data()\n",
        "X_train.shape, y_train.shape, X_test.shape, y_test.shape"
      ],
      "metadata": {
        "colab": {
          "base_uri": "https://localhost:8080/"
        },
        "id": "hpR1JSdLyiOk",
        "outputId": "b8d3c168-95b1-4c7b-b045-9700016a137a"
      },
      "execution_count": 2,
      "outputs": [
        {
          "output_type": "stream",
          "name": "stdout",
          "text": [
            "Downloading data from https://storage.googleapis.com/tensorflow/tf-keras-datasets/mnist.npz\n",
            "11490434/11490434 [==============================] - 0s 0us/step\n"
          ]
        },
        {
          "output_type": "execute_result",
          "data": {
            "text/plain": [
              "((60000, 28, 28), (60000,), (10000, 28, 28), (10000,))"
            ]
          },
          "metadata": {},
          "execution_count": 2
        }
      ]
    },
    {
      "cell_type": "code",
      "source": [
        "# @markdown # 손글씨 숫자 데이터셋\n",
        "# @markdown - 훈련 데이터 6만개, 테스트 데이터 만개\n",
        "# @markdown - 각각의 데이터는 28 x 28 크기로 구성\n",
        "# @markdown - 흑백 이미지 (0-255)로 구성\n",
        "# @markdown - 배경은 검정색, 글씨가 흰색로 구성"
      ],
      "metadata": {
        "cellView": "form",
        "id": "mqSoGZLNxdpY"
      },
      "execution_count": null,
      "outputs": []
    },
    {
      "cell_type": "code",
      "source": [
        "# @title 데이터 하나 확인\n",
        "import matplotlib.pyplot as plt\n",
        "\n",
        "digit = X_train[0]\n",
        "label = y_train[0]\n",
        "\n",
        "plt.imshow(digit, cmap = \"gray\")\n",
        "plt.show()\n",
        "\n",
        "print(label)"
      ],
      "metadata": {
        "colab": {
          "base_uri": "https://localhost:8080/",
          "height": 447
        },
        "id": "YffkqnYFxuAm",
        "outputId": "58f1cd5c-9607-45d8-dff9-527fad442433"
      },
      "execution_count": 3,
      "outputs": [
        {
          "output_type": "display_data",
          "data": {
            "text/plain": [
              "<Figure size 640x480 with 1 Axes>"
            ],
            "image/png": "[encoded data removed]"
          },
          "metadata": {}
        },
        {
          "output_type": "stream",
          "name": "stdout",
          "text": [
            "5\n"
          ]
        }
      ]
    },
    {
      "cell_type": "code",
      "source": [
        "# @markdown - 데이터 전처리\n",
        "# @markdown   - 2차원 데이터를 1차원 데이터로 변환 (DNN 층의 입력이 1차원 이므로)\n",
        "# @markdown   - 데이터 값의 범위를 0-255에서 0-1로 변환 (정규화(Scaling)) -> 과적합 줄어듬"
      ],
      "metadata": {
        "cellView": "form",
        "id": "Svpwp2lTzgWq"
      },
      "execution_count": null,
      "outputs": []
    },
    {
      "cell_type": "code",
      "source": [
        "# @title 2차원 -> 1차원\n",
        "X_train = X_train.reshape(60000, 28*28)\n",
        "X_test = X_test.reshape(10000, 28*28)"
      ],
      "metadata": {
        "id": "vGGBtnpO4Lx_"
      },
      "execution_count": 4,
      "outputs": []
    },
    {
      "cell_type": "code",
      "source": [
        "# @title 스케일링\n",
        "X_train = X_train.astype(\"float32\") / 255\n",
        "X_test = X_test.astype(\"float32\") / 255\n",
        "\n",
        "X_train.shape, X_test.shape"
      ],
      "metadata": {
        "colab": {
          "base_uri": "https://localhost:8080/"
        },
        "id": "fvjivDtX4iB4",
        "outputId": "d24da6d7-1fe6-4539-d80a-684abe934c69"
      },
      "execution_count": 5,
      "outputs": [
        {
          "output_type": "execute_result",
          "data": {
            "text/plain": [
              "((60000, 784), (10000, 784))"
            ]
          },
          "metadata": {},
          "execution_count": 5
        }
      ]
    },
    {
      "cell_type": "code",
      "source": [
        "# @title y 원핫인코딩\n",
        "from tensorflow.keras.utils import to_categorical\n",
        "\n",
        "y_train_en = to_categorical(y_train)\n",
        "y_test_en = to_categorical(y_test)\n",
        "\n",
        "y_train_en.shape, y_test_en.shape"
      ],
      "metadata": {
        "colab": {
          "base_uri": "https://localhost:8080/"
        },
        "id": "LS21IWe35Nz2",
        "outputId": "6a294c40-6fec-43f3-aba7-7a5fcf5a3053"
      },
      "execution_count": 6,
      "outputs": [
        {
          "output_type": "execute_result",
          "data": {
            "text/plain": [
              "((60000, 10), (10000, 10))"
            ]
          },
          "metadata": {},
          "execution_count": 6
        }
      ]
    },
    {
      "cell_type": "code",
      "source": [
        "# @title 라벨값 확인\n",
        "import pandas as pd\n",
        "\n",
        "print(pd.Series(y_train).unique())\n",
        "print(pd.Series(y_test).unique())"
      ],
      "metadata": {
        "id": "tjh137qu6Rgb",
        "outputId": "dc50b0b5-a824-4743-8abf-823e2fcec8fb",
        "colab": {
          "base_uri": "https://localhost:8080/"
        }
      },
      "execution_count": 7,
      "outputs": [
        {
          "output_type": "stream",
          "name": "stdout",
          "text": [
            "[5 0 4 1 9 2 3 6 7 8]\n",
            "[7 2 1 0 4 9 5 6 3 8]\n"
          ]
        }
      ]
    },
    {
      "cell_type": "code",
      "source": [
        "from tensorflow.keras.models import Sequential\n",
        "from tensorflow.keras.layers import Dense\n",
        "\n",
        "model1 = Sequential()\n",
        "\n",
        "# 입력층\n",
        "# model1.add(Dense(units = 512, input_dim = 28 * 28, activation = \"sigmoid\"))\n",
        "model1.add(Dense(units = 512, input_dim = X_train.shape[1], activation = \"sigmoid\"))\n",
        "\n",
        "# 은닉층\n",
        "model1.add(Dense(units = 256, activation = \"sigmoid\"))\n",
        "\n",
        "# 출력층\n",
        "# model1.add(Dense(units = 10, activation = \"softmax\"))\n",
        "model1.add(Dense(units = y_train_en.shape[1], activation = \"softmax\"))\n",
        "\n",
        "model1.summary()"
      ],
      "metadata": {
        "colab": {
          "base_uri": "https://localhost:8080/"
        },
        "id": "Un_PlPHb7WGh",
        "outputId": "e94f6c3a-aec5-4464-e967-7232d6593e8a"
      },
      "execution_count": 8,
      "outputs": [
        {
          "output_type": "stream",
          "name": "stdout",
          "text": [
            "Model: \"sequential\"\n",
            "_________________________________________________________________\n",
            " Layer (type)                Output Shape              Param #   \n",
            "=================================================================\n",
            " dense (Dense)               (None, 512)               401920    \n",
            "                                                                 \n",
            " dense_1 (Dense)             (None, 256)               131328    \n",
            "                                                                 \n",
            " dense_2 (Dense)             (None, 10)                2570      \n",
            "                                                                 \n",
            "=================================================================\n",
            "Total params: 535,818\n",
            "Trainable params: 535,818\n",
            "Non-trainable params: 0\n",
            "_________________________________________________________________\n"
          ]
        }
      ]
    },
    {
      "cell_type": "code",
      "source": [
        "# @title 컴파일\n",
        "model1.compile(loss = \"categorical_crossentropy\", optimizer = \"adam\", metrics = [\"accuracy\"])"
      ],
      "metadata": {
        "id": "QwzzGuF3-3bu"
      },
      "execution_count": 9,
      "outputs": []
    },
    {
      "cell_type": "code",
      "source": [
        "# @title 학습\n",
        "# @markdown - batch_size: 한번에 학습할 때 사용할 데이터의 수\n",
        "\n",
        "# @markdown - validation_data: 검증데이터 셋 설정\n",
        "\n",
        "h1 = model1.fit(X_train, y_train_en, epochs = 10,\n",
        "                batch_size = 100, validation_data=(X_test, y_test_en))"
      ],
      "metadata": {
        "colab": {
          "base_uri": "https://localhost:8080/"
        },
        "id": "gXEK4Nf1_CiW",
        "outputId": "fb7f0cb1-59fc-4980-f480-b756ea96842a"
      },
      "execution_count": 12,
      "outputs": [
        {
          "output_type": "stream",
          "name": "stdout",
          "text": [
            "Epoch 1/10\n",
            "600/600 [==============================] - 6s 9ms/step - loss: 0.4640 - accuracy: 0.8718 - val_loss: 0.2393 - val_accuracy: 0.9290\n",
            "Epoch 2/10\n",
            "600/600 [==============================] - 4s 7ms/step - loss: 0.2021 - accuracy: 0.9395 - val_loss: 0.1662 - val_accuracy: 0.9507\n",
            "Epoch 3/10\n",
            "600/600 [==============================] - 4s 7ms/step - loss: 0.1436 - accuracy: 0.9574 - val_loss: 0.1219 - val_accuracy: 0.9631\n",
            "Epoch 4/10\n",
            "600/600 [==============================] - 5s 9ms/step - loss: 0.1064 - accuracy: 0.9688 - val_loss: 0.1071 - val_accuracy: 0.9663\n",
            "Epoch 5/10\n",
            "600/600 [==============================] - 4s 7ms/step - loss: 0.0818 - accuracy: 0.9750 - val_loss: 0.0885 - val_accuracy: 0.9719\n",
            "Epoch 6/10\n",
            "600/600 [==============================] - 4s 7ms/step - loss: 0.0633 - accuracy: 0.9807 - val_loss: 0.0825 - val_accuracy: 0.9735\n",
            "Epoch 7/10\n",
            "600/600 [==============================] - 5s 9ms/step - loss: 0.0503 - accuracy: 0.9845 - val_loss: 0.0704 - val_accuracy: 0.9780\n",
            "Epoch 8/10\n",
            "600/600 [==============================] - 4s 7ms/step - loss: 0.0399 - accuracy: 0.9877 - val_loss: 0.0702 - val_accuracy: 0.9773\n",
            "Epoch 9/10\n",
            "600/600 [==============================] - 5s 8ms/step - loss: 0.0311 - accuracy: 0.9905 - val_loss: 0.0717 - val_accuracy: 0.9774\n",
            "Epoch 10/10\n",
            "600/600 [==============================] - 5s 8ms/step - loss: 0.0245 - accuracy: 0.9927 - val_loss: 0.0720 - val_accuracy: 0.9788\n"
          ]
        }
      ]
    },
    {
      "cell_type": "code",
      "source": [
        "# @title 시각화\n",
        "import matplotlib.pyplot as plt\n",
        "import numpy as np\n",
        "\n",
        "ep = np.arange(1, 11)\n",
        "\n",
        "# 정확도\n",
        "plt.plot(ep, h1.history[\"accuracy\"], color = \"blue\", label = \"train\")\n",
        "plt.plot(ep, h1.history[\"val_accuracy\"], color = \"green\", label = \"test\")\n",
        "plt.legend()\n",
        "plt.grid()\n",
        "plt.show()\n",
        "\n",
        "# loss\n",
        "plt.plot(ep, h1.history[\"loss\"], color = \"blue\", label = \"train\")\n",
        "plt.plot(ep, h1.history[\"val_loss\"], color = \"green\", label = \"test\")\n",
        "plt.legend()\n",
        "plt.grid()\n",
        "plt.show()"
      ],
      "metadata": {
        "colab": {
          "base_uri": "https://localhost:8080/",
          "height": 843
        },
        "id": "79LDDiMXAppX",
        "outputId": "79f1f1a7-29cd-4104-86e7-c2a00987e0ee"
      },
      "execution_count": 14,
      "outputs": [
        {
          "output_type": "display_data",
          "data": {
            "text/plain": [
              "<Figure size 640x480 with 1 Axes>"
            ],
            "image/png": "[encoded data removed]"
          },
          "metadata": {}
        },
        {
          "output_type": "display_data",
          "data": {
            "text/plain": [
              "<Figure size 640x480 with 1 Axes>"
            ],
            "image/png": "[encoded data removed]"
          },
          "metadata": {}
        }
      ]
    },
    {
      "cell_type": "code",
      "source": [
        "# @title 예측하기\n",
        "pred = model1.predict(X_test[125:126])\n",
        "\n",
        "print(pred)\n",
        "print(y_test[125:126])"
      ],
      "metadata": {
        "colab": {
          "base_uri": "https://localhost:8080/"
        },
        "id": "Jx7HDoxVIhAL",
        "outputId": "c8a256b2-2357-4408-8eed-2fab61c0116f"
      },
      "execution_count": 20,
      "outputs": [
        {
          "output_type": "stream",
          "name": "stdout",
          "text": [
            "1/1 [==============================] - 0s 22ms/step\n",
            "[[1.0989827e-07 6.4058913e-06 3.5534991e-04 2.6660701e-04 3.7173466e-03\n",
            "  6.7704332e-07 8.6490132e-08 8.2146589e-06 4.1975020e-04 9.9522543e-01]]\n",
            "[9]\n"
          ]
        }
      ]
    },
    {
      "cell_type": "code",
      "source": [
        "# @title 직접 쓴 손글씨 숫자 인식하기\n",
        "# 이미지 가져오기\n",
        "import PIL.Image as pilimg\n",
        "\n",
        "gray_img = pilimg.open(\"./Data/3.png\").convert(\"L\")\n",
        "\n",
        "# 파이썬 이미지 배열로 변환\n",
        "pix = np.array(gray_img)\n",
        "\n",
        "pix.shape"
      ],
      "metadata": {
        "id": "FEpSn9ZdIy2u"
      },
      "execution_count": null,
      "outputs": []
    },
    {
      "cell_type": "code",
      "source": [
        "plt.imshow(pix, cmap = \"gray\")\n",
        "plt.show()"
      ],
      "metadata": {
        "id": "-ne_41x6Mewf"
      },
      "execution_count": null,
      "outputs": []
    },
    {
      "cell_type": "code",
      "source": [
        "pred = model1.predict(new_img)\n",
        "\n",
        "pred"
      ],
      "metadata": {
        "id": "drpZ-rYQOiRf"
      },
      "execution_count": null,
      "outputs": []
    },
    {
      "cell_type": "code",
      "source": [
        "np.argmax(pred)"
      ],
      "metadata": {
        "colab": {
          "base_uri": "https://localhost:8080/"
        },
        "id": "KA6_WgmdOi0Z",
        "outputId": "47649f8e-0eb9-4407-f267-93a6d643bd94"
      },
      "execution_count": 21,
      "outputs": [
        {
          "output_type": "execute_result",
          "data": {
            "text/plain": [
              "9"
            ]
          },
          "metadata": {},
          "execution_count": 21
        }
      ]
    }
  ]
}